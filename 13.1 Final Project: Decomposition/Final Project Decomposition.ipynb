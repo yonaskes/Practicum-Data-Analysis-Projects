{
 "cells": [
  {
   "cell_type": "markdown",
   "metadata": {},
   "source": [
    "# Retail: Assess Sales Outlets' Performance Decomposition"
   ]
  },
  {
   "cell_type": "markdown",
   "metadata": {},
   "source": [
    "### Define the Goal\n",
    "\n",
    "   * What do you want to achieve and why?\n",
    "   \n",
    "   \n",
    "   * Who's interested in what you produce?\n",
    "   \n",
    "   \n",
    "   * What decisions will be made based on your analysis?\n"
   ]
  },
  {
   "cell_type": "markdown",
   "metadata": {},
   "source": [
    "**What do you want to achieve and why?**\n",
    "\n",
    "   * Find the relationship between revenue growth and the probability of churn.\n",
    "   * Identify the relationship between payment frequency and the probability of churn.\n",
    "   * Compare the time since the last purchase with the probability of churn.\n"
   ]
  },
  {
   "cell_type": "markdown",
   "metadata": {},
   "source": [
    "**Who's interested in what you produce?**\n",
    "\n",
    "   * The Home World company in general and the Marketing department in particular.\n",
    "   \n",
    "   * Interested customers."
   ]
  },
  {
   "cell_type": "markdown",
   "metadata": {},
   "source": [
    "**What decisions will be made based on your analysis?**\n",
    "\n",
    "   * To decide whether to continue the loyalty program or not.\n",
    "   \n",
    "   * To confirm whether the loyal customers are satisfied by the loyalty company or not."
   ]
  },
  {
   "cell_type": "markdown",
   "metadata": {},
   "source": [
    "### Specify Details\n",
    "\n",
    "\n",
    "Task: Determine the probability that a customer will leave based on their behavior."
   ]
  },
  {
   "cell_type": "markdown",
   "metadata": {},
   "source": [
    "### Propose Hypotheses\n",
    "\n",
    "   * Loyal customers show lower growth dynamics than average for the sample.\n",
    "   \n",
    "   \n",
    "   * Loyal customers make payments less often than average.\n",
    "   \n",
    "   \n",
    "   * Loyal customers haven't bought anything for a long time.\n"
   ]
  },
  {
   "cell_type": "markdown",
   "metadata": {},
   "source": [
    "### Action Plan\n",
    "\n",
    "Then it follows from the hypotheses that we need to:\n",
    "\n",
    "\n",
    "   * Look into the relationship between revenue growth and the probability of churn.\n",
    "   \n",
    "   \n",
    "   * Identify the relationship between payment frequency and the probability of churn.\n",
    "   \n",
    "   \n",
    "   * Compare the time since the last purchase with the probability of churn.\n"
   ]
  },
  {
   "cell_type": "markdown",
   "metadata": {},
   "source": [
    "### Description of the data\n",
    "\n",
    "The dataset contains data on purchases made at the building-material retailer Home World. All of its customers have membership cards. Moreover, they can become members of the store's loyalty program for $20 per month. The program includes discounts, information on special offers, and gifts."
   ]
  },
  {
   "cell_type": "markdown",
   "metadata": {},
   "source": [
    "`retail_dataset_us.csv` contains the following fields::\n",
    "\n",
    "- `purchaseId`\n",
    "- `item_ID`\n",
    "- `purchasedate`\n",
    "- `Quantity` — the number of items in the purchase\n",
    "- `CustomerID`\n",
    "- `ShopID`\n",
    "- `loyalty_program` — whether the customer is a member of the loyalty program"
   ]
  },
  {
   "cell_type": "markdown",
   "metadata": {},
   "source": [
    "`product_codes_us.csv` contains the following fields:\n",
    "\n",
    "- `productID`\n",
    "- `price_per_one`"
   ]
  },
  {
   "cell_type": "markdown",
   "metadata": {},
   "source": [
    "# Step 1. Download the data"
   ]
  },
  {
   "cell_type": "code",
   "execution_count": 39,
   "metadata": {},
   "outputs": [],
   "source": [
    "import pandas as pd\n",
    "import warnings\n",
    "warnings.filterwarnings('ignore')"
   ]
  },
  {
   "cell_type": "code",
   "execution_count": 40,
   "metadata": {
    "scrolled": false
   },
   "outputs": [
    {
     "name": "stdout",
     "output_type": "stream",
     "text": [
      "Try to read files\n"
     ]
    },
    {
     "data": {
      "text/html": [
       "<div>\n",
       "<style scoped>\n",
       "    .dataframe tbody tr th:only-of-type {\n",
       "        vertical-align: middle;\n",
       "    }\n",
       "\n",
       "    .dataframe tbody tr th {\n",
       "        vertical-align: top;\n",
       "    }\n",
       "\n",
       "    .dataframe thead th {\n",
       "        text-align: right;\n",
       "    }\n",
       "</style>\n",
       "<table border=\"1\" class=\"dataframe\">\n",
       "  <thead>\n",
       "    <tr style=\"text-align: right;\">\n",
       "      <th></th>\n",
       "      <th>productID</th>\n",
       "      <th>price_per_one</th>\n",
       "    </tr>\n",
       "  </thead>\n",
       "  <tbody>\n",
       "    <tr>\n",
       "      <th>0</th>\n",
       "      <td>10002</td>\n",
       "      <td>0.85</td>\n",
       "    </tr>\n",
       "    <tr>\n",
       "      <th>1</th>\n",
       "      <td>10080</td>\n",
       "      <td>0.85</td>\n",
       "    </tr>\n",
       "    <tr>\n",
       "      <th>2</th>\n",
       "      <td>10120</td>\n",
       "      <td>0.21</td>\n",
       "    </tr>\n",
       "    <tr>\n",
       "      <th>3</th>\n",
       "      <td>10123C</td>\n",
       "      <td>0.65</td>\n",
       "    </tr>\n",
       "    <tr>\n",
       "      <th>4</th>\n",
       "      <td>10124A</td>\n",
       "      <td>0.42</td>\n",
       "    </tr>\n",
       "  </tbody>\n",
       "</table>\n",
       "</div>"
      ],
      "text/plain": [
       "  productID  price_per_one\n",
       "0     10002           0.85\n",
       "1     10080           0.85\n",
       "2     10120           0.21\n",
       "3    10123C           0.65\n",
       "4    10124A           0.42"
      ]
     },
     "execution_count": 40,
     "metadata": {},
     "output_type": "execute_result"
    }
   ],
   "source": [
    "try:\n",
    "    retail = pd.read_csv('/retail_dataset_us.csv')\n",
    "    product = pd.read_csv('/product_codes_us.csv', sep= ';')\n",
    "except:    \n",
    "    retail = pd.read_csv('/datasets/retail_dataset_us.csv')\n",
    "    product = pd.read_csv('/datasets/product_codes_us.csv', sep= ';')\n",
    "finally:\n",
    "    print('Try to read files')\n",
    "       \n",
    "retail.head()\n",
    "product.head()"
   ]
  },
  {
   "cell_type": "code",
   "execution_count": 41,
   "metadata": {},
   "outputs": [
    {
     "data": {
      "text/html": [
       "<div>\n",
       "<style scoped>\n",
       "    .dataframe tbody tr th:only-of-type {\n",
       "        vertical-align: middle;\n",
       "    }\n",
       "\n",
       "    .dataframe tbody tr th {\n",
       "        vertical-align: top;\n",
       "    }\n",
       "\n",
       "    .dataframe thead th {\n",
       "        text-align: right;\n",
       "    }\n",
       "</style>\n",
       "<table border=\"1\" class=\"dataframe\">\n",
       "  <thead>\n",
       "    <tr style=\"text-align: right;\">\n",
       "      <th></th>\n",
       "      <th>purchaseid</th>\n",
       "      <th>item_ID</th>\n",
       "      <th>Quantity</th>\n",
       "      <th>purchasedate</th>\n",
       "      <th>CustomerID</th>\n",
       "      <th>loyalty_program</th>\n",
       "      <th>ShopID</th>\n",
       "    </tr>\n",
       "  </thead>\n",
       "  <tbody>\n",
       "    <tr>\n",
       "      <th>0</th>\n",
       "      <td>538280</td>\n",
       "      <td>21873</td>\n",
       "      <td>11</td>\n",
       "      <td>2016-12-10 12:50:00</td>\n",
       "      <td>18427.0</td>\n",
       "      <td>0</td>\n",
       "      <td>Shop 3</td>\n",
       "    </tr>\n",
       "    <tr>\n",
       "      <th>1</th>\n",
       "      <td>538862</td>\n",
       "      <td>22195</td>\n",
       "      <td>0</td>\n",
       "      <td>2016-12-14 14:11:00</td>\n",
       "      <td>22389.0</td>\n",
       "      <td>1</td>\n",
       "      <td>Shop 2</td>\n",
       "    </tr>\n",
       "    <tr>\n",
       "      <th>2</th>\n",
       "      <td>538855</td>\n",
       "      <td>21239</td>\n",
       "      <td>7</td>\n",
       "      <td>2016-12-14 13:50:00</td>\n",
       "      <td>22182.0</td>\n",
       "      <td>1</td>\n",
       "      <td>Shop 3</td>\n",
       "    </tr>\n",
       "    <tr>\n",
       "      <th>3</th>\n",
       "      <td>543543</td>\n",
       "      <td>22271</td>\n",
       "      <td>0</td>\n",
       "      <td>2017-02-09 15:33:00</td>\n",
       "      <td>23522.0</td>\n",
       "      <td>1</td>\n",
       "      <td>Shop 28</td>\n",
       "    </tr>\n",
       "    <tr>\n",
       "      <th>4</th>\n",
       "      <td>543812</td>\n",
       "      <td>79321</td>\n",
       "      <td>0</td>\n",
       "      <td>2017-02-13 14:40:00</td>\n",
       "      <td>23151.0</td>\n",
       "      <td>1</td>\n",
       "      <td>Shop 28</td>\n",
       "    </tr>\n",
       "  </tbody>\n",
       "</table>\n",
       "</div>"
      ],
      "text/plain": [
       "  purchaseid item_ID  Quantity         purchasedate  CustomerID  \\\n",
       "0     538280   21873        11  2016-12-10 12:50:00     18427.0   \n",
       "1     538862   22195         0  2016-12-14 14:11:00     22389.0   \n",
       "2     538855   21239         7  2016-12-14 13:50:00     22182.0   \n",
       "3     543543   22271         0  2017-02-09 15:33:00     23522.0   \n",
       "4     543812   79321         0  2017-02-13 14:40:00     23151.0   \n",
       "\n",
       "   loyalty_program   ShopID  \n",
       "0                0   Shop 3  \n",
       "1                1   Shop 2  \n",
       "2                1   Shop 3  \n",
       "3                1  Shop 28  \n",
       "4                1  Shop 28  "
      ]
     },
     "execution_count": 41,
     "metadata": {},
     "output_type": "execute_result"
    }
   ],
   "source": [
    "retail.head()"
   ]
  },
  {
   "cell_type": "code",
   "execution_count": 42,
   "metadata": {},
   "outputs": [
    {
     "data": {
      "text/plain": [
       "(105335, 7)"
      ]
     },
     "execution_count": 42,
     "metadata": {},
     "output_type": "execute_result"
    }
   ],
   "source": [
    "# To know the number of columns and rows in the DataFrame\n",
    "retail.shape"
   ]
  },
  {
   "cell_type": "code",
   "execution_count": 43,
   "metadata": {},
   "outputs": [
    {
     "data": {
      "text/plain": [
       "(3159, 2)"
      ]
     },
     "execution_count": 43,
     "metadata": {},
     "output_type": "execute_result"
    }
   ],
   "source": [
    "# To know the number of columns and rows in the DataFrame\n",
    "product.shape"
   ]
  },
  {
   "cell_type": "code",
   "execution_count": 44,
   "metadata": {
    "scrolled": true
   },
   "outputs": [
    {
     "name": "stdout",
     "output_type": "stream",
     "text": [
      "<class 'pandas.core.frame.DataFrame'>\n",
      "RangeIndex: 105335 entries, 0 to 105334\n",
      "Data columns (total 7 columns):\n",
      " #   Column           Non-Null Count   Dtype  \n",
      "---  ------           --------------   -----  \n",
      " 0   purchaseid       105335 non-null  object \n",
      " 1   item_ID          105335 non-null  object \n",
      " 2   Quantity         105335 non-null  int64  \n",
      " 3   purchasedate     105335 non-null  object \n",
      " 4   CustomerID       69125 non-null   float64\n",
      " 5   loyalty_program  105335 non-null  int64  \n",
      " 6   ShopID           105335 non-null  object \n",
      "dtypes: float64(1), int64(2), object(4)\n",
      "memory usage: 29.0 MB\n"
     ]
    }
   ],
   "source": [
    "# Get information about the DataFrame\n",
    "retail.info(memory_usage='deep')"
   ]
  },
  {
   "cell_type": "code",
   "execution_count": 45,
   "metadata": {},
   "outputs": [
    {
     "name": "stdout",
     "output_type": "stream",
     "text": [
      "<class 'pandas.core.frame.DataFrame'>\n",
      "RangeIndex: 3159 entries, 0 to 3158\n",
      "Data columns (total 2 columns):\n",
      " #   Column         Non-Null Count  Dtype  \n",
      "---  ------         --------------  -----  \n",
      " 0   productID      3159 non-null   object \n",
      " 1   price_per_one  3159 non-null   float64\n",
      "dtypes: float64(1), object(1)\n",
      "memory usage: 217.0 KB\n"
     ]
    }
   ],
   "source": [
    "# Get information about the DataFrame\n",
    "product.info(memory_usage='deep')"
   ]
  },
  {
   "cell_type": "code",
   "execution_count": 46,
   "metadata": {},
   "outputs": [
    {
     "data": {
      "text/plain": [
       "Index(['purchaseid', 'item_ID', 'Quantity', 'purchasedate', 'CustomerID',\n",
       "       'loyalty_program', 'ShopID'],\n",
       "      dtype='object')"
      ]
     },
     "execution_count": 46,
     "metadata": {},
     "output_type": "execute_result"
    }
   ],
   "source": [
    "# To check whether column's name are written in appropriate way\n",
    "retail.columns"
   ]
  },
  {
   "cell_type": "code",
   "execution_count": 47,
   "metadata": {},
   "outputs": [
    {
     "data": {
      "text/plain": [
       "Index(['productID', 'price_per_one'], dtype='object')"
      ]
     },
     "execution_count": 47,
     "metadata": {},
     "output_type": "execute_result"
    }
   ],
   "source": [
    "# To check whether column's name are written in appropriate way\n",
    "product.columns"
   ]
  },
  {
   "cell_type": "code",
   "execution_count": 48,
   "metadata": {},
   "outputs": [
    {
     "data": {
      "text/html": [
       "<div>\n",
       "<style scoped>\n",
       "    .dataframe tbody tr th:only-of-type {\n",
       "        vertical-align: middle;\n",
       "    }\n",
       "\n",
       "    .dataframe tbody tr th {\n",
       "        vertical-align: top;\n",
       "    }\n",
       "\n",
       "    .dataframe thead th {\n",
       "        text-align: right;\n",
       "    }\n",
       "</style>\n",
       "<table border=\"1\" class=\"dataframe\">\n",
       "  <thead>\n",
       "    <tr style=\"text-align: right;\">\n",
       "      <th></th>\n",
       "      <th>Quantity</th>\n",
       "      <th>CustomerID</th>\n",
       "      <th>loyalty_program</th>\n",
       "    </tr>\n",
       "  </thead>\n",
       "  <tbody>\n",
       "    <tr>\n",
       "      <th>count</th>\n",
       "      <td>105335.000000</td>\n",
       "      <td>69125.000000</td>\n",
       "      <td>105335.000000</td>\n",
       "    </tr>\n",
       "    <tr>\n",
       "      <th>mean</th>\n",
       "      <td>7.821218</td>\n",
       "      <td>21019.302047</td>\n",
       "      <td>0.226345</td>\n",
       "    </tr>\n",
       "    <tr>\n",
       "      <th>std</th>\n",
       "      <td>327.946695</td>\n",
       "      <td>1765.444679</td>\n",
       "      <td>0.418467</td>\n",
       "    </tr>\n",
       "    <tr>\n",
       "      <th>min</th>\n",
       "      <td>-74216.000000</td>\n",
       "      <td>18025.000000</td>\n",
       "      <td>0.000000</td>\n",
       "    </tr>\n",
       "    <tr>\n",
       "      <th>25%</th>\n",
       "      <td>0.000000</td>\n",
       "      <td>19544.000000</td>\n",
       "      <td>0.000000</td>\n",
       "    </tr>\n",
       "    <tr>\n",
       "      <th>50%</th>\n",
       "      <td>2.000000</td>\n",
       "      <td>20990.000000</td>\n",
       "      <td>0.000000</td>\n",
       "    </tr>\n",
       "    <tr>\n",
       "      <th>75%</th>\n",
       "      <td>7.000000</td>\n",
       "      <td>22659.000000</td>\n",
       "      <td>0.000000</td>\n",
       "    </tr>\n",
       "    <tr>\n",
       "      <th>max</th>\n",
       "      <td>74214.000000</td>\n",
       "      <td>23962.000000</td>\n",
       "      <td>1.000000</td>\n",
       "    </tr>\n",
       "  </tbody>\n",
       "</table>\n",
       "</div>"
      ],
      "text/plain": [
       "            Quantity    CustomerID  loyalty_program\n",
       "count  105335.000000  69125.000000    105335.000000\n",
       "mean        7.821218  21019.302047         0.226345\n",
       "std       327.946695   1765.444679         0.418467\n",
       "min    -74216.000000  18025.000000         0.000000\n",
       "25%         0.000000  19544.000000         0.000000\n",
       "50%         2.000000  20990.000000         0.000000\n",
       "75%         7.000000  22659.000000         0.000000\n",
       "max     74214.000000  23962.000000         1.000000"
      ]
     },
     "execution_count": 48,
     "metadata": {},
     "output_type": "execute_result"
    }
   ],
   "source": [
    "# To get information about statistical character of the DataFrame\n",
    "retail.describe()"
   ]
  },
  {
   "cell_type": "code",
   "execution_count": 49,
   "metadata": {
    "scrolled": true
   },
   "outputs": [
    {
     "data": {
      "text/html": [
       "<div>\n",
       "<style scoped>\n",
       "    .dataframe tbody tr th:only-of-type {\n",
       "        vertical-align: middle;\n",
       "    }\n",
       "\n",
       "    .dataframe tbody tr th {\n",
       "        vertical-align: top;\n",
       "    }\n",
       "\n",
       "    .dataframe thead th {\n",
       "        text-align: right;\n",
       "    }\n",
       "</style>\n",
       "<table border=\"1\" class=\"dataframe\">\n",
       "  <thead>\n",
       "    <tr style=\"text-align: right;\">\n",
       "      <th></th>\n",
       "      <th>price_per_one</th>\n",
       "    </tr>\n",
       "  </thead>\n",
       "  <tbody>\n",
       "    <tr>\n",
       "      <th>count</th>\n",
       "      <td>3159.000000</td>\n",
       "    </tr>\n",
       "    <tr>\n",
       "      <th>mean</th>\n",
       "      <td>2.954495</td>\n",
       "    </tr>\n",
       "    <tr>\n",
       "      <th>std</th>\n",
       "      <td>7.213808</td>\n",
       "    </tr>\n",
       "    <tr>\n",
       "      <th>min</th>\n",
       "      <td>0.000000</td>\n",
       "    </tr>\n",
       "    <tr>\n",
       "      <th>25%</th>\n",
       "      <td>0.650000</td>\n",
       "    </tr>\n",
       "    <tr>\n",
       "      <th>50%</th>\n",
       "      <td>1.450000</td>\n",
       "    </tr>\n",
       "    <tr>\n",
       "      <th>75%</th>\n",
       "      <td>3.290000</td>\n",
       "    </tr>\n",
       "    <tr>\n",
       "      <th>max</th>\n",
       "      <td>175.000000</td>\n",
       "    </tr>\n",
       "  </tbody>\n",
       "</table>\n",
       "</div>"
      ],
      "text/plain": [
       "       price_per_one\n",
       "count    3159.000000\n",
       "mean        2.954495\n",
       "std         7.213808\n",
       "min         0.000000\n",
       "25%         0.650000\n",
       "50%         1.450000\n",
       "75%         3.290000\n",
       "max       175.000000"
      ]
     },
     "execution_count": 49,
     "metadata": {},
     "output_type": "execute_result"
    }
   ],
   "source": [
    "# To get information about statistical character of the DataFrame\n",
    "product.describe()"
   ]
  },
  {
   "cell_type": "code",
   "execution_count": 50,
   "metadata": {},
   "outputs": [
    {
     "data": {
      "text/plain": [
       "1033"
      ]
     },
     "execution_count": 50,
     "metadata": {},
     "output_type": "execute_result"
    }
   ],
   "source": [
    "# Checking duplicates in the DataFrame\n",
    "retail.duplicated().sum()"
   ]
  },
  {
   "cell_type": "code",
   "execution_count": 51,
   "metadata": {},
   "outputs": [
    {
     "data": {
      "text/plain": [
       "0"
      ]
     },
     "execution_count": 51,
     "metadata": {},
     "output_type": "execute_result"
    }
   ],
   "source": [
    "# Checking duplicates in the DataFrame\n",
    "product.duplicated().sum()"
   ]
  },
  {
   "cell_type": "code",
   "execution_count": 52,
   "metadata": {},
   "outputs": [
    {
     "data": {
      "text/plain": [
       "purchaseid             0\n",
       "item_ID                0\n",
       "Quantity               0\n",
       "purchasedate           0\n",
       "CustomerID         36210\n",
       "loyalty_program        0\n",
       "ShopID                 0\n",
       "dtype: int64"
      ]
     },
     "execution_count": 52,
     "metadata": {},
     "output_type": "execute_result"
    }
   ],
   "source": [
    "# To confirm the missing values of the DataFrame\n",
    "retail.isna().sum()"
   ]
  },
  {
   "cell_type": "code",
   "execution_count": 53,
   "metadata": {},
   "outputs": [
    {
     "data": {
      "text/plain": [
       "productID        0\n",
       "price_per_one    0\n",
       "dtype: int64"
      ]
     },
     "execution_count": 53,
     "metadata": {},
     "output_type": "execute_result"
    }
   ],
   "source": [
    "# To confirm the missing values of the DataFrame\n",
    "product.isna().sum()"
   ]
  },
  {
   "cell_type": "code",
   "execution_count": 54,
   "metadata": {},
   "outputs": [
    {
     "data": {
      "text/plain": [
       "36210"
      ]
     },
     "execution_count": 54,
     "metadata": {},
     "output_type": "execute_result"
    }
   ],
   "source": [
    "# To get the exact number of missing values\n",
    "retail['CustomerID'].isnull().sum()"
   ]
  },
  {
   "cell_type": "code",
   "execution_count": 55,
   "metadata": {
    "scrolled": true
   },
   "outputs": [
    {
     "data": {
      "text/plain": [
       "purchaseid          0.000\n",
       "item_ID             0.000\n",
       "Quantity            0.000\n",
       "purchasedate        0.000\n",
       "CustomerID         34.376\n",
       "loyalty_program     0.000\n",
       "ShopID              0.000\n",
       "Name: %, dtype: float64"
      ]
     },
     "execution_count": 55,
     "metadata": {},
     "output_type": "execute_result"
    }
   ],
   "source": [
    "# To get the percentile information of the columns in the dataframe\n",
    "mis_values = retail.isnull().sum().to_frame('missing_values')\n",
    "mis_values['%'] = round(retail.isnull().sum()*100/len(retail), 3)\n",
    "mis_values['%']"
   ]
  },
  {
   "cell_type": "code",
   "execution_count": 56,
   "metadata": {
    "scrolled": true
   },
   "outputs": [
    {
     "data": {
      "text/html": [
       "<div>\n",
       "<style scoped>\n",
       "    .dataframe tbody tr th:only-of-type {\n",
       "        vertical-align: middle;\n",
       "    }\n",
       "\n",
       "    .dataframe tbody tr th {\n",
       "        vertical-align: top;\n",
       "    }\n",
       "\n",
       "    .dataframe thead th {\n",
       "        text-align: right;\n",
       "    }\n",
       "</style>\n",
       "<table border=\"1\" class=\"dataframe\">\n",
       "  <thead>\n",
       "    <tr style=\"text-align: right;\">\n",
       "      <th></th>\n",
       "      <th>missing_values</th>\n",
       "      <th>%</th>\n",
       "    </tr>\n",
       "  </thead>\n",
       "  <tbody>\n",
       "    <tr>\n",
       "      <th>CustomerID</th>\n",
       "      <td>36210</td>\n",
       "      <td>34.376</td>\n",
       "    </tr>\n",
       "    <tr>\n",
       "      <th>purchaseid</th>\n",
       "      <td>0</td>\n",
       "      <td>0.000</td>\n",
       "    </tr>\n",
       "    <tr>\n",
       "      <th>item_ID</th>\n",
       "      <td>0</td>\n",
       "      <td>0.000</td>\n",
       "    </tr>\n",
       "    <tr>\n",
       "      <th>Quantity</th>\n",
       "      <td>0</td>\n",
       "      <td>0.000</td>\n",
       "    </tr>\n",
       "    <tr>\n",
       "      <th>purchasedate</th>\n",
       "      <td>0</td>\n",
       "      <td>0.000</td>\n",
       "    </tr>\n",
       "    <tr>\n",
       "      <th>loyalty_program</th>\n",
       "      <td>0</td>\n",
       "      <td>0.000</td>\n",
       "    </tr>\n",
       "    <tr>\n",
       "      <th>ShopID</th>\n",
       "      <td>0</td>\n",
       "      <td>0.000</td>\n",
       "    </tr>\n",
       "  </tbody>\n",
       "</table>\n",
       "</div>"
      ],
      "text/plain": [
       "                 missing_values       %\n",
       "CustomerID                36210  34.376\n",
       "purchaseid                    0   0.000\n",
       "item_ID                       0   0.000\n",
       "Quantity                      0   0.000\n",
       "purchasedate                  0   0.000\n",
       "loyalty_program               0   0.000\n",
       "ShopID                        0   0.000"
      ]
     },
     "execution_count": 56,
     "metadata": {},
     "output_type": "execute_result"
    }
   ],
   "source": [
    "mis_values.sort_values(by='%', ascending=False)"
   ]
  },
  {
   "cell_type": "code",
   "execution_count": 57,
   "metadata": {},
   "outputs": [
    {
     "data": {
      "text/plain": [
       "productID        0.0\n",
       "price_per_one    0.0\n",
       "Name: %, dtype: float64"
      ]
     },
     "execution_count": 57,
     "metadata": {},
     "output_type": "execute_result"
    }
   ],
   "source": [
    "# To get the percentile information of the columns in the dataframe\n",
    "mis_values = product.isnull().sum().to_frame('missing_values')\n",
    "mis_values['%'] = round(product.isnull().sum()*100/len(product), 3)\n",
    "mis_values['%']"
   ]
  },
  {
   "cell_type": "code",
   "execution_count": 58,
   "metadata": {},
   "outputs": [
    {
     "data": {
      "text/html": [
       "<div>\n",
       "<style scoped>\n",
       "    .dataframe tbody tr th:only-of-type {\n",
       "        vertical-align: middle;\n",
       "    }\n",
       "\n",
       "    .dataframe tbody tr th {\n",
       "        vertical-align: top;\n",
       "    }\n",
       "\n",
       "    .dataframe thead th {\n",
       "        text-align: right;\n",
       "    }\n",
       "</style>\n",
       "<table border=\"1\" class=\"dataframe\">\n",
       "  <thead>\n",
       "    <tr style=\"text-align: right;\">\n",
       "      <th></th>\n",
       "      <th>missing_values</th>\n",
       "      <th>%</th>\n",
       "    </tr>\n",
       "  </thead>\n",
       "  <tbody>\n",
       "    <tr>\n",
       "      <th>productID</th>\n",
       "      <td>0</td>\n",
       "      <td>0.0</td>\n",
       "    </tr>\n",
       "    <tr>\n",
       "      <th>price_per_one</th>\n",
       "      <td>0</td>\n",
       "      <td>0.0</td>\n",
       "    </tr>\n",
       "  </tbody>\n",
       "</table>\n",
       "</div>"
      ],
      "text/plain": [
       "               missing_values    %\n",
       "productID                   0  0.0\n",
       "price_per_one               0  0.0"
      ]
     },
     "execution_count": 58,
     "metadata": {},
     "output_type": "execute_result"
    }
   ],
   "source": [
    "mis_values.sort_values(by='%', ascending=False)"
   ]
  },
  {
   "cell_type": "code",
   "execution_count": 59,
   "metadata": {},
   "outputs": [
    {
     "data": {
      "text/html": [
       "<div>\n",
       "<style scoped>\n",
       "    .dataframe tbody tr th:only-of-type {\n",
       "        vertical-align: middle;\n",
       "    }\n",
       "\n",
       "    .dataframe tbody tr th {\n",
       "        vertical-align: top;\n",
       "    }\n",
       "\n",
       "    .dataframe thead th {\n",
       "        text-align: right;\n",
       "    }\n",
       "</style>\n",
       "<table border=\"1\" class=\"dataframe\">\n",
       "  <thead>\n",
       "    <tr style=\"text-align: right;\">\n",
       "      <th></th>\n",
       "      <th>purchaseid</th>\n",
       "      <th>item_ID</th>\n",
       "      <th>Quantity</th>\n",
       "      <th>purchasedate</th>\n",
       "      <th>CustomerID</th>\n",
       "      <th>loyalty_program</th>\n",
       "      <th>ShopID</th>\n",
       "    </tr>\n",
       "  </thead>\n",
       "  <tbody>\n",
       "    <tr>\n",
       "      <th>103172</th>\n",
       "      <td>543096</td>\n",
       "      <td>22077</td>\n",
       "      <td>0</td>\n",
       "      <td>2017-02-03 11:39:00</td>\n",
       "      <td>19723.0</td>\n",
       "      <td>0</td>\n",
       "      <td>Shop 17</td>\n",
       "    </tr>\n",
       "    <tr>\n",
       "      <th>14772</th>\n",
       "      <td>536621</td>\n",
       "      <td>22536</td>\n",
       "      <td>47</td>\n",
       "      <td>2016-12-02 10:35:00</td>\n",
       "      <td>18787.0</td>\n",
       "      <td>0</td>\n",
       "      <td>Shop 25</td>\n",
       "    </tr>\n",
       "    <tr>\n",
       "      <th>77523</th>\n",
       "      <td>540551</td>\n",
       "      <td>21494</td>\n",
       "      <td>5</td>\n",
       "      <td>2017-01-10 09:43:00</td>\n",
       "      <td>NaN</td>\n",
       "      <td>0</td>\n",
       "      <td>Shop 0</td>\n",
       "    </tr>\n",
       "    <tr>\n",
       "      <th>9910</th>\n",
       "      <td>539453</td>\n",
       "      <td>35957</td>\n",
       "      <td>2</td>\n",
       "      <td>2016-12-17 17:08:00</td>\n",
       "      <td>NaN</td>\n",
       "      <td>0</td>\n",
       "      <td>Shop 0</td>\n",
       "    </tr>\n",
       "    <tr>\n",
       "      <th>53608</th>\n",
       "      <td>541131</td>\n",
       "      <td>82583</td>\n",
       "      <td>1</td>\n",
       "      <td>2017-01-14 10:16:00</td>\n",
       "      <td>NaN</td>\n",
       "      <td>0</td>\n",
       "      <td>Shop 0</td>\n",
       "    </tr>\n",
       "    <tr>\n",
       "      <th>27808</th>\n",
       "      <td>544040</td>\n",
       "      <td>22666</td>\n",
       "      <td>0</td>\n",
       "      <td>2017-02-15 11:40:00</td>\n",
       "      <td>20380.0</td>\n",
       "      <td>0</td>\n",
       "      <td>Shop 12</td>\n",
       "    </tr>\n",
       "    <tr>\n",
       "      <th>63697</th>\n",
       "      <td>540257</td>\n",
       "      <td>47566B</td>\n",
       "      <td>1</td>\n",
       "      <td>2017-01-05 17:33:00</td>\n",
       "      <td>18427.0</td>\n",
       "      <td>0</td>\n",
       "      <td>Shop 30</td>\n",
       "    </tr>\n",
       "    <tr>\n",
       "      <th>3904</th>\n",
       "      <td>538868</td>\n",
       "      <td>22909</td>\n",
       "      <td>47</td>\n",
       "      <td>2016-12-14 14:42:00</td>\n",
       "      <td>22696.0</td>\n",
       "      <td>1</td>\n",
       "      <td>Shop 30</td>\n",
       "    </tr>\n",
       "    <tr>\n",
       "      <th>50033</th>\n",
       "      <td>544434</td>\n",
       "      <td>23006</td>\n",
       "      <td>1</td>\n",
       "      <td>2017-02-18 16:12:00</td>\n",
       "      <td>NaN</td>\n",
       "      <td>0</td>\n",
       "      <td>Shop 0</td>\n",
       "    </tr>\n",
       "    <tr>\n",
       "      <th>22375</th>\n",
       "      <td>540524</td>\n",
       "      <td>84755</td>\n",
       "      <td>7</td>\n",
       "      <td>2017-01-09 12:53:00</td>\n",
       "      <td>22414.0</td>\n",
       "      <td>1</td>\n",
       "      <td>Shop 6</td>\n",
       "    </tr>\n",
       "  </tbody>\n",
       "</table>\n",
       "</div>"
      ],
      "text/plain": [
       "       purchaseid item_ID  Quantity         purchasedate  CustomerID  \\\n",
       "103172     543096   22077         0  2017-02-03 11:39:00     19723.0   \n",
       "14772      536621   22536        47  2016-12-02 10:35:00     18787.0   \n",
       "77523      540551   21494         5  2017-01-10 09:43:00         NaN   \n",
       "9910       539453   35957         2  2016-12-17 17:08:00         NaN   \n",
       "53608      541131   82583         1  2017-01-14 10:16:00         NaN   \n",
       "27808      544040   22666         0  2017-02-15 11:40:00     20380.0   \n",
       "63697      540257  47566B         1  2017-01-05 17:33:00     18427.0   \n",
       "3904       538868   22909        47  2016-12-14 14:42:00     22696.0   \n",
       "50033      544434   23006         1  2017-02-18 16:12:00         NaN   \n",
       "22375      540524   84755         7  2017-01-09 12:53:00     22414.0   \n",
       "\n",
       "        loyalty_program   ShopID  \n",
       "103172                0  Shop 17  \n",
       "14772                 0  Shop 25  \n",
       "77523                 0   Shop 0  \n",
       "9910                  0   Shop 0  \n",
       "53608                 0   Shop 0  \n",
       "27808                 0  Shop 12  \n",
       "63697                 0  Shop 30  \n",
       "3904                  1  Shop 30  \n",
       "50033                 0   Shop 0  \n",
       "22375                 1   Shop 6  "
      ]
     },
     "execution_count": 59,
     "metadata": {},
     "output_type": "execute_result"
    }
   ],
   "source": [
    "# Print a sample of DataFrame\n",
    "retail.sample(10)"
   ]
  },
  {
   "cell_type": "code",
   "execution_count": 60,
   "metadata": {
    "scrolled": true
   },
   "outputs": [
    {
     "data": {
      "text/html": [
       "<div>\n",
       "<style scoped>\n",
       "    .dataframe tbody tr th:only-of-type {\n",
       "        vertical-align: middle;\n",
       "    }\n",
       "\n",
       "    .dataframe tbody tr th {\n",
       "        vertical-align: top;\n",
       "    }\n",
       "\n",
       "    .dataframe thead th {\n",
       "        text-align: right;\n",
       "    }\n",
       "</style>\n",
       "<table border=\"1\" class=\"dataframe\">\n",
       "  <thead>\n",
       "    <tr style=\"text-align: right;\">\n",
       "      <th></th>\n",
       "      <th>productID</th>\n",
       "      <th>price_per_one</th>\n",
       "    </tr>\n",
       "  </thead>\n",
       "  <tbody>\n",
       "    <tr>\n",
       "      <th>2019</th>\n",
       "      <td>47518f</td>\n",
       "      <td>4.13</td>\n",
       "    </tr>\n",
       "    <tr>\n",
       "      <th>571</th>\n",
       "      <td>21448</td>\n",
       "      <td>0.00</td>\n",
       "    </tr>\n",
       "    <tr>\n",
       "      <th>3005</th>\n",
       "      <td>90157</td>\n",
       "      <td>4.98</td>\n",
       "    </tr>\n",
       "    <tr>\n",
       "      <th>1456</th>\n",
       "      <td>22602</td>\n",
       "      <td>0.85</td>\n",
       "    </tr>\n",
       "    <tr>\n",
       "      <th>1706</th>\n",
       "      <td>22863</td>\n",
       "      <td>2.55</td>\n",
       "    </tr>\n",
       "    <tr>\n",
       "      <th>2846</th>\n",
       "      <td>90024B</td>\n",
       "      <td>8.32</td>\n",
       "    </tr>\n",
       "    <tr>\n",
       "      <th>1304</th>\n",
       "      <td>22440</td>\n",
       "      <td>0.42</td>\n",
       "    </tr>\n",
       "    <tr>\n",
       "      <th>896</th>\n",
       "      <td>21945</td>\n",
       "      <td>0.85</td>\n",
       "    </tr>\n",
       "    <tr>\n",
       "      <th>131</th>\n",
       "      <td>20681</td>\n",
       "      <td>3.25</td>\n",
       "    </tr>\n",
       "    <tr>\n",
       "      <th>2084</th>\n",
       "      <td>71406C</td>\n",
       "      <td>0.42</td>\n",
       "    </tr>\n",
       "  </tbody>\n",
       "</table>\n",
       "</div>"
      ],
      "text/plain": [
       "     productID  price_per_one\n",
       "2019    47518f           4.13\n",
       "571      21448           0.00\n",
       "3005     90157           4.98\n",
       "1456     22602           0.85\n",
       "1706     22863           2.55\n",
       "2846    90024B           8.32\n",
       "1304     22440           0.42\n",
       "896      21945           0.85\n",
       "131      20681           3.25\n",
       "2084    71406C           0.42"
      ]
     },
     "execution_count": 60,
     "metadata": {},
     "output_type": "execute_result"
    }
   ],
   "source": [
    "# Print a sample of DataFrame\n",
    "product.sample(10)"
   ]
  },
  {
   "cell_type": "code",
   "execution_count": 61,
   "metadata": {},
   "outputs": [
    {
     "data": {
      "text/plain": [
       "array(['538280', '538862', '538855', ..., '540564', '542572', 'C541650'],\n",
       "      dtype=object)"
      ]
     },
     "execution_count": 61,
     "metadata": {},
     "output_type": "execute_result"
    }
   ],
   "source": [
    "# To check if there are unique values\n",
    "retail['purchaseid'].unique()"
   ]
  },
  {
   "cell_type": "code",
   "execution_count": 62,
   "metadata": {
    "scrolled": true
   },
   "outputs": [
    {
     "data": {
      "text/plain": [
       "array(['21873', '22195', '21239', ..., '90053', '17028J', '79320'],\n",
       "      dtype=object)"
      ]
     },
     "execution_count": 62,
     "metadata": {},
     "output_type": "execute_result"
    }
   ],
   "source": [
    "# To check if there are unique values\n",
    "retail['item_ID'].unique()"
   ]
  },
  {
   "cell_type": "code",
   "execution_count": 63,
   "metadata": {
    "scrolled": true
   },
   "outputs": [
    {
     "data": {
      "text/plain": [
       "array([    11,      0,      7,      1,      5,      4,      3,      9,\n",
       "           35,     23,      2,     71,     -2,    103,      6,     24,\n",
       "          383,    -25,     18,     19,     95,    143,      8,     47,\n",
       "           17,     20,     14,    -11,     12,     99,     39,     49,\n",
       "          239,     25,     31,    -31,     29,    -61,     13,     15,\n",
       "           28,    -13,     -3,     -8,   -101,    -10,   -940,     59,\n",
       "          199,     27,     22,    119,    287,     37,     -9,     46,\n",
       "           -5,    -81,     10,     -4,     -6,    215,    -41,     69,\n",
       "          -16,    -26,   -724,     -7,   -100,     30,    479,   -193,\n",
       "          -33,   2399,    -15,    191,     21,     63,    -24,    299,\n",
       "          -19,   1295,    107,     79,     26,    140,    -17,    -14,\n",
       "          359,    323,     32,   1007,     48,     64,    179,    251,\n",
       "          -21,    -37,   1286,    -34,    599,    207,     33,    -36,\n",
       "           52,   -145,     83,     43,    -54,    -65,     68,    503,\n",
       "          -49,     70,   1355,    -97,    -62,     77,   -224,     34,\n",
       "           41,    -89,  -1431,     38,    -73,    971,   2879,    407,\n",
       "          159,     74,     16,    137,     72,    269,    -22,    203,\n",
       "         -151,    171,    -18,    719,     45,     50,   -241,     54,\n",
       "         2591,     55,    431,   1399,     56,     53,    127,     94,\n",
       "         1487,    210,   -131,    149,    999,   1199,     44,   -742,\n",
       "          -55,     98,    -32,   1823,    185,    -58,   -115,     81,\n",
       "          455,    406,   -121,   1299,   -201,    -51,     89,   -178,\n",
       "          399,     51,    899,   -601,    -23,    110,    209,    197,\n",
       "          257,   -141,    377,    -12,   5567,    123,   -207,   -202,\n",
       "           60,    -20,     78,     36,    249,    -70,    319,    155,\n",
       "          575,     65,    167,    -45,   3113,    799,    -71,  -9361,\n",
       "         -107,     96,    959,   2559,   -163,    105,     40,    117,\n",
       "          863,    -48,     88,    255,    -43,    -78,    -53,    -42,\n",
       "       -74216,     58,   -401,   1009,    100,   -301,  -1401,     97,\n",
       "          419,    751,   -501,     67,     61,    111,    647,   -174,\n",
       "         1999,   1283,    212,   1393,    146,    101,    271,    499,\n",
       "         -391,    109,    859,    -44,    401,  74214,    113,    196,\n",
       "         -231,    112,     93,    122,    129,    134,   1151,    -93,\n",
       "           42,    459,   -991,    266,    128,    115,   -208,   1439,\n",
       "           75,   1499,    -39,    175,    -29,   -291,   -311,    669,\n",
       "           57,    214,   -218,   1055,    -46,    -85,    -95,   -235,\n",
       "          135,     66,   -321,   1727,   1929,   -146,    -60,    -30,\n",
       "          279,    114,    -77,   3905,  -2601])"
      ]
     },
     "execution_count": 63,
     "metadata": {},
     "output_type": "execute_result"
    }
   ],
   "source": [
    "# To check if there are unique values\n",
    "retail['Quantity'].unique()"
   ]
  },
  {
   "cell_type": "code",
   "execution_count": 64,
   "metadata": {},
   "outputs": [
    {
     "data": {
      "text/plain": [
       "array(['2016-12-10 12:50:00', '2016-12-14 14:11:00',\n",
       "       '2016-12-14 13:50:00', ..., '2016-12-05 13:09:00',\n",
       "       '2017-01-10 10:36:00', '2017-01-20 11:44:00'], dtype=object)"
      ]
     },
     "execution_count": 64,
     "metadata": {},
     "output_type": "execute_result"
    }
   ],
   "source": [
    "# To check if there are unique values\n",
    "retail['purchasedate'].unique()"
   ]
  },
  {
   "cell_type": "code",
   "execution_count": 65,
   "metadata": {},
   "outputs": [
    {
     "data": {
      "text/plain": [
       "array([18427., 22389., 22182., ..., 20156., 20358., 23763.])"
      ]
     },
     "execution_count": 65,
     "metadata": {},
     "output_type": "execute_result"
    }
   ],
   "source": [
    "# To check if there are unique values\n",
    "retail['CustomerID'].unique()"
   ]
  },
  {
   "cell_type": "code",
   "execution_count": 66,
   "metadata": {},
   "outputs": [
    {
     "data": {
      "text/plain": [
       "array([0, 1])"
      ]
     },
     "execution_count": 66,
     "metadata": {},
     "output_type": "execute_result"
    }
   ],
   "source": [
    "# To check if there are unique values\n",
    "retail['loyalty_program'].unique()"
   ]
  },
  {
   "cell_type": "code",
   "execution_count": 67,
   "metadata": {},
   "outputs": [
    {
     "data": {
      "text/plain": [
       "array(['Shop 3', 'Shop 2', 'Shop 28', 'Shop 20', 'Shop 0', 'Shop 1',\n",
       "       'Shop 6', 'Shop 17', 'Shop 24', 'Shop 18', 'Shop 16', 'Shop 14',\n",
       "       'Shop 13', 'Shop 30', 'Shop 8', 'Shop 23', 'Shop 12', 'Shop 26',\n",
       "       'Shop 4', 'Shop 7', 'Shop 10', 'Shop 9', 'Shop 19', 'Shop 5',\n",
       "       'Shop 29', 'Shop 22', 'Shop 27', 'Shop 21', 'Shop 25', 'Shop 15',\n",
       "       'Shop 11'], dtype=object)"
      ]
     },
     "execution_count": 67,
     "metadata": {},
     "output_type": "execute_result"
    }
   ],
   "source": [
    "# To check if there are unique values\n",
    "retail['ShopID'].unique()"
   ]
  },
  {
   "cell_type": "code",
   "execution_count": 68,
   "metadata": {
    "scrolled": true
   },
   "outputs": [
    {
     "data": {
      "text/plain": [
       "array(['10002', '10080', '10120', ..., 'gift_0001_40', 'gift_0001_50',\n",
       "       'm'], dtype=object)"
      ]
     },
     "execution_count": 68,
     "metadata": {},
     "output_type": "execute_result"
    }
   ],
   "source": [
    "# To check if there are unique values\n",
    "product['productID'].unique()"
   ]
  },
  {
   "cell_type": "code",
   "execution_count": 69,
   "metadata": {
    "scrolled": true
   },
   "outputs": [
    {
     "data": {
      "text/plain": [
       "array([8.500e-01, 2.100e-01, 6.500e-01, 4.200e-01, 1.690e+00, 1.400e-01,\n",
       "       5.300e-01, 2.950e+00, 4.950e+00, 4.250e+00, 4.600e+00, 1.246e+01,\n",
       "       7.950e+00, 2.500e-01, 1.200e-01, 3.200e-01, 5.000e-01, 7.200e-01,\n",
       "       0.000e+00, 5.550e+00, 1.250e+00, 1.600e-01, 2.900e-01, 2.100e+00,\n",
       "       2.460e+00, 2.400e-01, 7.000e-02, 3.800e-01, 1.700e-01, 2.550e+00,\n",
       "       1.630e+00, 6.000e-02, 1.950e+00, 5.060e+00, 7.500e-01, 8.300e-01,\n",
       "       1.000e-01, 1.060e+00, 3.250e+00, 3.750e+00, 3.290e+00, 1.650e+00,\n",
       "       1.450e+00, 6.350e+00, 4.650e+00, 5.490e+00, 3.995e+01, 6.750e+00,\n",
       "       2.120e+00, 7.900e-01, 1.102e+01, 9.320e+00, 5.950e+00, 4.210e+00,\n",
       "       8.470e+00, 5.500e-01, 4.130e+00, 9.500e-01, 2.750e+00, 7.460e+00,\n",
       "       8.950e+00, 6.400e-01, 1.698e+01, 6.950e+00, 3.390e+00, 3.360e+00,\n",
       "       1.530e+00, 1.850e+00, 4.000e-01, 7.620e+00, 5.910e+00, 5.790e+00,\n",
       "       8.500e+00, 8.290e+00, 2.195e+01, 5.450e+00, 1.275e+01, 9.950e+00,\n",
       "       2.079e+01, 1.050e+00, 1.595e+01, 1.095e+01, 3.600e-01, 2.500e+00,\n",
       "       1.995e+01, 1.495e+01, 3.400e-01, 2.250e+00, 6.380e+00, 3.950e+00,\n",
       "       2.510e+00, 1.900e-01, 6.450e+00, 2.995e+01, 5.277e+01, 1.490e+00,\n",
       "       2.200e-01, 8.200e-01, 4.960e+00, 1.079e+01, 7.650e+00, 3.000e+00,\n",
       "       2.310e+00, 2.690e+00, 1.085e+01, 3.350e+00, 3.860e+00, 8.490e+00,\n",
       "       1.250e+02, 9.400e-01, 3.450e+00, 4.996e+01, 3.370e+00, 1.663e+01,\n",
       "       3.329e+01, 1.100e+02, 3.595e+01, 1.750e+02, 1.450e+02, 5.795e+01,\n",
       "       1.695e+01, 1.040e+00, 2.000e+00, 1.075e+01, 1.800e-01, 3.500e-01,\n",
       "       8.400e-01, 3.810e+00, 4.770e+00, 3.495e+01, 8.100e-01, 3.700e-01,\n",
       "       3.000e-02, 1.660e+00, 5.995e+01, 1.163e+01, 1.270e+00, 1.187e+01,\n",
       "       4.295e+01, 2.549e+01, 2.496e+01, 2.080e+00, 1.272e+01, 6.630e+00,\n",
       "       2.123e+01, 7.250e+00, 1.613e+01, 4.150e+00, 4.240e+00, 3.730e+00,\n",
       "       2.900e+00, 2.960e+00, 9.980e+00, 8.320e+00, 5.400e+00, 5.510e+00,\n",
       "       5.820e+00, 5.940e+00, 6.230e+00, 2.480e+00, 1.019e+01, 1.062e+01,\n",
       "       7.900e+00, 8.070e+00, 2.540e+00, 3.500e+00, 1.105e+01, 1.248e+01,\n",
       "       1.230e+00, 9.770e+00, 7.500e+00, 5.090e+00, 9.960e+00, 4.980e+00,\n",
       "       7.640e+00, 7.480e+00, 9.150e+00, 1.165e+01, 1.195e+01, 9.340e+00,\n",
       "       3.320e+00, 6.370e+00, 1.750e+00, 1.000e+00, 1.500e+01, 5.760e+00,\n",
       "       1.579e+01, 2.800e+00, 1.667e+01, 2.500e+01, 3.404e+01, 4.255e+01])"
      ]
     },
     "execution_count": 69,
     "metadata": {},
     "output_type": "execute_result"
    }
   ],
   "source": [
    "# To check if there are unique values\n",
    "product['price_per_one'].unique()"
   ]
  },
  {
   "cell_type": "markdown",
   "metadata": {},
   "source": [
    "# Step 2. Data Preprocessing"
   ]
  },
  {
   "cell_type": "markdown",
   "metadata": {},
   "source": [
    "For instance, the preprocessing stage can be divided into substages:\n",
    "\n",
    "   * Study missing values\n",
    "   \n",
    "   * Study type correspondence\n",
    "   \n",
    "   * Study duplicate values\n",
    "   \n",
    "   * Check the correctness of column names\n",
    "   \n",
    "   * Rename the columns\n",
    "   \n",
    "   * Remove duplicates\n",
    "   \n",
    "   * Convert types\n",
    "   \n",
    "   * Replace missing values\n"
   ]
  },
  {
   "cell_type": "markdown",
   "metadata": {},
   "source": [
    "# Step 3. Exploratory Data Analysis"
   ]
  },
  {
   "cell_type": "markdown",
   "metadata": {},
   "source": [
    "    * Look into the relationship between revenue growth and the probability of churn.\n",
    "    * Identify the relationship between payment frequency and the probability of churn.\n",
    "    * Compare the time since the last purchase with the probability of churn.\n",
    "       — For each customer, find the date of the last purchase.\n",
    "       — Use this data to split the customers into n categories.\n",
    "       — For each category, calculate the share of the customers who left.\n",
    "       — Within each category, define extra indices (e.g. total sum of payments, total number of purchases).\n",
    "       — Draw conclusions: how time since the last purchase relates to customers' indices.\n",
    "       — Draw conclusions: how time since the last purchase relates to churn.\n"
   ]
  },
  {
   "cell_type": "markdown",
   "metadata": {},
   "source": [
    "# Step 4. Conclusion"
   ]
  },
  {
   "cell_type": "markdown",
   "metadata": {},
   "source": [
    "Based on the results from the analysis conclusion will be given on\n",
    "   * The relationship between revenue growth and the probability of churn.\n",
    "   * The relationship between payment frequency and the probability of churn.\n",
    "   • The last purchase relates to customers' indices.\n",
    "   * The last purchase relates to churn."
   ]
  }
 ],
 "metadata": {
  "kernelspec": {
   "display_name": "Python 3 (ipykernel)",
   "language": "python",
   "name": "python3"
  },
  "language_info": {
   "codemirror_mode": {
    "name": "ipython",
    "version": 3
   },
   "file_extension": ".py",
   "mimetype": "text/x-python",
   "name": "python",
   "nbconvert_exporter": "python",
   "pygments_lexer": "ipython3",
   "version": "3.9.7"
  },
  "toc": {
   "base_numbering": 1,
   "nav_menu": {},
   "number_sections": true,
   "sideBar": true,
   "skip_h1_title": true,
   "title_cell": "Table of Contents",
   "title_sidebar": "Contents",
   "toc_cell": false,
   "toc_position": {},
   "toc_section_display": true,
   "toc_window_display": false
  }
 },
 "nbformat": 4,
 "nbformat_minor": 2
}
