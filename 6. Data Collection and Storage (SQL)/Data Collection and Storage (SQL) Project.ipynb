{
 "cells": [
  {
   "cell_type": "markdown",
   "metadata": {},
   "source": [
    "# Project description"
   ]
  },
  {
   "cell_type": "markdown",
   "metadata": {},
   "source": [
    "You're working as an analyst for Zuber, a new ride-sharing company that's launching in Chicago. Your task is to find patterns in the available information. You want to understand passenger preferences and the impact of external factors on rides.\n",
    "Working with a database, you'll analyze data from competitors and test a hypothesis about the impact of weather on ride frequency."
   ]
  },
  {
   "cell_type": "markdown",
   "metadata": {},
   "source": [
    "The aim of the project is to analyze Zuber's competitors, and test hypothesis about impact of weather or ride frequency."
   ]
  },
  {
   "cell_type": "markdown",
   "metadata": {},
   "source": [
    "Hypotheses of the project is:-\n",
    "###### \"The average duration of rides from the Loop to O'Hare International Airport changes on rainy Saturdays.\"\n",
    "   "
   ]
  },
  {
   "cell_type": "markdown",
   "metadata": {},
   "source": [
    "###### Step 4. Exploratory data analysis (Python)\n",
    "In addition to the data you retrieved in the previous tasks, you've been given a second file. \n",
    "\n",
    "You now have these two CSVs:\n",
    "\n",
    "\n",
    "          /datasets/project_sql_result_01.csv. \n",
    "\n",
    "It contains the following data:\n",
    "\n",
    "  * company_name: taxi company name\n",
    "\n",
    "  * trips_amount: the number of rides for each taxi company on November 15-16, 2017.\n",
    "\n",
    "\n",
    "        /datasets/project_sql_result_04.csv. It contains the following data:\n",
    "\n",
    "\n",
    "  * dropoff_location_name: Chicago neighborhoods where rides ended\n",
    "\n",
    "  * average_trips: the average number of rides that ended in each neighborhood in November 2017.\n",
    "\n",
    "\n",
    "For these two datasets you now need to\n",
    "\n",
    "  * import the files\n",
    "  \n",
    "  * study the data they contain\n",
    "\n",
    "  * make sure the data types are correct\n",
    "\n",
    "  * identify the top 10 neighborhoods in terms of drop-offs\n",
    "\n",
    "  * make graphs: taxi companies and number of rides, top 10 neighborhoods by number of dropoffs\n",
    "\n",
    "  * draw conclusions based on each graph and explain the results\n"
   ]
  },
  {
   "cell_type": "markdown",
   "metadata": {},
   "source": [
    "## Initialization"
   ]
  },
  {
   "cell_type": "code",
   "execution_count": 6,
   "metadata": {},
   "outputs": [],
   "source": [
    "# Loading all the libraries\n",
    "\n",
    "import pandas as pd\n",
    "import numpy as np\n",
    "from scipy import stats as st\n",
    "import matplotlib.pyplot as plt\n",
    "import seaborn as sns\n",
    "%matplotlib inline\n",
    "import warnings\n",
    "from pandas import Series, DataFrame"
   ]
  },
  {
   "cell_type": "code",
   "execution_count": 8,
   "metadata": {},
   "outputs": [
    {
     "name": "stdout",
     "output_type": "stream",
     "text": [
      "The files are unable to import\n",
      "The files are imported\n"
     ]
    }
   ],
   "source": [
    "# Read the dataset\n",
    "try:\n",
    "    company = pd.read_csv('project_sql_result_01.csv')\n",
    "    dropoff = pd.read_csv('project_sql_result_04.csv')\n",
    "except Exception as e:\n",
    "    print('The files are unable to import')\n",
    "else:\n",
    "    \n",
    "    company = pd.read_csv('/datasets/project_sql_result_01.csv')\n",
    "    dropoff = pd.read_csv('/datasets/project_sql_result_04.csv')\n",
    "finally:\n",
    "    print('The files are imported')"
   ]
  },
  {
   "cell_type": "markdown",
   "metadata": {},
   "source": [
    "## Data description\n",
    "\n",
    "The project contains the following DataFrame:\n"
   ]
  },
  {
   "cell_type": "markdown",
   "metadata": {},
   "source": [
    "A database with info on taxi rides in Chicago:"
   ]
  },
  {
   "cell_type": "markdown",
   "metadata": {},
   "source": [
    "The company DataFrame contains the following columns\n",
    "\n",
    "* company_name: taxi company name\n",
    "* trips_amount: the number of rides for each taxi company on November 15-16, 2017.\n"
   ]
  },
  {
   "cell_type": "markdown",
   "metadata": {},
   "source": [
    "The dropoff DataFrame contains the following columns\n",
    "\n",
    "* dropoff_location_name: Chicago neighborhoods where rides ended\n",
    "* average_trips: the average number of rides that ended in each neighborhood in November 2017."
   ]
  },
  {
   "cell_type": "code",
   "execution_count": 20,
   "metadata": {},
   "outputs": [
    {
     "data": {
      "text/plain": [
       "(64, 2)"
      ]
     },
     "execution_count": 20,
     "metadata": {},
     "output_type": "execute_result"
    }
   ],
   "source": [
    "# To know the number of columns and rows in the DataFrame\n",
    "company.shape"
   ]
  },
  {
   "cell_type": "code",
   "execution_count": 21,
   "metadata": {
    "scrolled": true
   },
   "outputs": [
    {
     "data": {
      "text/plain": [
       "(94, 2)"
      ]
     },
     "execution_count": 21,
     "metadata": {},
     "output_type": "execute_result"
    }
   ],
   "source": [
    "# To know the number of columns and rows in the DataFrame\n",
    "dropoff.shape"
   ]
  },
  {
   "cell_type": "code",
   "execution_count": 22,
   "metadata": {
    "scrolled": true
   },
   "outputs": [
    {
     "name": "stdout",
     "output_type": "stream",
     "text": [
      "<class 'pandas.core.frame.DataFrame'>\n",
      "RangeIndex: 64 entries, 0 to 63\n",
      "Data columns (total 2 columns):\n",
      " #   Column        Non-Null Count  Dtype \n",
      "---  ------        --------------  ----- \n",
      " 0   company_name  64 non-null     object\n",
      " 1   trips_amount  64 non-null     int64 \n",
      "dtypes: int64(1), object(1)\n",
      "memory usage: 1.1+ KB\n"
     ]
    }
   ],
   "source": [
    "# Get information about the DataFrame\n",
    "company.info()"
   ]
  },
  {
   "cell_type": "code",
   "execution_count": 23,
   "metadata": {
    "scrolled": false
   },
   "outputs": [
    {
     "name": "stdout",
     "output_type": "stream",
     "text": [
      "<class 'pandas.core.frame.DataFrame'>\n",
      "RangeIndex: 94 entries, 0 to 93\n",
      "Data columns (total 2 columns):\n",
      " #   Column                 Non-Null Count  Dtype  \n",
      "---  ------                 --------------  -----  \n",
      " 0   dropoff_location_name  94 non-null     object \n",
      " 1   average_trips          94 non-null     float64\n",
      "dtypes: float64(1), object(1)\n",
      "memory usage: 1.6+ KB\n"
     ]
    }
   ],
   "source": [
    "# Get information about the DataFrame\n",
    "dropoff.info()"
   ]
  },
  {
   "cell_type": "code",
   "execution_count": 24,
   "metadata": {},
   "outputs": [
    {
     "data": {
      "text/plain": [
       "company_name    object\n",
       "trips_amount     int64\n",
       "dtype: object"
      ]
     },
     "execution_count": 24,
     "metadata": {},
     "output_type": "execute_result"
    }
   ],
   "source": [
    "# Check data type of the DataFrame\n",
    "company.dtypes"
   ]
  },
  {
   "cell_type": "code",
   "execution_count": 25,
   "metadata": {},
   "outputs": [
    {
     "data": {
      "text/plain": [
       "dropoff_location_name     object\n",
       "average_trips            float64\n",
       "dtype: object"
      ]
     },
     "execution_count": 25,
     "metadata": {},
     "output_type": "execute_result"
    }
   ],
   "source": [
    "# Check data type of the DataFrame\n",
    "dropoff.dtypes"
   ]
  },
  {
   "cell_type": "code",
   "execution_count": 26,
   "metadata": {
    "scrolled": true
   },
   "outputs": [
    {
     "data": {
      "text/html": [
       "<div>\n",
       "<style scoped>\n",
       "    .dataframe tbody tr th:only-of-type {\n",
       "        vertical-align: middle;\n",
       "    }\n",
       "\n",
       "    .dataframe tbody tr th {\n",
       "        vertical-align: top;\n",
       "    }\n",
       "\n",
       "    .dataframe thead th {\n",
       "        text-align: right;\n",
       "    }\n",
       "</style>\n",
       "<table border=\"1\" class=\"dataframe\">\n",
       "  <thead>\n",
       "    <tr style=\"text-align: right;\">\n",
       "      <th></th>\n",
       "      <th>trips_amount</th>\n",
       "    </tr>\n",
       "  </thead>\n",
       "  <tbody>\n",
       "    <tr>\n",
       "      <th>count</th>\n",
       "      <td>64.000000</td>\n",
       "    </tr>\n",
       "    <tr>\n",
       "      <th>mean</th>\n",
       "      <td>2145.484375</td>\n",
       "    </tr>\n",
       "    <tr>\n",
       "      <th>std</th>\n",
       "      <td>3812.310186</td>\n",
       "    </tr>\n",
       "    <tr>\n",
       "      <th>min</th>\n",
       "      <td>2.000000</td>\n",
       "    </tr>\n",
       "    <tr>\n",
       "      <th>25%</th>\n",
       "      <td>20.750000</td>\n",
       "    </tr>\n",
       "    <tr>\n",
       "      <th>50%</th>\n",
       "      <td>178.500000</td>\n",
       "    </tr>\n",
       "    <tr>\n",
       "      <th>75%</th>\n",
       "      <td>2106.500000</td>\n",
       "    </tr>\n",
       "    <tr>\n",
       "      <th>max</th>\n",
       "      <td>19558.000000</td>\n",
       "    </tr>\n",
       "  </tbody>\n",
       "</table>\n",
       "</div>"
      ],
      "text/plain": [
       "       trips_amount\n",
       "count     64.000000\n",
       "mean    2145.484375\n",
       "std     3812.310186\n",
       "min        2.000000\n",
       "25%       20.750000\n",
       "50%      178.500000\n",
       "75%     2106.500000\n",
       "max    19558.000000"
      ]
     },
     "execution_count": 26,
     "metadata": {},
     "output_type": "execute_result"
    }
   ],
   "source": [
    "# To get information about statistical character of the DataFrame\n",
    "company.describe()"
   ]
  },
  {
   "cell_type": "code",
   "execution_count": 27,
   "metadata": {
    "scrolled": false
   },
   "outputs": [
    {
     "data": {
      "text/html": [
       "<div>\n",
       "<style scoped>\n",
       "    .dataframe tbody tr th:only-of-type {\n",
       "        vertical-align: middle;\n",
       "    }\n",
       "\n",
       "    .dataframe tbody tr th {\n",
       "        vertical-align: top;\n",
       "    }\n",
       "\n",
       "    .dataframe thead th {\n",
       "        text-align: right;\n",
       "    }\n",
       "</style>\n",
       "<table border=\"1\" class=\"dataframe\">\n",
       "  <thead>\n",
       "    <tr style=\"text-align: right;\">\n",
       "      <th></th>\n",
       "      <th>average_trips</th>\n",
       "    </tr>\n",
       "  </thead>\n",
       "  <tbody>\n",
       "    <tr>\n",
       "      <th>count</th>\n",
       "      <td>94.000000</td>\n",
       "    </tr>\n",
       "    <tr>\n",
       "      <th>mean</th>\n",
       "      <td>599.953728</td>\n",
       "    </tr>\n",
       "    <tr>\n",
       "      <th>std</th>\n",
       "      <td>1714.591098</td>\n",
       "    </tr>\n",
       "    <tr>\n",
       "      <th>min</th>\n",
       "      <td>1.800000</td>\n",
       "    </tr>\n",
       "    <tr>\n",
       "      <th>25%</th>\n",
       "      <td>14.266667</td>\n",
       "    </tr>\n",
       "    <tr>\n",
       "      <th>50%</th>\n",
       "      <td>52.016667</td>\n",
       "    </tr>\n",
       "    <tr>\n",
       "      <th>75%</th>\n",
       "      <td>298.858333</td>\n",
       "    </tr>\n",
       "    <tr>\n",
       "      <th>max</th>\n",
       "      <td>10727.466667</td>\n",
       "    </tr>\n",
       "  </tbody>\n",
       "</table>\n",
       "</div>"
      ],
      "text/plain": [
       "       average_trips\n",
       "count      94.000000\n",
       "mean      599.953728\n",
       "std      1714.591098\n",
       "min         1.800000\n",
       "25%        14.266667\n",
       "50%        52.016667\n",
       "75%       298.858333\n",
       "max     10727.466667"
      ]
     },
     "execution_count": 27,
     "metadata": {},
     "output_type": "execute_result"
    }
   ],
   "source": [
    "# To get information about statistical character of the DataFrame\n",
    "dropoff.describe()"
   ]
  },
  {
   "cell_type": "code",
   "execution_count": 28,
   "metadata": {},
   "outputs": [
    {
     "data": {
      "text/plain": [
       "0"
      ]
     },
     "execution_count": 28,
     "metadata": {},
     "output_type": "execute_result"
    }
   ],
   "source": [
    "# Checking duplicates in the DataFrame\n",
    "company.duplicated().sum()"
   ]
  },
  {
   "cell_type": "code",
   "execution_count": 29,
   "metadata": {},
   "outputs": [
    {
     "data": {
      "text/plain": [
       "0"
      ]
     },
     "execution_count": 29,
     "metadata": {},
     "output_type": "execute_result"
    }
   ],
   "source": [
    "# Checking duplicates in the DataFrame\n",
    "dropoff.duplicated().sum()"
   ]
  },
  {
   "cell_type": "code",
   "execution_count": 30,
   "metadata": {},
   "outputs": [
    {
     "data": {
      "text/plain": [
       "company_name    0\n",
       "trips_amount    0\n",
       "dtype: int64"
      ]
     },
     "execution_count": 30,
     "metadata": {},
     "output_type": "execute_result"
    }
   ],
   "source": [
    "# To confirm the missing values of the DataFrame\n",
    "company.isna().sum()"
   ]
  },
  {
   "cell_type": "code",
   "execution_count": 31,
   "metadata": {},
   "outputs": [
    {
     "data": {
      "text/plain": [
       "dropoff_location_name    0\n",
       "average_trips            0\n",
       "dtype: int64"
      ]
     },
     "execution_count": 31,
     "metadata": {},
     "output_type": "execute_result"
    }
   ],
   "source": [
    "# To confirm the missing values of the DataFrame\n",
    "dropoff.isna().sum()"
   ]
  },
  {
   "cell_type": "code",
   "execution_count": 32,
   "metadata": {},
   "outputs": [
    {
     "data": {
      "text/plain": [
       "company_name    0.0\n",
       "trips_amount    0.0\n",
       "dtype: float64"
      ]
     },
     "execution_count": 32,
     "metadata": {},
     "output_type": "execute_result"
    }
   ],
   "source": [
    "# To get the percentile information of the columns in the dataframe\n",
    "company.isnull().sum()*100/len(company)\n"
   ]
  },
  {
   "cell_type": "code",
   "execution_count": 33,
   "metadata": {},
   "outputs": [
    {
     "data": {
      "text/plain": [
       "dropoff_location_name    0.0\n",
       "average_trips            0.0\n",
       "dtype: float64"
      ]
     },
     "execution_count": 33,
     "metadata": {},
     "output_type": "execute_result"
    }
   ],
   "source": [
    "# To get the percentile information of the columns in the dataframe\n",
    "dropoff.isnull().sum()*100/len(dropoff)\n"
   ]
  },
  {
   "cell_type": "code",
   "execution_count": 34,
   "metadata": {},
   "outputs": [
    {
     "data": {
      "text/html": [
       "<div>\n",
       "<style scoped>\n",
       "    .dataframe tbody tr th:only-of-type {\n",
       "        vertical-align: middle;\n",
       "    }\n",
       "\n",
       "    .dataframe tbody tr th {\n",
       "        vertical-align: top;\n",
       "    }\n",
       "\n",
       "    .dataframe thead th {\n",
       "        text-align: right;\n",
       "    }\n",
       "</style>\n",
       "<table border=\"1\" class=\"dataframe\">\n",
       "  <thead>\n",
       "    <tr style=\"text-align: right;\">\n",
       "      <th></th>\n",
       "      <th>company_name</th>\n",
       "      <th>trips_amount</th>\n",
       "    </tr>\n",
       "  </thead>\n",
       "  <tbody>\n",
       "    <tr>\n",
       "      <th>0</th>\n",
       "      <td>Flash Cab</td>\n",
       "      <td>19558</td>\n",
       "    </tr>\n",
       "    <tr>\n",
       "      <th>1</th>\n",
       "      <td>Taxi Affiliation Services</td>\n",
       "      <td>11422</td>\n",
       "    </tr>\n",
       "    <tr>\n",
       "      <th>2</th>\n",
       "      <td>Medallion Leasing</td>\n",
       "      <td>10367</td>\n",
       "    </tr>\n",
       "    <tr>\n",
       "      <th>3</th>\n",
       "      <td>Yellow Cab</td>\n",
       "      <td>9888</td>\n",
       "    </tr>\n",
       "    <tr>\n",
       "      <th>4</th>\n",
       "      <td>Taxi Affiliation Service Yellow</td>\n",
       "      <td>9299</td>\n",
       "    </tr>\n",
       "    <tr>\n",
       "      <th>5</th>\n",
       "      <td>Chicago Carriage Cab Corp</td>\n",
       "      <td>9181</td>\n",
       "    </tr>\n",
       "    <tr>\n",
       "      <th>6</th>\n",
       "      <td>City Service</td>\n",
       "      <td>8448</td>\n",
       "    </tr>\n",
       "    <tr>\n",
       "      <th>7</th>\n",
       "      <td>Sun Taxi</td>\n",
       "      <td>7701</td>\n",
       "    </tr>\n",
       "    <tr>\n",
       "      <th>8</th>\n",
       "      <td>Star North Management LLC</td>\n",
       "      <td>7455</td>\n",
       "    </tr>\n",
       "    <tr>\n",
       "      <th>9</th>\n",
       "      <td>Blue Ribbon Taxi Association Inc.</td>\n",
       "      <td>5953</td>\n",
       "    </tr>\n",
       "  </tbody>\n",
       "</table>\n",
       "</div>"
      ],
      "text/plain": [
       "                        company_name  trips_amount\n",
       "0                          Flash Cab         19558\n",
       "1          Taxi Affiliation Services         11422\n",
       "2                  Medallion Leasing         10367\n",
       "3                         Yellow Cab          9888\n",
       "4    Taxi Affiliation Service Yellow          9299\n",
       "5          Chicago Carriage Cab Corp          9181\n",
       "6                       City Service          8448\n",
       "7                           Sun Taxi          7701\n",
       "8          Star North Management LLC          7455\n",
       "9  Blue Ribbon Taxi Association Inc.          5953"
      ]
     },
     "execution_count": 34,
     "metadata": {},
     "output_type": "execute_result"
    }
   ],
   "source": [
    "# Print a sample of DataFrame for gamess\n",
    "company.head(10)"
   ]
  },
  {
   "cell_type": "code",
   "execution_count": 35,
   "metadata": {
    "scrolled": false
   },
   "outputs": [
    {
     "data": {
      "text/html": [
       "<div>\n",
       "<style scoped>\n",
       "    .dataframe tbody tr th:only-of-type {\n",
       "        vertical-align: middle;\n",
       "    }\n",
       "\n",
       "    .dataframe tbody tr th {\n",
       "        vertical-align: top;\n",
       "    }\n",
       "\n",
       "    .dataframe thead th {\n",
       "        text-align: right;\n",
       "    }\n",
       "</style>\n",
       "<table border=\"1\" class=\"dataframe\">\n",
       "  <thead>\n",
       "    <tr style=\"text-align: right;\">\n",
       "      <th></th>\n",
       "      <th>dropoff_location_name</th>\n",
       "      <th>average_trips</th>\n",
       "    </tr>\n",
       "  </thead>\n",
       "  <tbody>\n",
       "    <tr>\n",
       "      <th>0</th>\n",
       "      <td>Loop</td>\n",
       "      <td>10727.466667</td>\n",
       "    </tr>\n",
       "    <tr>\n",
       "      <th>1</th>\n",
       "      <td>River North</td>\n",
       "      <td>9523.666667</td>\n",
       "    </tr>\n",
       "    <tr>\n",
       "      <th>2</th>\n",
       "      <td>Streeterville</td>\n",
       "      <td>6664.666667</td>\n",
       "    </tr>\n",
       "    <tr>\n",
       "      <th>3</th>\n",
       "      <td>West Loop</td>\n",
       "      <td>5163.666667</td>\n",
       "    </tr>\n",
       "    <tr>\n",
       "      <th>4</th>\n",
       "      <td>O'Hare</td>\n",
       "      <td>2546.900000</td>\n",
       "    </tr>\n",
       "    <tr>\n",
       "      <th>5</th>\n",
       "      <td>Lake View</td>\n",
       "      <td>2420.966667</td>\n",
       "    </tr>\n",
       "    <tr>\n",
       "      <th>6</th>\n",
       "      <td>Grant Park</td>\n",
       "      <td>2068.533333</td>\n",
       "    </tr>\n",
       "    <tr>\n",
       "      <th>7</th>\n",
       "      <td>Museum Campus</td>\n",
       "      <td>1510.000000</td>\n",
       "    </tr>\n",
       "    <tr>\n",
       "      <th>8</th>\n",
       "      <td>Gold Coast</td>\n",
       "      <td>1364.233333</td>\n",
       "    </tr>\n",
       "    <tr>\n",
       "      <th>9</th>\n",
       "      <td>Sheffield &amp; DePaul</td>\n",
       "      <td>1259.766667</td>\n",
       "    </tr>\n",
       "  </tbody>\n",
       "</table>\n",
       "</div>"
      ],
      "text/plain": [
       "  dropoff_location_name  average_trips\n",
       "0                  Loop   10727.466667\n",
       "1           River North    9523.666667\n",
       "2         Streeterville    6664.666667\n",
       "3             West Loop    5163.666667\n",
       "4                O'Hare    2546.900000\n",
       "5             Lake View    2420.966667\n",
       "6            Grant Park    2068.533333\n",
       "7         Museum Campus    1510.000000\n",
       "8            Gold Coast    1364.233333\n",
       "9    Sheffield & DePaul    1259.766667"
      ]
     },
     "execution_count": 35,
     "metadata": {},
     "output_type": "execute_result"
    }
   ],
   "source": [
    "# Print a sample of DataFrame for gamess\n",
    "dropoff.head(10)"
   ]
  },
  {
   "cell_type": "markdown",
   "metadata": {},
   "source": [
    "###### Conclusion\n",
    "* The DataFrame company has 64 rows and 2 columns, the columns are company_name and trip_amount.\n",
    "* The DataFrame dropoff has 94 rows and 2 columns, the columns are dropoff_location_name and average_trip.\n",
    "* Both DataFrames, company and dropoff, have the right data types.\n",
    "* The DataFrame company has object and int64 data types. \n",
    "* The DataFrame dropoff has object and float64 data types.\n",
    "* It is confirmed that both the company and dropoff DataFrames have no duplicates in the data.\n",
    "* It is confirmed that both the company and dropoff DataFrames have no missing values in the data. They are pretty clean.\n",
    "* The number of rides for each taxi company on November 15-16, 2017 that is for two days was from 2 to 19,558. The mean and median for the company DataFrame (trip_amount) are 599 and 52 respectively, that is there is big difference.\n",
    "* The average number of rides that ended in each neighborhood in November 2017 in Chicago ranges from 1.8 seconds to 10727 seconds (which is around 3 hours). The mean and median of the average_trip are 599 and 52 respectively. There is big difference.  \n"
   ]
  },
  {
   "cell_type": "markdown",
   "metadata": {},
   "source": [
    "## Data Preprocessing"
   ]
  },
  {
   "cell_type": "code",
   "execution_count": 36,
   "metadata": {},
   "outputs": [
    {
     "data": {
      "text/plain": [
       "Index(['company_name', 'trips_amount'], dtype='object')"
      ]
     },
     "execution_count": 36,
     "metadata": {},
     "output_type": "execute_result"
    }
   ],
   "source": [
    "# To check whether column's name are written in appropriate way\n",
    "company.columns"
   ]
  },
  {
   "cell_type": "code",
   "execution_count": 37,
   "metadata": {},
   "outputs": [
    {
     "data": {
      "text/plain": [
       "Index(['dropoff_location_name', 'average_trips'], dtype='object')"
      ]
     },
     "execution_count": 37,
     "metadata": {},
     "output_type": "execute_result"
    }
   ],
   "source": [
    "# To check whether column's name are written in appropriate way\n",
    "dropoff.columns"
   ]
  },
  {
   "cell_type": "code",
   "execution_count": 38,
   "metadata": {
    "scrolled": true
   },
   "outputs": [
    {
     "data": {
      "text/plain": [
       "array(['Flash Cab', 'Taxi Affiliation Services', 'Medallion Leasing',\n",
       "       'Yellow Cab', 'Taxi Affiliation Service Yellow',\n",
       "       'Chicago Carriage Cab Corp', 'City Service', 'Sun Taxi',\n",
       "       'Star North Management LLC', 'Blue Ribbon Taxi Association Inc.',\n",
       "       'Choice Taxi Association', 'Globe Taxi',\n",
       "       'Dispatch Taxi Affiliation', 'Nova Taxi Affiliation Llc',\n",
       "       'Patriot Taxi Dba Peace Taxi Association',\n",
       "       'Checker Taxi Affiliation', 'Blue Diamond',\n",
       "       'Chicago Medallion Management', '24 Seven Taxi',\n",
       "       'Chicago Medallion Leasing INC', 'Checker Taxi', 'American United',\n",
       "       'Chicago Independents', 'KOAM Taxi Association', 'Chicago Taxicab',\n",
       "       'Top Cab Affiliation', 'Gold Coast Taxi',\n",
       "       'Service Taxi Association', '5 Star Taxi', '303 Taxi',\n",
       "       'Setare Inc', 'American United Taxi Affiliation', 'Leonard Cab Co',\n",
       "       'Metro Jet Taxi A', 'Norshore Cab', '6742 - 83735 Tasha Ride Inc',\n",
       "       '3591 - 63480 Chuks Cab', '1469 - 64126 Omar Jada',\n",
       "       '6743 - 78771 Luhak Corp', '0118 - 42111 Godfrey S. Awir',\n",
       "       '6574 - Babylon Express Inc.', 'Chicago Star Taxicab',\n",
       "       '1085 - 72312 N and W Cab Co', '2809 - 95474 C & D Cab Co Inc.',\n",
       "       '2092 - 61288 Sbeih Company', '3011 - 66308 JBL Cab Inc.',\n",
       "       '3620 - 52292 David K. Cab Corp.', '4615 - 83503 Tyrone Henderson',\n",
       "       '3623 - 72222 Arrington Enterprises', '5074 - 54002 Ahzmi Inc',\n",
       "       '2823 - 73307 Lee Express Inc', '4623 - 27290 Jay Kim',\n",
       "       '3721 - Santamaria Express', '5006 - 39261 Salifu Bawa',\n",
       "       '2192 - 73487 Zeymane Corp', '6057 - 24657 Richard Addo',\n",
       "       '5997 - 65283 AW Services Inc.', 'Metro Group',\n",
       "       '5062 - 34841 Sam Mestas', '4053 - 40193 Adwar H. Nikola',\n",
       "       '2733 - 74600 Benny Jona', '5874 - 73628 Sergey Cab Corp.',\n",
       "       '2241 - 44667 - Felman Corp', '3556 - 36214 RC Andrews Cab'],\n",
       "      dtype=object)"
      ]
     },
     "execution_count": 38,
     "metadata": {},
     "output_type": "execute_result"
    }
   ],
   "source": [
    "company['company_name'].unique()"
   ]
  },
  {
   "cell_type": "code",
   "execution_count": 39,
   "metadata": {},
   "outputs": [
    {
     "data": {
      "text/plain": [
       "array([19558, 11422, 10367,  9888,  9299,  9181,  8448,  7701,  7455,\n",
       "        5953,  5015,  4383,  3355,  3175,  2235,  2216,  2070,  1955,\n",
       "        1775,  1607,  1486,  1404,  1296,  1259,  1014,   978,   428,\n",
       "         402,   310,   250,   230,   210,   147,   146,   127,    39,\n",
       "          37,    36,    33,    31,    29,    27,    25,    21,    20,\n",
       "          16,    15,    14,    13,    12,    11,     8,     7,     5,\n",
       "           3,     2])"
      ]
     },
     "execution_count": 39,
     "metadata": {},
     "output_type": "execute_result"
    }
   ],
   "source": [
    "company['trips_amount'].unique()"
   ]
  },
  {
   "cell_type": "code",
   "execution_count": 40,
   "metadata": {
    "scrolled": true
   },
   "outputs": [
    {
     "data": {
      "text/plain": [
       "array(['Loop', 'River North', 'Streeterville', 'West Loop', \"O'Hare\",\n",
       "       'Lake View', 'Grant Park', 'Museum Campus', 'Gold Coast',\n",
       "       'Sheffield & DePaul', 'Lincoln Park', 'East Village',\n",
       "       'Little Italy, UIC', 'Uptown', 'Near South Side', 'Garfield Ridge',\n",
       "       'Logan Square', 'Edgewater', 'West Town', 'Old Town',\n",
       "       'Rush & Division', 'North Center', 'Lincoln Square', 'Rogers Park',\n",
       "       'West Ridge', 'Irving Park', 'Hyde Park', 'Avondale',\n",
       "       'Wicker Park', 'Albany Park', 'United Center', 'Lower West Side',\n",
       "       'Douglas', 'Portage Park', 'Humboldt Park', 'Norwood Park',\n",
       "       'Kenwood', 'Bridgeport', 'Armour Square', 'Jefferson Park',\n",
       "       'Bucktown', 'North Park', 'Garfield Park', 'Mckinley Park',\n",
       "       'Belmont Cragin', 'Boystown', 'Chinatown', 'Grand Boulevard',\n",
       "       'Austin', 'Sauganash,Forest Glen', 'South Shore', 'Woodlawn',\n",
       "       'Little Village', 'Jackson Park', 'North Lawndale', 'Dunning',\n",
       "       'Ukrainian Village', 'Hermosa', 'Englewood', 'Chatham', 'New City',\n",
       "       'Grand Crossing', 'Brighton Park', 'Andersonville', 'Oakland',\n",
       "       'Ashburn', 'Washington Park', 'Auburn Gresham', 'Clearing',\n",
       "       'Roseland', 'Wrigleyville', 'Edison Park', 'South Chicago',\n",
       "       'Chicago Lawn', 'Beverly', 'Calumet Heights', 'Washington Heights',\n",
       "       'Archer Heights', 'Gage Park', 'Fuller Park', 'West Lawn',\n",
       "       'Morgan Park', 'South Deering', 'Avalon Park', 'West Pullman',\n",
       "       'Montclare', 'West Elsdon', 'Pullman', 'Undef', 'Mount Greenwood',\n",
       "       'Hegewisch', 'Burnside', 'East Side', 'Riverdale'], dtype=object)"
      ]
     },
     "execution_count": 40,
     "metadata": {},
     "output_type": "execute_result"
    }
   ],
   "source": [
    "dropoff['dropoff_location_name'].unique()"
   ]
  },
  {
   "cell_type": "code",
   "execution_count": 41,
   "metadata": {
    "scrolled": true
   },
   "outputs": [
    {
     "data": {
      "text/plain": [
       "array([1.07274667e+04, 9.52366667e+03, 6.66466667e+03, 5.16366667e+03,\n",
       "       2.54690000e+03, 2.42096667e+03, 2.06853333e+03, 1.51000000e+03,\n",
       "       1.36423333e+03, 1.25976667e+03, 1.24653333e+03, 1.21206667e+03,\n",
       "       8.63700000e+02, 8.49666667e+02, 8.39833333e+02, 7.45400000e+02,\n",
       "       6.20333333e+02, 5.83300000e+02, 5.16400000e+02, 4.69566667e+02,\n",
       "       3.95533333e+02, 3.93266667e+02, 3.56733333e+02, 2.99033333e+02,\n",
       "       2.98333333e+02, 2.96566667e+02, 2.55133333e+02, 2.08233333e+02,\n",
       "       1.82600000e+02, 1.80900000e+02, 1.78900000e+02, 1.43300000e+02,\n",
       "       1.42900000e+02, 1.19733333e+02, 9.78666667e+01, 9.52333333e+01,\n",
       "       8.93666667e+01, 7.71000000e+01, 7.70333333e+01, 7.43333333e+01,\n",
       "       7.43000000e+01, 6.78333333e+01, 6.57666667e+01, 6.40333333e+01,\n",
       "       5.90333333e+01, 5.39666667e+01, 5.24333333e+01, 5.16000000e+01,\n",
       "       4.44333333e+01, 4.35666667e+01, 4.05333333e+01, 3.61666667e+01,\n",
       "       3.38000000e+01, 3.31034483e+01, 3.21666667e+01, 3.01666667e+01,\n",
       "       2.76000000e+01, 2.75666667e+01, 2.54333333e+01, 2.32000000e+01,\n",
       "       2.29333333e+01, 2.26000000e+01, 1.94666667e+01, 1.68666667e+01,\n",
       "       1.66333333e+01, 1.61333333e+01, 1.60333333e+01, 1.51666667e+01,\n",
       "       1.45000000e+01, 1.43666667e+01, 1.42333333e+01, 1.41666667e+01,\n",
       "       1.30000000e+01, 1.22666667e+01, 1.05000000e+01, 9.56666667e+00,\n",
       "       9.13333333e+00, 8.36666667e+00, 8.23333333e+00, 8.16666667e+00,\n",
       "       7.73333333e+00, 7.70000000e+00, 7.50000000e+00, 6.96666667e+00,\n",
       "       6.46666667e+00, 5.76666667e+00, 5.66666667e+00, 3.89655172e+00,\n",
       "       3.80000000e+00, 3.13793103e+00, 3.11764706e+00, 2.33333333e+00,\n",
       "       1.96153846e+00, 1.80000000e+00])"
      ]
     },
     "execution_count": 41,
     "metadata": {},
     "output_type": "execute_result"
    }
   ],
   "source": [
    "dropoff['average_trips'].unique()"
   ]
  },
  {
   "cell_type": "markdown",
   "metadata": {},
   "source": [
    "###### identify the top 10 neighborhoods in terms of drop-offs"
   ]
  },
  {
   "cell_type": "markdown",
   "metadata": {},
   "source": [
    "The 10 Top dropoof locations can be obtained using sorting method and the descending order can be done by assigning ascending False."
   ]
  },
  {
   "cell_type": "code",
   "execution_count": 42,
   "metadata": {
    "scrolled": false
   },
   "outputs": [
    {
     "data": {
      "text/html": [
       "<div>\n",
       "<style scoped>\n",
       "    .dataframe tbody tr th:only-of-type {\n",
       "        vertical-align: middle;\n",
       "    }\n",
       "\n",
       "    .dataframe tbody tr th {\n",
       "        vertical-align: top;\n",
       "    }\n",
       "\n",
       "    .dataframe thead th {\n",
       "        text-align: right;\n",
       "    }\n",
       "</style>\n",
       "<table border=\"1\" class=\"dataframe\">\n",
       "  <thead>\n",
       "    <tr style=\"text-align: right;\">\n",
       "      <th></th>\n",
       "      <th>dropoff_location_name</th>\n",
       "      <th>average_trips</th>\n",
       "    </tr>\n",
       "  </thead>\n",
       "  <tbody>\n",
       "    <tr>\n",
       "      <th>0</th>\n",
       "      <td>Loop</td>\n",
       "      <td>10727.466667</td>\n",
       "    </tr>\n",
       "    <tr>\n",
       "      <th>1</th>\n",
       "      <td>River North</td>\n",
       "      <td>9523.666667</td>\n",
       "    </tr>\n",
       "    <tr>\n",
       "      <th>2</th>\n",
       "      <td>Streeterville</td>\n",
       "      <td>6664.666667</td>\n",
       "    </tr>\n",
       "    <tr>\n",
       "      <th>3</th>\n",
       "      <td>West Loop</td>\n",
       "      <td>5163.666667</td>\n",
       "    </tr>\n",
       "    <tr>\n",
       "      <th>4</th>\n",
       "      <td>O'Hare</td>\n",
       "      <td>2546.900000</td>\n",
       "    </tr>\n",
       "    <tr>\n",
       "      <th>5</th>\n",
       "      <td>Lake View</td>\n",
       "      <td>2420.966667</td>\n",
       "    </tr>\n",
       "    <tr>\n",
       "      <th>6</th>\n",
       "      <td>Grant Park</td>\n",
       "      <td>2068.533333</td>\n",
       "    </tr>\n",
       "    <tr>\n",
       "      <th>7</th>\n",
       "      <td>Museum Campus</td>\n",
       "      <td>1510.000000</td>\n",
       "    </tr>\n",
       "    <tr>\n",
       "      <th>8</th>\n",
       "      <td>Gold Coast</td>\n",
       "      <td>1364.233333</td>\n",
       "    </tr>\n",
       "    <tr>\n",
       "      <th>9</th>\n",
       "      <td>Sheffield &amp; DePaul</td>\n",
       "      <td>1259.766667</td>\n",
       "    </tr>\n",
       "  </tbody>\n",
       "</table>\n",
       "</div>"
      ],
      "text/plain": [
       "  dropoff_location_name  average_trips\n",
       "0                  Loop   10727.466667\n",
       "1           River North    9523.666667\n",
       "2         Streeterville    6664.666667\n",
       "3             West Loop    5163.666667\n",
       "4                O'Hare    2546.900000\n",
       "5             Lake View    2420.966667\n",
       "6            Grant Park    2068.533333\n",
       "7         Museum Campus    1510.000000\n",
       "8            Gold Coast    1364.233333\n",
       "9    Sheffield & DePaul    1259.766667"
      ]
     },
     "execution_count": 42,
     "metadata": {},
     "output_type": "execute_result"
    }
   ],
   "source": [
    "# To get the top 10 dropoff locations\n",
    "top10_dropoff_location = dropoff.sort_values(by = 'average_trips', ascending = False)\n",
    "top10_dropoff_location.head(10)"
   ]
  },
  {
   "cell_type": "code",
   "execution_count": 43,
   "metadata": {
    "scrolled": true
   },
   "outputs": [
    {
     "data": {
      "text/html": [
       "<div>\n",
       "<style scoped>\n",
       "    .dataframe tbody tr th:only-of-type {\n",
       "        vertical-align: middle;\n",
       "    }\n",
       "\n",
       "    .dataframe tbody tr th {\n",
       "        vertical-align: top;\n",
       "    }\n",
       "\n",
       "    .dataframe thead th {\n",
       "        text-align: right;\n",
       "    }\n",
       "</style>\n",
       "<table border=\"1\" class=\"dataframe\">\n",
       "  <thead>\n",
       "    <tr style=\"text-align: right;\">\n",
       "      <th></th>\n",
       "      <th>dropoff_location_name</th>\n",
       "      <th>average_trips</th>\n",
       "    </tr>\n",
       "  </thead>\n",
       "  <tbody>\n",
       "    <tr>\n",
       "      <th>0</th>\n",
       "      <td>Loop</td>\n",
       "      <td>10727.47</td>\n",
       "    </tr>\n",
       "    <tr>\n",
       "      <th>1</th>\n",
       "      <td>River North</td>\n",
       "      <td>9523.67</td>\n",
       "    </tr>\n",
       "    <tr>\n",
       "      <th>2</th>\n",
       "      <td>Streeterville</td>\n",
       "      <td>6664.67</td>\n",
       "    </tr>\n",
       "    <tr>\n",
       "      <th>3</th>\n",
       "      <td>West Loop</td>\n",
       "      <td>5163.67</td>\n",
       "    </tr>\n",
       "    <tr>\n",
       "      <th>4</th>\n",
       "      <td>O'Hare</td>\n",
       "      <td>2546.90</td>\n",
       "    </tr>\n",
       "    <tr>\n",
       "      <th>5</th>\n",
       "      <td>Lake View</td>\n",
       "      <td>2420.97</td>\n",
       "    </tr>\n",
       "    <tr>\n",
       "      <th>6</th>\n",
       "      <td>Grant Park</td>\n",
       "      <td>2068.53</td>\n",
       "    </tr>\n",
       "    <tr>\n",
       "      <th>7</th>\n",
       "      <td>Museum Campus</td>\n",
       "      <td>1510.00</td>\n",
       "    </tr>\n",
       "    <tr>\n",
       "      <th>8</th>\n",
       "      <td>Gold Coast</td>\n",
       "      <td>1364.23</td>\n",
       "    </tr>\n",
       "    <tr>\n",
       "      <th>9</th>\n",
       "      <td>Sheffield &amp; DePaul</td>\n",
       "      <td>1259.77</td>\n",
       "    </tr>\n",
       "  </tbody>\n",
       "</table>\n",
       "</div>"
      ],
      "text/plain": [
       "  dropoff_location_name  average_trips\n",
       "0                  Loop       10727.47\n",
       "1           River North        9523.67\n",
       "2         Streeterville        6664.67\n",
       "3             West Loop        5163.67\n",
       "4                O'Hare        2546.90\n",
       "5             Lake View        2420.97\n",
       "6            Grant Park        2068.53\n",
       "7         Museum Campus        1510.00\n",
       "8            Gold Coast        1364.23\n",
       "9    Sheffield & DePaul        1259.77"
      ]
     },
     "execution_count": 43,
     "metadata": {},
     "output_type": "execute_result"
    }
   ],
   "source": [
    "# To get the top 10 dropoff locations using rounding\n",
    "top10_dropoff_location = dropoff.round(2).sort_values(by = 'average_trips', ascending = False)\n",
    "top10_dropoff_location.head(10)"
   ]
  },
  {
   "cell_type": "code",
   "execution_count": 44,
   "metadata": {
    "scrolled": true
   },
   "outputs": [
    {
     "data": {
      "text/html": [
       "<div>\n",
       "<style scoped>\n",
       "    .dataframe tbody tr th:only-of-type {\n",
       "        vertical-align: middle;\n",
       "    }\n",
       "\n",
       "    .dataframe tbody tr th {\n",
       "        vertical-align: top;\n",
       "    }\n",
       "\n",
       "    .dataframe thead th {\n",
       "        text-align: right;\n",
       "    }\n",
       "</style>\n",
       "<table border=\"1\" class=\"dataframe\">\n",
       "  <thead>\n",
       "    <tr style=\"text-align: right;\">\n",
       "      <th></th>\n",
       "      <th>dropoff_location_name</th>\n",
       "      <th>average_trips</th>\n",
       "    </tr>\n",
       "  </thead>\n",
       "  <tbody>\n",
       "    <tr>\n",
       "      <th>93</th>\n",
       "      <td>Riverdale</td>\n",
       "      <td>1.800000</td>\n",
       "    </tr>\n",
       "    <tr>\n",
       "      <th>92</th>\n",
       "      <td>East Side</td>\n",
       "      <td>1.961538</td>\n",
       "    </tr>\n",
       "    <tr>\n",
       "      <th>91</th>\n",
       "      <td>Burnside</td>\n",
       "      <td>2.333333</td>\n",
       "    </tr>\n",
       "    <tr>\n",
       "      <th>90</th>\n",
       "      <td>Hegewisch</td>\n",
       "      <td>3.117647</td>\n",
       "    </tr>\n",
       "    <tr>\n",
       "      <th>89</th>\n",
       "      <td>Mount Greenwood</td>\n",
       "      <td>3.137931</td>\n",
       "    </tr>\n",
       "    <tr>\n",
       "      <th>88</th>\n",
       "      <td>Undef</td>\n",
       "      <td>3.800000</td>\n",
       "    </tr>\n",
       "    <tr>\n",
       "      <th>87</th>\n",
       "      <td>Pullman</td>\n",
       "      <td>3.896552</td>\n",
       "    </tr>\n",
       "    <tr>\n",
       "      <th>86</th>\n",
       "      <td>West Elsdon</td>\n",
       "      <td>5.666667</td>\n",
       "    </tr>\n",
       "    <tr>\n",
       "      <th>85</th>\n",
       "      <td>Montclare</td>\n",
       "      <td>5.766667</td>\n",
       "    </tr>\n",
       "    <tr>\n",
       "      <th>84</th>\n",
       "      <td>West Pullman</td>\n",
       "      <td>6.466667</td>\n",
       "    </tr>\n",
       "  </tbody>\n",
       "</table>\n",
       "</div>"
      ],
      "text/plain": [
       "   dropoff_location_name  average_trips\n",
       "93             Riverdale       1.800000\n",
       "92             East Side       1.961538\n",
       "91              Burnside       2.333333\n",
       "90             Hegewisch       3.117647\n",
       "89       Mount Greenwood       3.137931\n",
       "88                 Undef       3.800000\n",
       "87               Pullman       3.896552\n",
       "86           West Elsdon       5.666667\n",
       "85             Montclare       5.766667\n",
       "84          West Pullman       6.466667"
      ]
     },
     "execution_count": 44,
     "metadata": {},
     "output_type": "execute_result"
    }
   ],
   "source": [
    "# To get the bottom 10 dropoff locations\n",
    "top10_dropoff_location = dropoff.sort_values(by = 'average_trips', ascending = True)\n",
    "top10_dropoff_location.head(10)"
   ]
  },
  {
   "cell_type": "code",
   "execution_count": 45,
   "metadata": {
    "scrolled": true
   },
   "outputs": [
    {
     "data": {
      "text/html": [
       "<div>\n",
       "<style scoped>\n",
       "    .dataframe tbody tr th:only-of-type {\n",
       "        vertical-align: middle;\n",
       "    }\n",
       "\n",
       "    .dataframe tbody tr th {\n",
       "        vertical-align: top;\n",
       "    }\n",
       "\n",
       "    .dataframe thead th {\n",
       "        text-align: right;\n",
       "    }\n",
       "</style>\n",
       "<table border=\"1\" class=\"dataframe\">\n",
       "  <thead>\n",
       "    <tr style=\"text-align: right;\">\n",
       "      <th></th>\n",
       "      <th>company_name</th>\n",
       "      <th>trips_amount</th>\n",
       "    </tr>\n",
       "  </thead>\n",
       "  <tbody>\n",
       "    <tr>\n",
       "      <th>0</th>\n",
       "      <td>Flash Cab</td>\n",
       "      <td>19558</td>\n",
       "    </tr>\n",
       "    <tr>\n",
       "      <th>1</th>\n",
       "      <td>Taxi Affiliation Services</td>\n",
       "      <td>11422</td>\n",
       "    </tr>\n",
       "    <tr>\n",
       "      <th>2</th>\n",
       "      <td>Medallion Leasing</td>\n",
       "      <td>10367</td>\n",
       "    </tr>\n",
       "    <tr>\n",
       "      <th>3</th>\n",
       "      <td>Yellow Cab</td>\n",
       "      <td>9888</td>\n",
       "    </tr>\n",
       "    <tr>\n",
       "      <th>4</th>\n",
       "      <td>Taxi Affiliation Service Yellow</td>\n",
       "      <td>9299</td>\n",
       "    </tr>\n",
       "    <tr>\n",
       "      <th>5</th>\n",
       "      <td>Chicago Carriage Cab Corp</td>\n",
       "      <td>9181</td>\n",
       "    </tr>\n",
       "    <tr>\n",
       "      <th>6</th>\n",
       "      <td>City Service</td>\n",
       "      <td>8448</td>\n",
       "    </tr>\n",
       "    <tr>\n",
       "      <th>7</th>\n",
       "      <td>Sun Taxi</td>\n",
       "      <td>7701</td>\n",
       "    </tr>\n",
       "    <tr>\n",
       "      <th>8</th>\n",
       "      <td>Star North Management LLC</td>\n",
       "      <td>7455</td>\n",
       "    </tr>\n",
       "    <tr>\n",
       "      <th>9</th>\n",
       "      <td>Blue Ribbon Taxi Association Inc.</td>\n",
       "      <td>5953</td>\n",
       "    </tr>\n",
       "  </tbody>\n",
       "</table>\n",
       "</div>"
      ],
      "text/plain": [
       "                        company_name  trips_amount\n",
       "0                          Flash Cab         19558\n",
       "1          Taxi Affiliation Services         11422\n",
       "2                  Medallion Leasing         10367\n",
       "3                         Yellow Cab          9888\n",
       "4    Taxi Affiliation Service Yellow          9299\n",
       "5          Chicago Carriage Cab Corp          9181\n",
       "6                       City Service          8448\n",
       "7                           Sun Taxi          7701\n",
       "8          Star North Management LLC          7455\n",
       "9  Blue Ribbon Taxi Association Inc.          5953"
      ]
     },
     "execution_count": 45,
     "metadata": {},
     "output_type": "execute_result"
    }
   ],
   "source": [
    "# To get the bottom 10 dropoff locations\n",
    "company = company.sort_values(by = 'trips_amount', ascending = False)\n",
    "company.head(10)"
   ]
  },
  {
   "cell_type": "code",
   "execution_count": 46,
   "metadata": {
    "scrolled": false
   },
   "outputs": [
    {
     "data": {
      "image/png": "[encoded data removed]",
      "text/plain": [
       "<Figure size 1008x864 with 1 Axes>"
      ]
     },
     "metadata": {
      "needs_background": "light"
     },
     "output_type": "display_data"
    }
   ],
   "source": [
    "# Bar graph of the taxi companies and number of rides\n",
    "company.plot.barh(x ='company_name', y='trips_amount', figsize=(14, 12), rot = 0, legend = False)\n",
    "plt.title('The graph of Taxi companies in Chicagoo on November 15-16, 2017 and number of rides')\n",
    "plt.xlabel('Number of Trips Performed')\n",
    "plt.ylabel('Company Name')\n",
    "plt.show()"
   ]
  },
  {
   "cell_type": "code",
   "execution_count": 47,
   "metadata": {
    "scrolled": false
   },
   "outputs": [
    {
     "data": {
      "image/png": "[encoded data removed]",
      "text/plain": [
       "<Figure size 1008x576 with 1 Axes>"
      ]
     },
     "metadata": {
      "needs_background": "light"
     },
     "output_type": "display_data"
    }
   ],
   "source": [
    "# Filtering Taxi companies performing more than 2000 number of trips \n",
    "company.query('trips_amount >= 2000').plot.barh(x = 'company_name', y = 'trips_amount', rot = 0, figsize = (14, 8), legend = False)\n",
    "plt.title('Taxi companies and number of trips')\n",
    "plt.xlabel('Number of Trips')\n",
    "plt.ylabel('Company Name')\n",
    "plt.show()\n"
   ]
  },
  {
   "cell_type": "code",
   "execution_count": 48,
   "metadata": {
    "scrolled": false
   },
   "outputs": [
    {
     "data": {
      "image/png": "[encoded data removed]",
      "text/plain": [
       "<Figure size 1008x864 with 1 Axes>"
      ]
     },
     "metadata": {
      "needs_background": "light"
     },
     "output_type": "display_data"
    }
   ],
   "source": [
    "top10_dropoff_location.plot.barh(x ='dropoff_location_name', y='average_trips', figsize=(14, 12), legend = False)\n",
    "plt.title('The graph of Taxi companies in Chicagoo on November 15-16, 2017 and number of rides')\n",
    "plt.xlabel('Number of Trips Performed')\n",
    "plt.ylabel('Company Name')\n",
    "plt.show()"
   ]
  },
  {
   "cell_type": "code",
   "execution_count": 49,
   "metadata": {
    "scrolled": false
   },
   "outputs": [
    {
     "data": {
      "image/png": "[encoded data removed]",
      "text/plain": [
       "<Figure size 1008x432 with 1 Axes>"
      ]
     },
     "metadata": {
      "needs_background": "light"
     },
     "output_type": "display_data"
    }
   ],
   "source": [
    "# Top 10 neighborhoods by number of dropoffs\n",
    "top10_dropoff_location.query('average_trips >= 1250').plot.barh(x='dropoff_location_name', y='average_trips', figsize=(14, 6), legend = False)\n",
    "plt.title('The graph of Taxi companies in Chicagoo on November 15-16, 2017 and number of rides')\n",
    "plt.xlabel('Average Trips Performed')\n",
    "plt.ylabel('Company Name')\n",
    "plt.show()"
   ]
  },
  {
   "cell_type": "code",
   "execution_count": 50,
   "metadata": {
    "scrolled": true
   },
   "outputs": [
    {
     "data": {
      "image/png": "[encoded data removed]",
      "text/plain": [
       "<Figure size 1008x432 with 1 Axes>"
      ]
     },
     "metadata": {
      "needs_background": "light"
     },
     "output_type": "display_data"
    }
   ],
   "source": [
    "# Top 10 neighborhoods by number of dropoffs\n",
    "top10_dropoff_location.query('average_trips >= 1250').plot.barh(x='dropoff_location_name', y='average_trips', rot=0, figsize=(14, 6))\n",
    "plt.title('The graph of Taxi companies in Chicagoo on November 15-16, 2017 and number of rides')\n",
    "plt.xlabel('Company Name')\n",
    "plt.ylabel('Average Trips Performed')\n",
    "plt.show()"
   ]
  },
  {
   "cell_type": "code",
   "execution_count": 51,
   "metadata": {
    "scrolled": true
   },
   "outputs": [
    {
     "data": {
      "image/png": "[encoded data removed]",
      "text/plain": [
       "<Figure size 1008x432 with 1 Axes>"
      ]
     },
     "metadata": {},
     "output_type": "display_data"
    }
   ],
   "source": [
    "top10_dropoff_location.query('average_trips >= 1250').plot.pie(x='dropoff_location_name', y='average_trips', rot=0, figsize=(14, 6), autopct = '%1.0f%%', legend = False)\n",
    "plt.title('The graph of Taxi companies in Chicago on November 15-16, 2017 and number of rides')\n",
    "plt.xlabel('neighborhood')\n",
    "plt.ylabel('Average Trips Performed')\n",
    "plt.show()"
   ]
  },
  {
   "cell_type": "code",
   "execution_count": 885,
   "metadata": {
    "scrolled": true
   },
   "outputs": [
    {
     "data": {
      "image/png": "[encoded data removed]",
      "text/plain": [
       "<Figure size 432x288 with 1 Axes>"
      ]
     },
     "metadata": {},
     "output_type": "display_data"
    }
   ],
   "source": [
    "top10_dropoff_location.plot.pie(x='dropoff_location_name', y='average_trips', legend = False)\n",
    "plt.show()"
   ]
  },
  {
   "cell_type": "code",
   "execution_count": 886,
   "metadata": {
    "scrolled": true
   },
   "outputs": [
    {
     "data": {
      "text/plain": [
       "7     1510.000000\n",
       "6     2068.533333\n",
       "5     2420.966667\n",
       "4     2546.900000\n",
       "3     5163.666667\n",
       "2     6664.666667\n",
       "1     9523.666667\n",
       "0    10727.466667\n",
       "Name: average_trips, dtype: float64"
      ]
     },
     "execution_count": 886,
     "metadata": {},
     "output_type": "execute_result"
    }
   ],
   "source": [
    "top10_dropoff_location_data = top10_dropoff_location['average_trips']\n",
    "top10_dropoff_location_data.tail(8)"
   ]
  },
  {
   "cell_type": "code",
   "execution_count": 887,
   "metadata": {
    "scrolled": false
   },
   "outputs": [
    {
     "data": {
      "image/png": "[encoded data removed]",
      "text/plain": [
       "<Figure size 432x288 with 1 Axes>"
      ]
     },
     "metadata": {},
     "output_type": "display_data"
    }
   ],
   "source": [
    "top10_dropoff_location_data.plot.pie()\n",
    "plt.show()"
   ]
  },
  {
   "cell_type": "code",
   "execution_count": 888,
   "metadata": {},
   "outputs": [
    {
     "data": {
      "image/png": "[encoded data removed]",
      "text/plain": [
       "<Figure size 432x288 with 1 Axes>"
      ]
     },
     "metadata": {},
     "output_type": "display_data"
    }
   ],
   "source": [
    "top10_dropoff_location_data.tail(8).plot.pie()\n",
    "plt.show()"
   ]
  },
  {
   "cell_type": "code",
   "execution_count": 889,
   "metadata": {
    "scrolled": true
   },
   "outputs": [
    {
     "data": {
      "text/plain": [
       "15769.783783221508"
      ]
     },
     "execution_count": 889,
     "metadata": {},
     "output_type": "execute_result"
    }
   ],
   "source": [
    "other_top10_dropoff_location = sum(top10_dropoff_location_data) - sum(top10_dropoff_location_data.tail(8))\n",
    "other_top10_dropoff_location"
   ]
  },
  {
   "cell_type": "code",
   "execution_count": 890,
   "metadata": {
    "scrolled": true
   },
   "outputs": [
    {
     "data": {
      "text/plain": [
       "7     1510.000000\n",
       "6     2068.533333\n",
       "5     2420.966667\n",
       "4     2546.900000\n",
       "3     5163.666667\n",
       "2     6664.666667\n",
       "1     9523.666667\n",
       "0    10727.466667\n",
       "Name: average_trips, dtype: float64"
      ]
     },
     "execution_count": 890,
     "metadata": {},
     "output_type": "execute_result"
    }
   ],
   "source": [
    "series1 = top10_dropoff_location_data.tail(8)\n",
    "series1"
   ]
  },
  {
   "cell_type": "code",
   "execution_count": 891,
   "metadata": {
    "scrolled": true
   },
   "outputs": [
    {
     "data": {
      "text/plain": [
       "others    15769.783783\n",
       "dtype: float64"
      ]
     },
     "execution_count": 891,
     "metadata": {},
     "output_type": "execute_result"
    }
   ],
   "source": [
    "series2 = Series([other_top10_dropoff_location], index = ['others'])\n",
    "series2"
   ]
  },
  {
   "cell_type": "code",
   "execution_count": 892,
   "metadata": {},
   "outputs": [
    {
     "data": {
      "text/plain": [
       "7          1510.000000\n",
       "6          2068.533333\n",
       "5          2420.966667\n",
       "4          2546.900000\n",
       "3          5163.666667\n",
       "2          6664.666667\n",
       "1          9523.666667\n",
       "0         10727.466667\n",
       "others    15769.783783\n",
       "dtype: float64"
      ]
     },
     "execution_count": 892,
     "metadata": {},
     "output_type": "execute_result"
    }
   ],
   "source": [
    "plot_data = pd.concat([series1, series2])\n",
    "plot_data"
   ]
  },
  {
   "cell_type": "code",
   "execution_count": 893,
   "metadata": {},
   "outputs": [
    {
     "data": {
      "image/png": "[encoded data removed]",
      "text/plain": [
       "<Figure size 432x432 with 1 Axes>"
      ]
     },
     "metadata": {},
     "output_type": "display_data"
    }
   ],
   "source": [
    "plot_data.plot.pie(figsize=(6,6), autopct = '%1.0f%%', label =' average_trips', title = 'Taxi companies in Chicago')\n",
    "plt.show()"
   ]
  },
  {
   "cell_type": "markdown",
   "metadata": {},
   "source": [
    "###### Conclusion"
   ]
  },
  {
   "cell_type": "markdown",
   "metadata": {},
   "source": [
    " * The bar graphs show, the most 10 popular dropoff locations in Chicago on November 15-16, 2017 were Loop, River North, Streeterville, West Loop, O'Hare, Lake View, Grant Park, Museum Campus, Gold Coast, and Sheffield and DePaul.\n",
    " \n",
    " * The droppoff location with the lowest average trip is Riverdale (1.8 second).\n",
    " \n",
    " * The top five popular Taxi companies in Chicago on November 15-16, 2017 were Flash Cap, Taxi Affiliation Services, Medallion Leasing, Yellow Cap and Taxi Affiliation Service Yellow. "
   ]
  },
  {
   "cell_type": "markdown",
   "metadata": {},
   "source": [
    "###### Step 5. Testing hypotheses (Python)\n",
    "\n",
    "\n",
    "            /datasets/project_sql_result_07.csv — the result of the last query. \n",
    "  \n",
    "  It contains data on rides from the Loop to O'Hare International Airport. Remember, these are the table's field values:\n",
    "  \n",
    "    * start_ts - pickup date and time\n",
    "  \n",
    "    * weather_conditions - weather conditions at the moment the ride started\n",
    "  \n",
    "    * duration_seconds - ride duration in seconds\n",
    "  \n",
    " \n",
    " ###### Test the hypothesis:\n",
    " \n",
    " \n",
    "    \"The average duration of rides from the Loop to O'Hare International Airport changes on rainy Saturdays.\"\n",
    "    \n",
    "     Decide where to set the significance level (alpha) on your own.\n",
    "     \n",
    "###### Explain:\n",
    "\n",
    "  * How you formed the null and alternative hypotheses\n",
    "  \n",
    "  * What criterion you used to test the hypotheses and why\n"
   ]
  },
  {
   "cell_type": "code",
   "execution_count": 894,
   "metadata": {
    "scrolled": true
   },
   "outputs": [],
   "source": [
    "# Read the dataset\n",
    "try:\n",
    "    rides = pd.read_csv('project_sql_result_07.csv')\n",
    "except:\n",
    "    rides = pd.read_csv('/datasets/project_sql_result_07.csv')"
   ]
  },
  {
   "cell_type": "code",
   "execution_count": 895,
   "metadata": {
    "scrolled": true
   },
   "outputs": [
    {
     "name": "stdout",
     "output_type": "stream",
     "text": [
      "<class 'pandas.core.frame.DataFrame'>\n",
      "RangeIndex: 1068 entries, 0 to 1067\n",
      "Data columns (total 3 columns):\n",
      " #   Column              Non-Null Count  Dtype  \n",
      "---  ------              --------------  -----  \n",
      " 0   start_ts            1068 non-null   object \n",
      " 1   weather_conditions  1068 non-null   object \n",
      " 2   duration_seconds    1068 non-null   float64\n",
      "dtypes: float64(1), object(2)\n",
      "memory usage: 25.2+ KB\n"
     ]
    }
   ],
   "source": [
    "# Print the general/summary information about the games DataFrame\n",
    "rides.info()"
   ]
  },
  {
   "cell_type": "code",
   "execution_count": 896,
   "metadata": {},
   "outputs": [
    {
     "data": {
      "text/plain": [
       "(1068, 3)"
      ]
     },
     "execution_count": 896,
     "metadata": {},
     "output_type": "execute_result"
    }
   ],
   "source": [
    "# To know the number of columns and rows in the DataFrame\n",
    "rides.shape"
   ]
  },
  {
   "cell_type": "code",
   "execution_count": 897,
   "metadata": {},
   "outputs": [
    {
     "data": {
      "text/plain": [
       "Index(['start_ts', 'weather_conditions', 'duration_seconds'], dtype='object')"
      ]
     },
     "execution_count": 897,
     "metadata": {},
     "output_type": "execute_result"
    }
   ],
   "source": [
    "rides.columns"
   ]
  },
  {
   "cell_type": "code",
   "execution_count": 898,
   "metadata": {
    "scrolled": false
   },
   "outputs": [
    {
     "data": {
      "text/plain": [
       "start_ts               object\n",
       "weather_conditions     object\n",
       "duration_seconds      float64\n",
       "dtype: object"
      ]
     },
     "execution_count": 898,
     "metadata": {},
     "output_type": "execute_result"
    }
   ],
   "source": [
    "# Check data type of the DataFrame\n",
    "rides.dtypes"
   ]
  },
  {
   "cell_type": "code",
   "execution_count": 899,
   "metadata": {
    "scrolled": false
   },
   "outputs": [
    {
     "data": {
      "text/html": [
       "<div>\n",
       "<style scoped>\n",
       "    .dataframe tbody tr th:only-of-type {\n",
       "        vertical-align: middle;\n",
       "    }\n",
       "\n",
       "    .dataframe tbody tr th {\n",
       "        vertical-align: top;\n",
       "    }\n",
       "\n",
       "    .dataframe thead th {\n",
       "        text-align: right;\n",
       "    }\n",
       "</style>\n",
       "<table border=\"1\" class=\"dataframe\">\n",
       "  <thead>\n",
       "    <tr style=\"text-align: right;\">\n",
       "      <th></th>\n",
       "      <th>duration_seconds</th>\n",
       "    </tr>\n",
       "  </thead>\n",
       "  <tbody>\n",
       "    <tr>\n",
       "      <th>count</th>\n",
       "      <td>1068.000000</td>\n",
       "    </tr>\n",
       "    <tr>\n",
       "      <th>mean</th>\n",
       "      <td>2071.731273</td>\n",
       "    </tr>\n",
       "    <tr>\n",
       "      <th>std</th>\n",
       "      <td>769.461125</td>\n",
       "    </tr>\n",
       "    <tr>\n",
       "      <th>min</th>\n",
       "      <td>0.000000</td>\n",
       "    </tr>\n",
       "    <tr>\n",
       "      <th>25%</th>\n",
       "      <td>1438.250000</td>\n",
       "    </tr>\n",
       "    <tr>\n",
       "      <th>50%</th>\n",
       "      <td>1980.000000</td>\n",
       "    </tr>\n",
       "    <tr>\n",
       "      <th>75%</th>\n",
       "      <td>2580.000000</td>\n",
       "    </tr>\n",
       "    <tr>\n",
       "      <th>max</th>\n",
       "      <td>7440.000000</td>\n",
       "    </tr>\n",
       "  </tbody>\n",
       "</table>\n",
       "</div>"
      ],
      "text/plain": [
       "       duration_seconds\n",
       "count       1068.000000\n",
       "mean        2071.731273\n",
       "std          769.461125\n",
       "min            0.000000\n",
       "25%         1438.250000\n",
       "50%         1980.000000\n",
       "75%         2580.000000\n",
       "max         7440.000000"
      ]
     },
     "execution_count": 899,
     "metadata": {},
     "output_type": "execute_result"
    }
   ],
   "source": [
    "# To get information about statistical character of the DataFrame\n",
    "rides.describe()"
   ]
  },
  {
   "cell_type": "code",
   "execution_count": 900,
   "metadata": {},
   "outputs": [
    {
     "data": {
      "text/plain": [
       "197"
      ]
     },
     "execution_count": 900,
     "metadata": {},
     "output_type": "execute_result"
    }
   ],
   "source": [
    "# Checking duplicates\n",
    "rides.duplicated().sum()"
   ]
  },
  {
   "cell_type": "code",
   "execution_count": 901,
   "metadata": {},
   "outputs": [
    {
     "data": {
      "text/plain": [
       "start_ts              0\n",
       "weather_conditions    0\n",
       "duration_seconds      0\n",
       "dtype: int64"
      ]
     },
     "execution_count": 901,
     "metadata": {},
     "output_type": "execute_result"
    }
   ],
   "source": [
    "# To confirm the missing values of the DataFrame\n",
    "rides.isna().sum()"
   ]
  },
  {
   "cell_type": "code",
   "execution_count": 902,
   "metadata": {},
   "outputs": [
    {
     "data": {
      "text/plain": [
       "start_ts              0.0\n",
       "weather_conditions    0.0\n",
       "duration_seconds      0.0\n",
       "dtype: float64"
      ]
     },
     "execution_count": 902,
     "metadata": {},
     "output_type": "execute_result"
    }
   ],
   "source": [
    "# To get the percentile information of the columns in the dataframe\n",
    "rides.isnull().sum()*100/len(rides)\n"
   ]
  },
  {
   "cell_type": "code",
   "execution_count": 903,
   "metadata": {
    "scrolled": false
   },
   "outputs": [
    {
     "data": {
      "text/html": [
       "<div>\n",
       "<style scoped>\n",
       "    .dataframe tbody tr th:only-of-type {\n",
       "        vertical-align: middle;\n",
       "    }\n",
       "\n",
       "    .dataframe tbody tr th {\n",
       "        vertical-align: top;\n",
       "    }\n",
       "\n",
       "    .dataframe thead th {\n",
       "        text-align: right;\n",
       "    }\n",
       "</style>\n",
       "<table border=\"1\" class=\"dataframe\">\n",
       "  <thead>\n",
       "    <tr style=\"text-align: right;\">\n",
       "      <th></th>\n",
       "      <th>start_ts</th>\n",
       "      <th>weather_conditions</th>\n",
       "      <th>duration_seconds</th>\n",
       "    </tr>\n",
       "  </thead>\n",
       "  <tbody>\n",
       "    <tr>\n",
       "      <th>0</th>\n",
       "      <td>2017-11-25 16:00:00</td>\n",
       "      <td>Good</td>\n",
       "      <td>2410.0</td>\n",
       "    </tr>\n",
       "    <tr>\n",
       "      <th>1</th>\n",
       "      <td>2017-11-25 14:00:00</td>\n",
       "      <td>Good</td>\n",
       "      <td>1920.0</td>\n",
       "    </tr>\n",
       "    <tr>\n",
       "      <th>2</th>\n",
       "      <td>2017-11-25 12:00:00</td>\n",
       "      <td>Good</td>\n",
       "      <td>1543.0</td>\n",
       "    </tr>\n",
       "    <tr>\n",
       "      <th>3</th>\n",
       "      <td>2017-11-04 10:00:00</td>\n",
       "      <td>Good</td>\n",
       "      <td>2512.0</td>\n",
       "    </tr>\n",
       "    <tr>\n",
       "      <th>4</th>\n",
       "      <td>2017-11-11 07:00:00</td>\n",
       "      <td>Good</td>\n",
       "      <td>1440.0</td>\n",
       "    </tr>\n",
       "    <tr>\n",
       "      <th>5</th>\n",
       "      <td>2017-11-11 04:00:00</td>\n",
       "      <td>Good</td>\n",
       "      <td>1320.0</td>\n",
       "    </tr>\n",
       "    <tr>\n",
       "      <th>6</th>\n",
       "      <td>2017-11-04 16:00:00</td>\n",
       "      <td>Bad</td>\n",
       "      <td>2969.0</td>\n",
       "    </tr>\n",
       "    <tr>\n",
       "      <th>7</th>\n",
       "      <td>2017-11-18 11:00:00</td>\n",
       "      <td>Good</td>\n",
       "      <td>2280.0</td>\n",
       "    </tr>\n",
       "    <tr>\n",
       "      <th>8</th>\n",
       "      <td>2017-11-11 14:00:00</td>\n",
       "      <td>Good</td>\n",
       "      <td>2460.0</td>\n",
       "    </tr>\n",
       "    <tr>\n",
       "      <th>9</th>\n",
       "      <td>2017-11-11 12:00:00</td>\n",
       "      <td>Good</td>\n",
       "      <td>2040.0</td>\n",
       "    </tr>\n",
       "  </tbody>\n",
       "</table>\n",
       "</div>"
      ],
      "text/plain": [
       "              start_ts weather_conditions  duration_seconds\n",
       "0  2017-11-25 16:00:00               Good            2410.0\n",
       "1  2017-11-25 14:00:00               Good            1920.0\n",
       "2  2017-11-25 12:00:00               Good            1543.0\n",
       "3  2017-11-04 10:00:00               Good            2512.0\n",
       "4  2017-11-11 07:00:00               Good            1440.0\n",
       "5  2017-11-11 04:00:00               Good            1320.0\n",
       "6  2017-11-04 16:00:00                Bad            2969.0\n",
       "7  2017-11-18 11:00:00               Good            2280.0\n",
       "8  2017-11-11 14:00:00               Good            2460.0\n",
       "9  2017-11-11 12:00:00               Good            2040.0"
      ]
     },
     "execution_count": 903,
     "metadata": {},
     "output_type": "execute_result"
    }
   ],
   "source": [
    "# Print a sample of DataFrame for rides\n",
    "rides.head(10)"
   ]
  },
  {
   "cell_type": "code",
   "execution_count": 904,
   "metadata": {},
   "outputs": [
    {
     "data": {
      "text/plain": [
       "Index(['start_ts', 'weather_conditions', 'duration_seconds'], dtype='object')"
      ]
     },
     "execution_count": 904,
     "metadata": {},
     "output_type": "execute_result"
    }
   ],
   "source": [
    "# To check whether column's name are written in appropriate way\n",
    "rides.columns"
   ]
  },
  {
   "cell_type": "code",
   "execution_count": 905,
   "metadata": {
    "scrolled": false
   },
   "outputs": [
    {
     "data": {
      "text/html": [
       "<div>\n",
       "<style scoped>\n",
       "    .dataframe tbody tr th:only-of-type {\n",
       "        vertical-align: middle;\n",
       "    }\n",
       "\n",
       "    .dataframe tbody tr th {\n",
       "        vertical-align: top;\n",
       "    }\n",
       "\n",
       "    .dataframe thead th {\n",
       "        text-align: right;\n",
       "    }\n",
       "</style>\n",
       "<table border=\"1\" class=\"dataframe\">\n",
       "  <thead>\n",
       "    <tr style=\"text-align: right;\">\n",
       "      <th></th>\n",
       "      <th>start_ts</th>\n",
       "      <th>weather_conditions</th>\n",
       "      <th>duration_seconds</th>\n",
       "    </tr>\n",
       "  </thead>\n",
       "  <tbody>\n",
       "    <tr>\n",
       "      <th>62</th>\n",
       "      <td>2017-11-11 06:00:00</td>\n",
       "      <td>Good</td>\n",
       "      <td>1260.0</td>\n",
       "    </tr>\n",
       "    <tr>\n",
       "      <th>74</th>\n",
       "      <td>2017-11-11 08:00:00</td>\n",
       "      <td>Good</td>\n",
       "      <td>1380.0</td>\n",
       "    </tr>\n",
       "    <tr>\n",
       "      <th>76</th>\n",
       "      <td>2017-11-04 09:00:00</td>\n",
       "      <td>Good</td>\n",
       "      <td>1380.0</td>\n",
       "    </tr>\n",
       "    <tr>\n",
       "      <th>117</th>\n",
       "      <td>2017-11-11 07:00:00</td>\n",
       "      <td>Good</td>\n",
       "      <td>1380.0</td>\n",
       "    </tr>\n",
       "    <tr>\n",
       "      <th>119</th>\n",
       "      <td>2017-11-04 14:00:00</td>\n",
       "      <td>Good</td>\n",
       "      <td>3300.0</td>\n",
       "    </tr>\n",
       "    <tr>\n",
       "      <th>...</th>\n",
       "      <td>...</td>\n",
       "      <td>...</td>\n",
       "      <td>...</td>\n",
       "    </tr>\n",
       "    <tr>\n",
       "      <th>1054</th>\n",
       "      <td>2017-11-11 07:00:00</td>\n",
       "      <td>Good</td>\n",
       "      <td>1380.0</td>\n",
       "    </tr>\n",
       "    <tr>\n",
       "      <th>1058</th>\n",
       "      <td>2017-11-25 12:00:00</td>\n",
       "      <td>Good</td>\n",
       "      <td>1440.0</td>\n",
       "    </tr>\n",
       "    <tr>\n",
       "      <th>1062</th>\n",
       "      <td>2017-11-11 06:00:00</td>\n",
       "      <td>Good</td>\n",
       "      <td>1500.0</td>\n",
       "    </tr>\n",
       "    <tr>\n",
       "      <th>1065</th>\n",
       "      <td>2017-11-11 13:00:00</td>\n",
       "      <td>Good</td>\n",
       "      <td>2100.0</td>\n",
       "    </tr>\n",
       "    <tr>\n",
       "      <th>1066</th>\n",
       "      <td>2017-11-11 08:00:00</td>\n",
       "      <td>Good</td>\n",
       "      <td>1380.0</td>\n",
       "    </tr>\n",
       "  </tbody>\n",
       "</table>\n",
       "<p>197 rows × 3 columns</p>\n",
       "</div>"
      ],
      "text/plain": [
       "                 start_ts weather_conditions  duration_seconds\n",
       "62    2017-11-11 06:00:00               Good            1260.0\n",
       "74    2017-11-11 08:00:00               Good            1380.0\n",
       "76    2017-11-04 09:00:00               Good            1380.0\n",
       "117   2017-11-11 07:00:00               Good            1380.0\n",
       "119   2017-11-04 14:00:00               Good            3300.0\n",
       "...                   ...                ...               ...\n",
       "1054  2017-11-11 07:00:00               Good            1380.0\n",
       "1058  2017-11-25 12:00:00               Good            1440.0\n",
       "1062  2017-11-11 06:00:00               Good            1500.0\n",
       "1065  2017-11-11 13:00:00               Good            2100.0\n",
       "1066  2017-11-11 08:00:00               Good            1380.0\n",
       "\n",
       "[197 rows x 3 columns]"
      ]
     },
     "execution_count": 905,
     "metadata": {},
     "output_type": "execute_result"
    }
   ],
   "source": [
    "#find duplicate rows across all columns\n",
    "duplicateRows = rides[rides.duplicated()]\n",
    "duplicateRows "
   ]
  },
  {
   "cell_type": "code",
   "execution_count": 906,
   "metadata": {
    "scrolled": true
   },
   "outputs": [
    {
     "data": {
      "text/html": [
       "<div>\n",
       "<style scoped>\n",
       "    .dataframe tbody tr th:only-of-type {\n",
       "        vertical-align: middle;\n",
       "    }\n",
       "\n",
       "    .dataframe tbody tr th {\n",
       "        vertical-align: top;\n",
       "    }\n",
       "\n",
       "    .dataframe thead th {\n",
       "        text-align: right;\n",
       "    }\n",
       "</style>\n",
       "<table border=\"1\" class=\"dataframe\">\n",
       "  <thead>\n",
       "    <tr style=\"text-align: right;\">\n",
       "      <th></th>\n",
       "      <th>start_ts</th>\n",
       "      <th>weather_conditions</th>\n",
       "      <th>duration_seconds</th>\n",
       "    </tr>\n",
       "  </thead>\n",
       "  <tbody>\n",
       "    <tr>\n",
       "      <th>0</th>\n",
       "      <td>2017-11-25 16:00:00</td>\n",
       "      <td>Good</td>\n",
       "      <td>2410.0</td>\n",
       "    </tr>\n",
       "    <tr>\n",
       "      <th>1</th>\n",
       "      <td>2017-11-25 14:00:00</td>\n",
       "      <td>Good</td>\n",
       "      <td>1920.0</td>\n",
       "    </tr>\n",
       "    <tr>\n",
       "      <th>2</th>\n",
       "      <td>2017-11-25 12:00:00</td>\n",
       "      <td>Good</td>\n",
       "      <td>1543.0</td>\n",
       "    </tr>\n",
       "    <tr>\n",
       "      <th>3</th>\n",
       "      <td>2017-11-04 10:00:00</td>\n",
       "      <td>Good</td>\n",
       "      <td>2512.0</td>\n",
       "    </tr>\n",
       "    <tr>\n",
       "      <th>4</th>\n",
       "      <td>2017-11-11 07:00:00</td>\n",
       "      <td>Good</td>\n",
       "      <td>1440.0</td>\n",
       "    </tr>\n",
       "    <tr>\n",
       "      <th>...</th>\n",
       "      <td>...</td>\n",
       "      <td>...</td>\n",
       "      <td>...</td>\n",
       "    </tr>\n",
       "    <tr>\n",
       "      <th>1060</th>\n",
       "      <td>2017-11-04 14:00:00</td>\n",
       "      <td>Good</td>\n",
       "      <td>2700.0</td>\n",
       "    </tr>\n",
       "    <tr>\n",
       "      <th>1061</th>\n",
       "      <td>2017-11-18 16:00:00</td>\n",
       "      <td>Bad</td>\n",
       "      <td>2186.0</td>\n",
       "    </tr>\n",
       "    <tr>\n",
       "      <th>1063</th>\n",
       "      <td>2017-11-25 11:00:00</td>\n",
       "      <td>Good</td>\n",
       "      <td>0.0</td>\n",
       "    </tr>\n",
       "    <tr>\n",
       "      <th>1064</th>\n",
       "      <td>2017-11-11 10:00:00</td>\n",
       "      <td>Good</td>\n",
       "      <td>1318.0</td>\n",
       "    </tr>\n",
       "    <tr>\n",
       "      <th>1067</th>\n",
       "      <td>2017-11-04 16:00:00</td>\n",
       "      <td>Bad</td>\n",
       "      <td>2834.0</td>\n",
       "    </tr>\n",
       "  </tbody>\n",
       "</table>\n",
       "<p>871 rows × 3 columns</p>\n",
       "</div>"
      ],
      "text/plain": [
       "                 start_ts weather_conditions  duration_seconds\n",
       "0     2017-11-25 16:00:00               Good            2410.0\n",
       "1     2017-11-25 14:00:00               Good            1920.0\n",
       "2     2017-11-25 12:00:00               Good            1543.0\n",
       "3     2017-11-04 10:00:00               Good            2512.0\n",
       "4     2017-11-11 07:00:00               Good            1440.0\n",
       "...                   ...                ...               ...\n",
       "1060  2017-11-04 14:00:00               Good            2700.0\n",
       "1061  2017-11-18 16:00:00                Bad            2186.0\n",
       "1063  2017-11-25 11:00:00               Good               0.0\n",
       "1064  2017-11-11 10:00:00               Good            1318.0\n",
       "1067  2017-11-04 16:00:00                Bad            2834.0\n",
       "\n",
       "[871 rows x 3 columns]"
      ]
     },
     "execution_count": 906,
     "metadata": {},
     "output_type": "execute_result"
    }
   ],
   "source": [
    "# To remove the duplicates we use df.drop_duplicates()\n",
    "rides_data = rides.drop_duplicates()\n",
    "rides_data"
   ]
  },
  {
   "cell_type": "code",
   "execution_count": 907,
   "metadata": {},
   "outputs": [
    {
     "data": {
      "text/plain": [
       "0"
      ]
     },
     "execution_count": 907,
     "metadata": {},
     "output_type": "execute_result"
    }
   ],
   "source": [
    "# Checking duplicates\n",
    "rides_data.duplicated().sum()"
   ]
  },
  {
   "cell_type": "code",
   "execution_count": 908,
   "metadata": {
    "scrolled": true
   },
   "outputs": [
    {
     "data": {
      "text/html": [
       "<div>\n",
       "<style scoped>\n",
       "    .dataframe tbody tr th:only-of-type {\n",
       "        vertical-align: middle;\n",
       "    }\n",
       "\n",
       "    .dataframe tbody tr th {\n",
       "        vertical-align: top;\n",
       "    }\n",
       "\n",
       "    .dataframe thead th {\n",
       "        text-align: right;\n",
       "    }\n",
       "</style>\n",
       "<table border=\"1\" class=\"dataframe\">\n",
       "  <thead>\n",
       "    <tr style=\"text-align: right;\">\n",
       "      <th></th>\n",
       "      <th>start_ts</th>\n",
       "      <th>weather_conditions</th>\n",
       "      <th>duration_seconds</th>\n",
       "    </tr>\n",
       "  </thead>\n",
       "  <tbody>\n",
       "    <tr>\n",
       "      <th>0</th>\n",
       "      <td>2017-11-25 16:00:00</td>\n",
       "      <td>Good</td>\n",
       "      <td>2410.0</td>\n",
       "    </tr>\n",
       "    <tr>\n",
       "      <th>1</th>\n",
       "      <td>2017-11-25 14:00:00</td>\n",
       "      <td>Good</td>\n",
       "      <td>1920.0</td>\n",
       "    </tr>\n",
       "    <tr>\n",
       "      <th>2</th>\n",
       "      <td>2017-11-25 12:00:00</td>\n",
       "      <td>Good</td>\n",
       "      <td>1543.0</td>\n",
       "    </tr>\n",
       "    <tr>\n",
       "      <th>3</th>\n",
       "      <td>2017-11-04 10:00:00</td>\n",
       "      <td>Good</td>\n",
       "      <td>2512.0</td>\n",
       "    </tr>\n",
       "    <tr>\n",
       "      <th>4</th>\n",
       "      <td>2017-11-11 07:00:00</td>\n",
       "      <td>Good</td>\n",
       "      <td>1440.0</td>\n",
       "    </tr>\n",
       "    <tr>\n",
       "      <th>5</th>\n",
       "      <td>2017-11-11 04:00:00</td>\n",
       "      <td>Good</td>\n",
       "      <td>1320.0</td>\n",
       "    </tr>\n",
       "    <tr>\n",
       "      <th>6</th>\n",
       "      <td>2017-11-04 16:00:00</td>\n",
       "      <td>Bad</td>\n",
       "      <td>2969.0</td>\n",
       "    </tr>\n",
       "    <tr>\n",
       "      <th>7</th>\n",
       "      <td>2017-11-18 11:00:00</td>\n",
       "      <td>Good</td>\n",
       "      <td>2280.0</td>\n",
       "    </tr>\n",
       "    <tr>\n",
       "      <th>8</th>\n",
       "      <td>2017-11-11 14:00:00</td>\n",
       "      <td>Good</td>\n",
       "      <td>2460.0</td>\n",
       "    </tr>\n",
       "    <tr>\n",
       "      <th>9</th>\n",
       "      <td>2017-11-11 12:00:00</td>\n",
       "      <td>Good</td>\n",
       "      <td>2040.0</td>\n",
       "    </tr>\n",
       "  </tbody>\n",
       "</table>\n",
       "</div>"
      ],
      "text/plain": [
       "              start_ts weather_conditions  duration_seconds\n",
       "0  2017-11-25 16:00:00               Good            2410.0\n",
       "1  2017-11-25 14:00:00               Good            1920.0\n",
       "2  2017-11-25 12:00:00               Good            1543.0\n",
       "3  2017-11-04 10:00:00               Good            2512.0\n",
       "4  2017-11-11 07:00:00               Good            1440.0\n",
       "5  2017-11-11 04:00:00               Good            1320.0\n",
       "6  2017-11-04 16:00:00                Bad            2969.0\n",
       "7  2017-11-18 11:00:00               Good            2280.0\n",
       "8  2017-11-11 14:00:00               Good            2460.0\n",
       "9  2017-11-11 12:00:00               Good            2040.0"
      ]
     },
     "execution_count": 908,
     "metadata": {},
     "output_type": "execute_result"
    }
   ],
   "source": [
    "# Print a sample of the DataFrame after dropping the duplicates\n",
    "rides_data.head(10)"
   ]
  },
  {
   "cell_type": "code",
   "execution_count": 909,
   "metadata": {
    "scrolled": true
   },
   "outputs": [
    {
     "name": "stdout",
     "output_type": "stream",
     "text": [
      "<class 'pandas.core.frame.DataFrame'>\n",
      "Int64Index: 871 entries, 0 to 1067\n",
      "Data columns (total 3 columns):\n",
      " #   Column              Non-Null Count  Dtype  \n",
      "---  ------              --------------  -----  \n",
      " 0   start_ts            871 non-null    object \n",
      " 1   weather_conditions  871 non-null    object \n",
      " 2   duration_seconds    871 non-null    float64\n",
      "dtypes: float64(1), object(2)\n",
      "memory usage: 27.2+ KB\n"
     ]
    }
   ],
   "source": [
    "# General information about the data\n",
    "rides_data.info()"
   ]
  },
  {
   "cell_type": "code",
   "execution_count": 910,
   "metadata": {},
   "outputs": [
    {
     "data": {
      "text/plain": [
       "start_ts               object\n",
       "weather_conditions     object\n",
       "duration_seconds      float64\n",
       "dtype: object"
      ]
     },
     "execution_count": 910,
     "metadata": {},
     "output_type": "execute_result"
    }
   ],
   "source": [
    "# Check data type of the DataFrame\n",
    "rides_data.dtypes"
   ]
  },
  {
   "cell_type": "markdown",
   "metadata": {},
   "source": [
    "The data type of start_ts is supposed to be datetime. It should be converted from object to datetime data type. "
   ]
  },
  {
   "cell_type": "code",
   "execution_count": 911,
   "metadata": {},
   "outputs": [],
   "source": [
    "# Converting the datatype of start_ts from object to datetime\n",
    "rides_data['start_ts'] = pd.to_datetime(rides_data['start_ts'], format='%Y-%m-%d %H:%M:%S')\n",
    "warnings.filterwarnings('ignore')\n"
   ]
  },
  {
   "cell_type": "code",
   "execution_count": 912,
   "metadata": {
    "scrolled": false
   },
   "outputs": [
    {
     "data": {
      "text/plain": [
       "start_ts              datetime64[ns]\n",
       "weather_conditions            object\n",
       "duration_seconds             float64\n",
       "dtype: object"
      ]
     },
     "execution_count": 912,
     "metadata": {},
     "output_type": "execute_result"
    }
   ],
   "source": [
    "# To confirm whether the data type is converted\n",
    "rides_data.dtypes"
   ]
  },
  {
   "cell_type": "code",
   "execution_count": 913,
   "metadata": {},
   "outputs": [
    {
     "name": "stdout",
     "output_type": "stream",
     "text": [
      "<class 'pandas.core.frame.DataFrame'>\n",
      "Int64Index: 871 entries, 0 to 1067\n",
      "Data columns (total 3 columns):\n",
      " #   Column              Non-Null Count  Dtype         \n",
      "---  ------              --------------  -----         \n",
      " 0   start_ts            871 non-null    datetime64[ns]\n",
      " 1   weather_conditions  871 non-null    object        \n",
      " 2   duration_seconds    871 non-null    float64       \n",
      "dtypes: datetime64[ns](1), float64(1), object(1)\n",
      "memory usage: 27.2+ KB\n"
     ]
    }
   ],
   "source": [
    "# To confirm whether the data type is converted\n",
    "rides_data.info()"
   ]
  },
  {
   "cell_type": "markdown",
   "metadata": {},
   "source": [
    "It is confirmed all the duplicates are dropped."
   ]
  },
  {
   "cell_type": "code",
   "execution_count": 914,
   "metadata": {},
   "outputs": [
    {
     "data": {
      "text/html": [
       "<div>\n",
       "<style scoped>\n",
       "    .dataframe tbody tr th:only-of-type {\n",
       "        vertical-align: middle;\n",
       "    }\n",
       "\n",
       "    .dataframe tbody tr th {\n",
       "        vertical-align: top;\n",
       "    }\n",
       "\n",
       "    .dataframe thead th {\n",
       "        text-align: right;\n",
       "    }\n",
       "</style>\n",
       "<table border=\"1\" class=\"dataframe\">\n",
       "  <thead>\n",
       "    <tr style=\"text-align: right;\">\n",
       "      <th></th>\n",
       "      <th>duration_seconds</th>\n",
       "    </tr>\n",
       "  </thead>\n",
       "  <tbody>\n",
       "    <tr>\n",
       "      <th>count</th>\n",
       "      <td>871.000000</td>\n",
       "    </tr>\n",
       "    <tr>\n",
       "      <th>mean</th>\n",
       "      <td>2096.308840</td>\n",
       "    </tr>\n",
       "    <tr>\n",
       "      <th>std</th>\n",
       "      <td>782.274717</td>\n",
       "    </tr>\n",
       "    <tr>\n",
       "      <th>min</th>\n",
       "      <td>0.000000</td>\n",
       "    </tr>\n",
       "    <tr>\n",
       "      <th>25%</th>\n",
       "      <td>1440.000000</td>\n",
       "    </tr>\n",
       "    <tr>\n",
       "      <th>50%</th>\n",
       "      <td>2015.000000</td>\n",
       "    </tr>\n",
       "    <tr>\n",
       "      <th>75%</th>\n",
       "      <td>2584.000000</td>\n",
       "    </tr>\n",
       "    <tr>\n",
       "      <th>max</th>\n",
       "      <td>7440.000000</td>\n",
       "    </tr>\n",
       "  </tbody>\n",
       "</table>\n",
       "</div>"
      ],
      "text/plain": [
       "       duration_seconds\n",
       "count        871.000000\n",
       "mean        2096.308840\n",
       "std          782.274717\n",
       "min            0.000000\n",
       "25%         1440.000000\n",
       "50%         2015.000000\n",
       "75%         2584.000000\n",
       "max         7440.000000"
      ]
     },
     "execution_count": 914,
     "metadata": {},
     "output_type": "execute_result"
    }
   ],
   "source": [
    "# To get the statistical character of the DataFrame\n",
    "rides_data.describe()"
   ]
  },
  {
   "cell_type": "markdown",
   "metadata": {},
   "source": [
    "The values of the column 'duration_seconds' range from 0 to 7440"
   ]
  },
  {
   "cell_type": "code",
   "execution_count": 915,
   "metadata": {
    "scrolled": true
   },
   "outputs": [
    {
     "data": {
      "text/html": [
       "<div>\n",
       "<style scoped>\n",
       "    .dataframe tbody tr th:only-of-type {\n",
       "        vertical-align: middle;\n",
       "    }\n",
       "\n",
       "    .dataframe tbody tr th {\n",
       "        vertical-align: top;\n",
       "    }\n",
       "\n",
       "    .dataframe thead th {\n",
       "        text-align: right;\n",
       "    }\n",
       "</style>\n",
       "<table border=\"1\" class=\"dataframe\">\n",
       "  <thead>\n",
       "    <tr style=\"text-align: right;\">\n",
       "      <th></th>\n",
       "      <th>start_ts</th>\n",
       "      <th>weather_conditions</th>\n",
       "      <th>duration_seconds</th>\n",
       "    </tr>\n",
       "  </thead>\n",
       "  <tbody>\n",
       "    <tr>\n",
       "      <th>163</th>\n",
       "      <td>2017-11-11 09:00:00</td>\n",
       "      <td>Good</td>\n",
       "      <td>0.0</td>\n",
       "    </tr>\n",
       "    <tr>\n",
       "      <th>168</th>\n",
       "      <td>2017-11-11 07:00:00</td>\n",
       "      <td>Good</td>\n",
       "      <td>0.0</td>\n",
       "    </tr>\n",
       "    <tr>\n",
       "      <th>204</th>\n",
       "      <td>2017-11-18 19:00:00</td>\n",
       "      <td>Good</td>\n",
       "      <td>0.0</td>\n",
       "    </tr>\n",
       "    <tr>\n",
       "      <th>552</th>\n",
       "      <td>2017-11-04 01:00:00</td>\n",
       "      <td>Good</td>\n",
       "      <td>0.0</td>\n",
       "    </tr>\n",
       "    <tr>\n",
       "      <th>801</th>\n",
       "      <td>2017-11-04 09:00:00</td>\n",
       "      <td>Good</td>\n",
       "      <td>0.0</td>\n",
       "    </tr>\n",
       "    <tr>\n",
       "      <th>1063</th>\n",
       "      <td>2017-11-25 11:00:00</td>\n",
       "      <td>Good</td>\n",
       "      <td>0.0</td>\n",
       "    </tr>\n",
       "  </tbody>\n",
       "</table>\n",
       "</div>"
      ],
      "text/plain": [
       "                start_ts weather_conditions  duration_seconds\n",
       "163  2017-11-11 09:00:00               Good               0.0\n",
       "168  2017-11-11 07:00:00               Good               0.0\n",
       "204  2017-11-18 19:00:00               Good               0.0\n",
       "552  2017-11-04 01:00:00               Good               0.0\n",
       "801  2017-11-04 09:00:00               Good               0.0\n",
       "1063 2017-11-25 11:00:00               Good               0.0"
      ]
     },
     "execution_count": 915,
     "metadata": {},
     "output_type": "execute_result"
    }
   ],
   "source": [
    "# To get the 'duration_seconds' column zero values\n",
    "rides_data[rides_data['duration_seconds'] == 0]"
   ]
  },
  {
   "cell_type": "code",
   "execution_count": 916,
   "metadata": {},
   "outputs": [
    {
     "data": {
      "text/plain": [
       "(6, 3)"
      ]
     },
     "execution_count": 916,
     "metadata": {},
     "output_type": "execute_result"
    }
   ],
   "source": [
    "# To get the exact number of 'duration_seconds' column with zero values, we shoud use shape methode\n",
    "rides_data[rides_data['duration_seconds'] == 0].shape"
   ]
  },
  {
   "cell_type": "markdown",
   "metadata": {},
   "source": [
    "It is confirmed the 'duration_seconds' column have 6 rows with zero values."
   ]
  },
  {
   "cell_type": "code",
   "execution_count": 917,
   "metadata": {},
   "outputs": [
    {
     "data": {
      "text/plain": [
       "Good    83.008037\n",
       "Bad     16.991963\n",
       "Name: weather_conditions, dtype: float64"
      ]
     },
     "execution_count": 917,
     "metadata": {},
     "output_type": "execute_result"
    }
   ],
   "source": [
    "# To get a percentage of a particular value occurance in a column\n",
    "rides_data['weather_conditions'].value_counts(normalize=True) * 100"
   ]
  },
  {
   "cell_type": "code",
   "execution_count": 918,
   "metadata": {},
   "outputs": [
    {
     "data": {
      "text/plain": [
       "(871, 3)"
      ]
     },
     "execution_count": 918,
     "metadata": {},
     "output_type": "execute_result"
    }
   ],
   "source": [
    "rides_data.shape"
   ]
  },
  {
   "cell_type": "markdown",
   "metadata": {},
   "source": [
    "###### Conclusion\n",
    "* The DataFrame rides has 1068 rows and 3 columns, the columns are 'start_ts', 'weather_conditions', and 'duration_seconds'.\n",
    "* The DataFrame rides has object and float64 data types.\n",
    "* The data type of start_ts needs to be converted from object into datetime data type.\n",
    "* There are no missing values in the DataFrame.\n",
    "* It is confirmed that the DataFrame has 197 duplicates.\n",
    "* Minimum values of the column 'duration_seconds' is 0 and its maximum value is 7440 seconds\n",
    "* There are 6 rows of the 'duration_seconds' with 0 values.\n",
    "* The 197 duplicates are dropped from the DataFrame.\n",
    "* The DataFrame rides_data remains with 871 rows and 3 columns after the duplicates are removed.\n",
    "* The ratio of Good weather is 83.00% and Bad weather is 16.99%."
   ]
  },
  {
   "cell_type": "markdown",
   "metadata": {},
   "source": [
    "## Test statistical hypotheses"
   ]
  },
  {
   "cell_type": "markdown",
   "metadata": {},
   "source": [
    "Comparing the average duration of rides from Loop to O'Hare International Airport changes on rainy Saturday is not enough to make decission, we need to perform a statistical test using hypothesis on the equality of two population.\n",
    "\n",
    "\n",
    "In order to test the hypothesis of two statistical population that are equal based on the sample we use,\n",
    "\n",
    "scripy.stats.ttest_ind(array1, array2, equal_var)\n",
    "\n"
   ]
  },
  {
   "cell_type": "markdown",
   "metadata": {},
   "source": [
    "###### Hypotheses \n",
    "\n",
    "\"The average duration of rides from the Loop to O'Hare International Airport changes on rainy Saturdays.\""
   ]
  },
  {
   "cell_type": "markdown",
   "metadata": {},
   "source": [
    "Based on this one, we can formulate:\n",
    "\n",
    "Null hypothesis H0: The average duration of rides from the Loop to O'Hare International Airport doesn't change on rainy Saturdays\n",
    "\n",
    "Alternative hypothesis H1: The average duration of rides from the Loop to O'Hare International Airport changes on rainy Saturdays\n",
    "\n",
    "Alpha value will be 5%.\n",
    "\n",
    "Statistical test is: Hypothesis on equality of two population."
   ]
  },
  {
   "cell_type": "markdown",
   "metadata": {},
   "source": [
    "First I will apply Levene's test. Levene's test for equality of variance is a test of whether the variance of two samples or groups are approximately equal or homogenous. The independent sample t-test assumes that the variances of the sample groups are approximately equal or that the samples have homogeneity of variance. "
   ]
  },
  {
   "cell_type": "code",
   "execution_count": 919,
   "metadata": {
    "scrolled": true
   },
   "outputs": [
    {
     "name": "stdout",
     "output_type": "stream",
     "text": [
      "p-value: 0.923187722044537\n",
      "The variances are approximately the same\n"
     ]
    }
   ],
   "source": [
    "# Test the hypotheses\n",
    "# The two DataFrames to be tested are \n",
    "# Levene's test to test the equality of variance in the two samples\n",
    "\n",
    "rides_data_good_weather = rides_data.query('weather_conditions == \"Good\"')\n",
    "rides_data_bad_weather = rides_data.query('weather_conditions == \"Bad\"')\n",
    "\n",
    "alpha = 0.05 # critical statistical significance level\n",
    "\n",
    "result = st.levene(rides_data_good_weather['duration_seconds'], rides_data_bad_weather['duration_seconds'], center='mean')\n",
    "\n",
    "print('p-value:', result.pvalue)\n",
    "\n",
    "if result.pvalue > alpha:\n",
    "    print('The variances are approximately the same')\n",
    "else:\n",
    "    print('The variances are too far apart to be considered homogeneous')"
   ]
  },
  {
   "cell_type": "markdown",
   "metadata": {},
   "source": [
    "Handling the second test using the value of alpha 0.01."
   ]
  },
  {
   "cell_type": "code",
   "execution_count": 920,
   "metadata": {},
   "outputs": [
    {
     "name": "stdout",
     "output_type": "stream",
     "text": [
      "p-value: 0.923187722044537\n",
      "The variances are approximately the same\n"
     ]
    }
   ],
   "source": [
    "# Test the hypotheses\n",
    "# The two DataFrames to be tested are \n",
    "# Levene's test to test the equality of variance in the two samples\n",
    "\n",
    "rides_data_good_weather = rides_data.query('weather_conditions == \"Good\"')\n",
    "rides_data_bad_weather = rides_data.query('weather_conditions == \"Bad\"')\n",
    "\n",
    "alpha = 0.01 # critical statistical significance level\n",
    "\n",
    "result = st.levene(rides_data_good_weather['duration_seconds'], rides_data_bad_weather['duration_seconds'], center='mean')\n",
    "\n",
    "print('p-value:', result.pvalue)\n",
    "\n",
    "if result.pvalue > alpha:\n",
    "    print('The variances are approximately the same')\n",
    "else:\n",
    "    print('The variances are too far apart to be considered homogeneous')"
   ]
  },
  {
   "cell_type": "markdown",
   "metadata": {},
   "source": [
    "The p-value is greater than 0.05 alpha so it can be considered that the variances of the sample hypothesis test is homogenous."
   ]
  },
  {
   "cell_type": "markdown",
   "metadata": {},
   "source": [
    "In the second test the value of alpha is taken 0.01 in order to confirm the test. In the second test even the p-value is greater than 0.01 alpha so it can be considered that the variances of the sample hypothesis test is homogenous even though the value of alpha changed from 0.05 to 0.01."
   ]
  },
  {
   "cell_type": "code",
   "execution_count": 921,
   "metadata": {},
   "outputs": [
    {
     "name": "stdout",
     "output_type": "stream",
     "text": [
      "p-value:  7.397770692813604e-08\n",
      "We reject the null hypothesis\n"
     ]
    }
   ],
   "source": [
    "# Test the hypotheses\n",
    "# The two DataFrames to be tested are \n",
    "# if the p-value is less than alpha, we reject the hypothesis\n",
    "\n",
    "rides_data_good_weather = rides_data.query('weather_conditions == \"Good\"')\n",
    "rides_data_bad_weather = rides_data.query('weather_conditions == \"Bad\"')\n",
    "\n",
    "alpha = 0.05  # critical statistical significance level\n",
    "\n",
    "results = st.ttest_ind(rides_data_good_weather['duration_seconds'], rides_data_bad_weather['duration_seconds'])\n",
    "\n",
    "print('p-value: ', results.pvalue)\n",
    "\n",
    "if results.pvalue < alpha:\n",
    "    print(\"We reject the null hypothesis\")\n",
    "else:\n",
    "    print(\"We can't reject the null hypothesis\") \n"
   ]
  },
  {
   "cell_type": "markdown",
   "metadata": {},
   "source": [
    "Handling the second test using the value of alpha 0.01."
   ]
  },
  {
   "cell_type": "code",
   "execution_count": 922,
   "metadata": {},
   "outputs": [
    {
     "name": "stdout",
     "output_type": "stream",
     "text": [
      "p-value:  7.397770692813604e-08\n",
      "We reject the null hypothesis\n"
     ]
    }
   ],
   "source": [
    "# Test the hypotheses\n",
    "# The two DataFrames to be tested are \n",
    "# if the p-value is less than alpha, we reject the hypothesis\n",
    "\n",
    "rides_data_good_weather = rides_data.query('weather_conditions == \"Good\"')\n",
    "rides_data_bad_weather = rides_data.query('weather_conditions == \"Bad\"')\n",
    "\n",
    "alpha = 0.01  # critical statistical significance level\n",
    "\n",
    "results = st.ttest_ind(rides_data_good_weather['duration_seconds'], rides_data_bad_weather['duration_seconds'])\n",
    "\n",
    "print('p-value: ', results.pvalue)\n",
    "\n",
    "if results.pvalue < alpha:\n",
    "    print(\"We reject the null hypothesis\")\n",
    "else:\n",
    "    print(\"We can't reject the null hypothesis\") \n"
   ]
  },
  {
   "cell_type": "markdown",
   "metadata": {},
   "source": [
    "The value of alpha changed into 0.01 value in order to confirm that if there is change in the result of the test but there is no change still the p_value is less than alpha and the hypothesis is rejected."
   ]
  },
  {
   "cell_type": "code",
   "execution_count": 923,
   "metadata": {},
   "outputs": [
    {
     "data": {
      "text/plain": [
       "2032.253112033195"
      ]
     },
     "execution_count": 923,
     "metadata": {},
     "output_type": "execute_result"
    }
   ],
   "source": [
    "# Mean value\n",
    "rides_data_good_weather['duration_seconds'].mean()"
   ]
  },
  {
   "cell_type": "code",
   "execution_count": 924,
   "metadata": {},
   "outputs": [
    {
     "data": {
      "text/plain": [
       "2409.2297297297296"
      ]
     },
     "execution_count": 924,
     "metadata": {},
     "output_type": "execute_result"
    }
   ],
   "source": [
    "# Mean value\n",
    "rides_data_bad_weather['duration_seconds'].mean()"
   ]
  },
  {
   "cell_type": "code",
   "execution_count": 925,
   "metadata": {},
   "outputs": [
    {
     "data": {
      "text/plain": [
       "598216.951081022"
      ]
     },
     "execution_count": 925,
     "metadata": {},
     "output_type": "execute_result"
    }
   ],
   "source": [
    "# Variance value\n",
    "rides_data_good_weather['duration_seconds'].var()"
   ]
  },
  {
   "cell_type": "code",
   "execution_count": 926,
   "metadata": {},
   "outputs": [
    {
     "data": {
      "text/plain": [
       "564819.443463872"
      ]
     },
     "execution_count": 926,
     "metadata": {},
     "output_type": "execute_result"
    }
   ],
   "source": [
    "# Variance value\n",
    "rides_data_bad_weather['duration_seconds'].var()"
   ]
  },
  {
   "cell_type": "markdown",
   "metadata": {},
   "source": [
    "The value of alpha is 0.05 but from the above result the p-value is much less than alpha so the Null hypothesis will be rejected because average ride on Good weather and Bad weather are not the same, which means that the averages of good weather ride and bad weather ride are different. The average values of good weather ride and bad weather ride are 2032.253112033195 and 2409.2297297297296 respectively, which are different.\n",
    "\n",
    "From Levene's Test it is confirmed that, since the p-value is greater than 0.05 alpha, it can be considered that the variances of the sample hypothesis test is homogenous."
   ]
  },
  {
   "cell_type": "markdown",
   "metadata": {},
   "source": [
    "The value of the alpha is taken as 0.01 to test the hypothesis, still the result shows p-values is less than the value of alpha as a result the Null hypothesis is rejected. "
   ]
  },
  {
   "cell_type": "markdown",
   "metadata": {},
   "source": [
    "## General conclusion\n"
   ]
  },
  {
   "cell_type": "markdown",
   "metadata": {},
   "source": [
    "* The DataFrame company has 64 rows and 2 columns, the columns are company_name and trip_amount.\n",
    "* The DataFrame dropoff has 94 rows and 2 columns, the columns are dropoff_location_name and average_trip.\n",
    "* Both DataFrames, company and dropoff, have the right data types.\n",
    "* It is confirmed that both the company and dropoff DataFrames have no duplicates in the data.\n",
    "* It is confirmed that both the company and dropoff DataFrames have no missing values in the data. They are pretty clean.\n",
    "* The number of rides for each taxi company on November 15-16, 2017 that is for two days was from 2 to 19,558. The mean and median for the company DataFrame (trip_amount) are 599 and 52 respectively, that is there is big difference.\n",
    "\n",
    "* The average number of rides that ended in each neighborhood in November 2017 in Chicago ranges from 1.8 seconds to 10727 seconds (which is around 3 hours). The mean and median of the average_trip are 599 and 52 respectively. There is big difference.  \n",
    "\n",
    "* The result shows, the most 10 popular dropoff locations in Chicago on November 15-16, 2017 were Loop, River North, Streeterville, West Loop, O'Hare, Lake View, Grant Park, Museum Campus, Gold Coast, and Sheffield and DePaul.\n",
    " \n",
    "* The result shows, the top five popular Taxi companies in Chicago on November 15-16, 2017 were Flash Cap, Taxi Affiliation Services, Medallion Leasing, Yellow Cap and Taxi Affiliation Service Yellow. \n",
    " \n",
    "* The DataFrame rides has 1068 rows and 3 columns, the columns are 'start_ts', 'weather_conditions', and 'duration_seconds'.\n",
    "* The data type of start_ts converted from object into datetime data type.\n",
    "* There are no missing values in the DataFrame.\n",
    "* It is confirmed that the DataFrame has 197 duplicates.\n",
    "* Minimum values of the column 'duration_seconds' is 0 and its maximum value is 7440 seconds\n",
    "* There are 6 rows of the 'duration_seconds' with 0 values.\n",
    "* The 197 duplicates are dropped from the DataFrame.\n",
    "* The ratio of Good weather is 83.00% and Bad weather is 16.99%.\n",
    "\n",
    "* From Levene's Test it is confirmed that, since the p-value is greater than 0.05 alpha, it can be considered that the variances of the sample hypothesis test is homogenous.\n",
    "\n",
    "* The value of alpha is 0.05 but from the above result the p-value is much less than alpha so the Null hypothesis will be rejected because average ride on Good weather and Bad weather are not the same, which means that the averages of both good weather ride and bad weather ride are different. The average values of good weather ride and bad weather ride are 2032.253112033195 and 2409.2297297297296 respectively, which are different.\n",
    "\n",
    "\n",
    "* The value of alpha is taken 0.01 in the second test and the result shows the value of p-value is less than alpha so the Null hypothesis is also rejected. \n",
    "\n",
    "* It can be concluded that, there is evidence to show that the results are statisically significant; therefore, we reject the Null hypothesis and uphold the Alternative hypothesis \n",
    "###### \"The average duration of rides from the Loop to O'Hare International Airport changes on rainy Saturdays.\"\n"
   ]
  }
 ],
 "metadata": {
  "ExecuteTimeLog": [
   {
    "duration": 3,
    "start_time": "2022-08-11T06:58:42.247Z"
   },
   {
    "duration": 1357,
    "start_time": "2022-08-11T17:50:35.246Z"
   },
   {
    "duration": 93,
    "start_time": "2022-08-11T17:50:51.157Z"
   },
   {
    "duration": 50,
    "start_time": "2022-08-11T17:51:18.771Z"
   },
   {
    "duration": 12,
    "start_time": "2022-08-11T17:51:29.839Z"
   },
   {
    "duration": 84,
    "start_time": "2022-08-11T17:54:23.743Z"
   },
   {
    "duration": 60,
    "start_time": "2022-08-11T17:54:30.007Z"
   },
   {
    "duration": 101,
    "start_time": "2022-08-11T17:54:37.487Z"
   },
   {
    "duration": 106,
    "start_time": "2022-08-11T18:02:20.320Z"
   },
   {
    "duration": 128,
    "start_time": "2022-08-11T18:02:41.865Z"
   },
   {
    "duration": 5,
    "start_time": "2022-08-11T18:08:10.429Z"
   },
   {
    "duration": 3,
    "start_time": "2022-08-11T18:08:19.473Z"
   },
   {
    "duration": 4,
    "start_time": "2022-08-11T18:08:32.737Z"
   },
   {
    "duration": 5,
    "start_time": "2022-08-11T18:09:24.382Z"
   },
   {
    "duration": 5,
    "start_time": "2022-08-11T18:09:27.508Z"
   },
   {
    "duration": 15,
    "start_time": "2022-08-11T18:10:37.595Z"
   },
   {
    "duration": 10,
    "start_time": "2022-08-11T18:10:45.844Z"
   },
   {
    "duration": 6,
    "start_time": "2022-08-11T18:13:27.944Z"
   },
   {
    "duration": 5,
    "start_time": "2022-08-11T18:13:30.641Z"
   },
   {
    "duration": 6,
    "start_time": "2022-08-11T18:14:19.486Z"
   },
   {
    "duration": 5,
    "start_time": "2022-08-11T18:14:22.590Z"
   },
   {
    "duration": 36,
    "start_time": "2022-08-11T18:49:02.756Z"
   },
   {
    "duration": 6,
    "start_time": "2022-08-11T18:49:25.895Z"
   },
   {
    "duration": 7,
    "start_time": "2022-08-11T18:51:11.929Z"
   },
   {
    "duration": 8,
    "start_time": "2022-08-11T18:51:32.318Z"
   },
   {
    "duration": 10,
    "start_time": "2022-08-11T19:23:47.861Z"
   },
   {
    "duration": 85,
    "start_time": "2022-08-11T19:24:07.019Z"
   },
   {
    "duration": 10,
    "start_time": "2022-08-11T19:24:20.411Z"
   },
   {
    "duration": 4,
    "start_time": "2022-08-11T19:42:08.481Z"
   },
   {
    "duration": 4,
    "start_time": "2022-08-11T19:42:21.440Z"
   },
   {
    "duration": 6,
    "start_time": "2022-08-11T19:43:16.402Z"
   },
   {
    "duration": 5,
    "start_time": "2022-08-11T19:44:04.068Z"
   },
   {
    "duration": 6,
    "start_time": "2022-08-11T19:44:45.814Z"
   },
   {
    "duration": 7,
    "start_time": "2022-08-11T19:45:39.104Z"
   },
   {
    "duration": 68,
    "start_time": "2022-08-11T19:50:14.298Z"
   },
   {
    "duration": 3,
    "start_time": "2022-08-11T20:07:16.822Z"
   },
   {
    "duration": 4,
    "start_time": "2022-08-11T20:07:27.127Z"
   },
   {
    "duration": 8,
    "start_time": "2022-08-11T20:07:48.859Z"
   },
   {
    "duration": 8,
    "start_time": "2022-08-11T20:08:13.965Z"
   },
   {
    "duration": 8,
    "start_time": "2022-08-11T20:08:28.625Z"
   },
   {
    "duration": 10,
    "start_time": "2022-08-11T20:12:27.517Z"
   },
   {
    "duration": 8,
    "start_time": "2022-08-11T20:13:29.600Z"
   },
   {
    "duration": 11,
    "start_time": "2022-08-11T20:13:36.575Z"
   },
   {
    "duration": 63,
    "start_time": "2022-08-11T20:23:44.135Z"
   },
   {
    "duration": 200,
    "start_time": "2022-08-11T20:23:56.116Z"
   },
   {
    "duration": 133,
    "start_time": "2022-08-11T20:24:33.796Z"
   },
   {
    "duration": 929,
    "start_time": "2022-08-11T20:25:43.240Z"
   },
   {
    "duration": 109,
    "start_time": "2022-08-11T20:53:45.035Z"
   },
   {
    "duration": 10,
    "start_time": "2022-08-11T20:54:11.511Z"
   },
   {
    "duration": 12,
    "start_time": "2022-08-11T20:54:27.307Z"
   },
   {
    "duration": 1139,
    "start_time": "2022-08-11T20:54:43.420Z"
   },
   {
    "duration": 16,
    "start_time": "2022-08-11T20:55:15.846Z"
   },
   {
    "duration": 915,
    "start_time": "2022-08-11T20:55:59.262Z"
   },
   {
    "duration": 900,
    "start_time": "2022-08-11T20:56:14.042Z"
   },
   {
    "duration": 43,
    "start_time": "2022-08-11T23:57:13.196Z"
   },
   {
    "duration": 1167,
    "start_time": "2022-08-11T23:57:36.960Z"
   },
   {
    "duration": 106,
    "start_time": "2022-08-11T23:57:38.128Z"
   },
   {
    "duration": 85,
    "start_time": "2022-08-11T23:57:38.236Z"
   },
   {
    "duration": 5,
    "start_time": "2022-08-11T23:57:38.322Z"
   },
   {
    "duration": 5,
    "start_time": "2022-08-11T23:57:38.329Z"
   },
   {
    "duration": 12,
    "start_time": "2022-08-11T23:57:38.335Z"
   },
   {
    "duration": 9,
    "start_time": "2022-08-11T23:57:38.348Z"
   },
   {
    "duration": 7,
    "start_time": "2022-08-11T23:57:38.359Z"
   },
   {
    "duration": 8,
    "start_time": "2022-08-11T23:57:38.367Z"
   },
   {
    "duration": 12,
    "start_time": "2022-08-11T23:57:38.376Z"
   },
   {
    "duration": 17,
    "start_time": "2022-08-11T23:57:38.389Z"
   },
   {
    "duration": 5,
    "start_time": "2022-08-11T23:57:38.408Z"
   },
   {
    "duration": 5,
    "start_time": "2022-08-11T23:57:38.415Z"
   },
   {
    "duration": 5,
    "start_time": "2022-08-11T23:57:38.423Z"
   },
   {
    "duration": 8,
    "start_time": "2022-08-11T23:57:38.429Z"
   },
   {
    "duration": 8,
    "start_time": "2022-08-11T23:57:38.438Z"
   },
   {
    "duration": 7,
    "start_time": "2022-08-11T23:57:38.447Z"
   },
   {
    "duration": 8,
    "start_time": "2022-08-11T23:57:38.455Z"
   },
   {
    "duration": 8,
    "start_time": "2022-08-11T23:57:38.464Z"
   },
   {
    "duration": 7,
    "start_time": "2022-08-11T23:57:38.473Z"
   },
   {
    "duration": 3,
    "start_time": "2022-08-11T23:57:38.506Z"
   },
   {
    "duration": 7,
    "start_time": "2022-08-11T23:57:38.510Z"
   },
   {
    "duration": 6,
    "start_time": "2022-08-11T23:57:38.518Z"
   },
   {
    "duration": 5,
    "start_time": "2022-08-11T23:57:38.525Z"
   },
   {
    "duration": 8,
    "start_time": "2022-08-11T23:57:38.532Z"
   },
   {
    "duration": 14,
    "start_time": "2022-08-11T23:57:38.541Z"
   },
   {
    "duration": 14,
    "start_time": "2022-08-11T23:57:38.557Z"
   },
   {
    "duration": 776,
    "start_time": "2022-08-11T23:57:38.572Z"
   },
   {
    "duration": 1317,
    "start_time": "2022-08-11T23:57:39.350Z"
   },
   {
    "duration": 1134,
    "start_time": "2022-08-11T23:57:51.827Z"
   },
   {
    "duration": 811,
    "start_time": "2022-08-11T23:58:55.658Z"
   },
   {
    "duration": 1176,
    "start_time": "2022-08-11T23:59:50.157Z"
   },
   {
    "duration": 1359,
    "start_time": "2022-08-12T00:00:31.613Z"
   },
   {
    "duration": 1205,
    "start_time": "2022-08-12T00:00:46.697Z"
   },
   {
    "duration": 1219,
    "start_time": "2022-08-12T00:04:13.227Z"
   },
   {
    "duration": 414,
    "start_time": "2022-08-12T00:06:01.765Z"
   },
   {
    "duration": 375,
    "start_time": "2022-08-12T00:06:22.562Z"
   },
   {
    "duration": 303,
    "start_time": "2022-08-12T00:07:43.702Z"
   },
   {
    "duration": 294,
    "start_time": "2022-08-12T00:09:10.653Z"
   },
   {
    "duration": 1377,
    "start_time": "2022-08-12T00:09:46.174Z"
   },
   {
    "duration": 296,
    "start_time": "2022-08-12T00:12:13.471Z"
   },
   {
    "duration": 1252,
    "start_time": "2022-08-12T00:15:13.350Z"
   },
   {
    "duration": 1468,
    "start_time": "2022-08-12T00:15:36.236Z"
   },
   {
    "duration": 4,
    "start_time": "2022-08-12T00:18:05.988Z"
   },
   {
    "duration": 72,
    "start_time": "2022-08-12T00:18:05.994Z"
   },
   {
    "duration": 57,
    "start_time": "2022-08-12T00:18:06.069Z"
   },
   {
    "duration": 4,
    "start_time": "2022-08-12T00:18:06.128Z"
   },
   {
    "duration": 19,
    "start_time": "2022-08-12T00:18:06.135Z"
   },
   {
    "duration": 16,
    "start_time": "2022-08-12T00:18:06.155Z"
   },
   {
    "duration": 19,
    "start_time": "2022-08-12T00:18:06.173Z"
   },
   {
    "duration": 13,
    "start_time": "2022-08-12T00:18:06.193Z"
   },
   {
    "duration": 16,
    "start_time": "2022-08-12T00:18:06.208Z"
   },
   {
    "duration": 22,
    "start_time": "2022-08-12T00:18:06.226Z"
   },
   {
    "duration": 27,
    "start_time": "2022-08-12T00:18:06.250Z"
   },
   {
    "duration": 8,
    "start_time": "2022-08-12T00:18:06.279Z"
   },
   {
    "duration": 8,
    "start_time": "2022-08-12T00:18:06.289Z"
   },
   {
    "duration": 13,
    "start_time": "2022-08-12T00:18:06.299Z"
   },
   {
    "duration": 7,
    "start_time": "2022-08-12T00:18:06.313Z"
   },
   {
    "duration": 7,
    "start_time": "2022-08-12T00:18:06.321Z"
   },
   {
    "duration": 11,
    "start_time": "2022-08-12T00:18:06.329Z"
   },
   {
    "duration": 7,
    "start_time": "2022-08-12T00:18:06.341Z"
   },
   {
    "duration": 8,
    "start_time": "2022-08-12T00:18:06.349Z"
   },
   {
    "duration": 4,
    "start_time": "2022-08-12T00:18:06.359Z"
   },
   {
    "duration": 5,
    "start_time": "2022-08-12T00:18:06.365Z"
   },
   {
    "duration": 6,
    "start_time": "2022-08-12T00:18:06.371Z"
   },
   {
    "duration": 29,
    "start_time": "2022-08-12T00:18:06.378Z"
   },
   {
    "duration": 5,
    "start_time": "2022-08-12T00:18:06.409Z"
   },
   {
    "duration": 5,
    "start_time": "2022-08-12T00:18:06.416Z"
   },
   {
    "duration": 8,
    "start_time": "2022-08-12T00:18:06.423Z"
   },
   {
    "duration": 9,
    "start_time": "2022-08-12T00:18:06.433Z"
   },
   {
    "duration": 1260,
    "start_time": "2022-08-12T00:18:06.443Z"
   },
   {
    "duration": 303,
    "start_time": "2022-08-12T00:18:07.706Z"
   },
   {
    "duration": 1522,
    "start_time": "2022-08-12T00:18:08.011Z"
   },
   {
    "duration": 301,
    "start_time": "2022-08-12T00:19:40.957Z"
   },
   {
    "duration": 286,
    "start_time": "2022-08-12T00:21:34.852Z"
   },
   {
    "duration": 1355,
    "start_time": "2022-08-12T00:21:47.902Z"
   },
   {
    "duration": 79,
    "start_time": "2022-08-12T00:22:13.166Z"
   },
   {
    "duration": 72,
    "start_time": "2022-08-12T00:22:41.368Z"
   },
   {
    "duration": 92,
    "start_time": "2022-08-12T00:23:15.797Z"
   },
   {
    "duration": 76,
    "start_time": "2022-08-12T00:23:26.409Z"
   },
   {
    "duration": 74,
    "start_time": "2022-08-12T00:23:38.140Z"
   },
   {
    "duration": 1341,
    "start_time": "2022-08-12T00:23:46.668Z"
   },
   {
    "duration": 1323,
    "start_time": "2022-08-12T00:32:01.675Z"
   },
   {
    "duration": 1201,
    "start_time": "2022-08-12T00:32:41.564Z"
   },
   {
    "duration": 1334,
    "start_time": "2022-08-12T00:32:59.730Z"
   },
   {
    "duration": 1467,
    "start_time": "2022-08-12T00:36:23.678Z"
   },
   {
    "duration": 225,
    "start_time": "2022-08-12T00:36:49.955Z"
   },
   {
    "duration": 186,
    "start_time": "2022-08-12T00:37:16.605Z"
   },
   {
    "duration": 1106,
    "start_time": "2022-08-12T00:37:37.215Z"
   },
   {
    "duration": 121,
    "start_time": "2022-08-12T00:37:57.291Z"
   },
   {
    "duration": 1211,
    "start_time": "2022-08-12T00:38:39.793Z"
   },
   {
    "duration": 1456,
    "start_time": "2022-08-12T00:41:55.353Z"
   },
   {
    "duration": 1424,
    "start_time": "2022-08-12T00:42:43.895Z"
   },
   {
    "duration": 140,
    "start_time": "2022-08-12T00:43:25.273Z"
   },
   {
    "duration": 70,
    "start_time": "2022-08-12T00:43:47.550Z"
   },
   {
    "duration": 73,
    "start_time": "2022-08-12T00:44:02.681Z"
   },
   {
    "duration": 70,
    "start_time": "2022-08-12T00:44:21.864Z"
   },
   {
    "duration": 93,
    "start_time": "2022-08-12T00:45:39.129Z"
   },
   {
    "duration": 69,
    "start_time": "2022-08-12T00:45:56.793Z"
   },
   {
    "duration": 1376,
    "start_time": "2022-08-12T00:47:32.552Z"
   },
   {
    "duration": 1293,
    "start_time": "2022-08-12T00:53:46.772Z"
   },
   {
    "duration": 1350,
    "start_time": "2022-08-12T01:04:07.545Z"
   },
   {
    "duration": 110,
    "start_time": "2022-08-12T01:04:32.267Z"
   },
   {
    "duration": 10,
    "start_time": "2022-08-12T01:04:40.289Z"
   },
   {
    "duration": 206,
    "start_time": "2022-08-12T01:05:04.082Z"
   },
   {
    "duration": 222,
    "start_time": "2022-08-12T01:05:49.986Z"
   },
   {
    "duration": 200,
    "start_time": "2022-08-12T01:06:14.557Z"
   },
   {
    "duration": 1417,
    "start_time": "2022-08-12T01:07:10.007Z"
   },
   {
    "duration": 1252,
    "start_time": "2022-08-12T01:07:26.254Z"
   },
   {
    "duration": 235,
    "start_time": "2022-08-12T01:09:30.209Z"
   },
   {
    "duration": 315,
    "start_time": "2022-08-12T01:10:06.965Z"
   },
   {
    "duration": 205,
    "start_time": "2022-08-12T01:12:11.377Z"
   },
   {
    "duration": 211,
    "start_time": "2022-08-12T01:13:22.891Z"
   },
   {
    "duration": 187,
    "start_time": "2022-08-12T01:13:45.367Z"
   },
   {
    "duration": 152,
    "start_time": "2022-08-12T01:17:36.681Z"
   },
   {
    "duration": 164,
    "start_time": "2022-08-12T01:18:32.334Z"
   },
   {
    "duration": 76,
    "start_time": "2022-08-12T01:19:05.321Z"
   },
   {
    "duration": 1388,
    "start_time": "2022-08-12T01:21:18.539Z"
   },
   {
    "duration": 1487,
    "start_time": "2022-08-12T01:21:36.632Z"
   },
   {
    "duration": 1383,
    "start_time": "2022-08-12T01:21:49.552Z"
   },
   {
    "duration": 1571,
    "start_time": "2022-08-12T01:21:59.356Z"
   },
   {
    "duration": 234,
    "start_time": "2022-08-12T01:22:40.030Z"
   },
   {
    "duration": 1453,
    "start_time": "2022-08-12T01:23:03.741Z"
   },
   {
    "duration": 10,
    "start_time": "2022-08-12T01:24:03.326Z"
   },
   {
    "duration": 10,
    "start_time": "2022-08-12T01:24:17.283Z"
   },
   {
    "duration": 417,
    "start_time": "2022-08-12T01:25:48.209Z"
   },
   {
    "duration": 235,
    "start_time": "2022-08-12T01:28:13.630Z"
   },
   {
    "duration": 244,
    "start_time": "2022-08-12T01:29:51.534Z"
   },
   {
    "duration": 175,
    "start_time": "2022-08-12T01:30:29.249Z"
   },
   {
    "duration": 196,
    "start_time": "2022-08-12T01:30:46.407Z"
   },
   {
    "duration": 184,
    "start_time": "2022-08-12T01:31:03.139Z"
   },
   {
    "duration": 172,
    "start_time": "2022-08-12T01:31:14.440Z"
   },
   {
    "duration": 180,
    "start_time": "2022-08-12T01:31:32.363Z"
   },
   {
    "duration": 189,
    "start_time": "2022-08-12T01:32:00.880Z"
   },
   {
    "duration": 168,
    "start_time": "2022-08-12T01:32:08.746Z"
   },
   {
    "duration": 162,
    "start_time": "2022-08-12T01:32:41.213Z"
   },
   {
    "duration": 9,
    "start_time": "2022-08-12T01:33:15.770Z"
   },
   {
    "duration": 274,
    "start_time": "2022-08-12T01:37:09.891Z"
   },
   {
    "duration": 277,
    "start_time": "2022-08-12T01:37:53.057Z"
   },
   {
    "duration": 246,
    "start_time": "2022-08-12T01:38:24.038Z"
   },
   {
    "duration": 284,
    "start_time": "2022-08-12T01:38:52.124Z"
   },
   {
    "duration": 266,
    "start_time": "2022-08-12T01:42:30.258Z"
   },
   {
    "duration": 10,
    "start_time": "2022-08-12T01:45:49.514Z"
   },
   {
    "duration": 1138,
    "start_time": "2022-08-12T01:46:23.717Z"
   },
   {
    "duration": 13,
    "start_time": "2022-08-12T01:48:22.245Z"
   },
   {
    "duration": 1320,
    "start_time": "2022-08-12T01:48:54.736Z"
   },
   {
    "duration": 13,
    "start_time": "2022-08-12T01:50:42.936Z"
   },
   {
    "duration": 1451,
    "start_time": "2022-08-12T01:50:59.083Z"
   },
   {
    "duration": 10,
    "start_time": "2022-08-12T01:51:18.530Z"
   },
   {
    "duration": 11,
    "start_time": "2022-08-12T01:51:39.872Z"
   },
   {
    "duration": 1127,
    "start_time": "2022-08-12T01:51:50.915Z"
   },
   {
    "duration": 233,
    "start_time": "2022-08-12T01:53:50.133Z"
   },
   {
    "duration": 256,
    "start_time": "2022-08-12T01:54:00.643Z"
   },
   {
    "duration": 71,
    "start_time": "2022-08-12T01:55:58.330Z"
   },
   {
    "duration": 73,
    "start_time": "2022-08-12T01:56:13.440Z"
   },
   {
    "duration": 277,
    "start_time": "2022-08-12T01:56:30.454Z"
   },
   {
    "duration": 81,
    "start_time": "2022-08-12T01:59:23.609Z"
   },
   {
    "duration": 367,
    "start_time": "2022-08-12T01:59:30.047Z"
   },
   {
    "duration": 294,
    "start_time": "2022-08-12T02:00:52.755Z"
   },
   {
    "duration": 8,
    "start_time": "2022-08-12T02:03:08.890Z"
   },
   {
    "duration": 9,
    "start_time": "2022-08-12T02:03:49.287Z"
   },
   {
    "duration": 8,
    "start_time": "2022-08-12T02:04:02.410Z"
   },
   {
    "duration": 11,
    "start_time": "2022-08-12T02:06:12.038Z"
   },
   {
    "duration": 122,
    "start_time": "2022-08-12T02:06:41.822Z"
   },
   {
    "duration": 177,
    "start_time": "2022-08-12T02:06:56.013Z"
   },
   {
    "duration": 238,
    "start_time": "2022-08-12T02:08:18.774Z"
   },
   {
    "duration": 281,
    "start_time": "2022-08-12T02:08:31.920Z"
   },
   {
    "duration": 75,
    "start_time": "2022-08-12T02:09:25.263Z"
   },
   {
    "duration": 1247,
    "start_time": "2022-08-12T02:09:35.209Z"
   },
   {
    "duration": 8,
    "start_time": "2022-08-12T02:21:38.174Z"
   },
   {
    "duration": 10,
    "start_time": "2022-08-12T02:25:51.830Z"
   },
   {
    "duration": 8,
    "start_time": "2022-08-12T02:26:18.909Z"
   },
   {
    "duration": 8,
    "start_time": "2022-08-12T02:26:35.609Z"
   },
   {
    "duration": 49,
    "start_time": "2022-08-12T06:09:35.652Z"
   },
   {
    "duration": 9,
    "start_time": "2022-08-12T06:09:56.325Z"
   },
   {
    "duration": 1405,
    "start_time": "2022-08-12T06:10:12.171Z"
   },
   {
    "duration": 113,
    "start_time": "2022-08-12T06:10:13.578Z"
   },
   {
    "duration": 89,
    "start_time": "2022-08-12T06:10:13.693Z"
   },
   {
    "duration": 5,
    "start_time": "2022-08-12T06:10:13.784Z"
   },
   {
    "duration": 6,
    "start_time": "2022-08-12T06:10:13.792Z"
   },
   {
    "duration": 15,
    "start_time": "2022-08-12T06:10:13.799Z"
   },
   {
    "duration": 13,
    "start_time": "2022-08-12T06:10:13.815Z"
   },
   {
    "duration": 6,
    "start_time": "2022-08-12T06:10:13.829Z"
   },
   {
    "duration": 7,
    "start_time": "2022-08-12T06:10:13.837Z"
   },
   {
    "duration": 17,
    "start_time": "2022-08-12T06:10:13.845Z"
   },
   {
    "duration": 33,
    "start_time": "2022-08-12T06:10:13.864Z"
   },
   {
    "duration": 8,
    "start_time": "2022-08-12T06:10:13.898Z"
   },
   {
    "duration": 13,
    "start_time": "2022-08-12T06:10:13.908Z"
   },
   {
    "duration": 8,
    "start_time": "2022-08-12T06:10:13.925Z"
   },
   {
    "duration": 9,
    "start_time": "2022-08-12T06:10:13.935Z"
   },
   {
    "duration": 10,
    "start_time": "2022-08-12T06:10:13.946Z"
   },
   {
    "duration": 32,
    "start_time": "2022-08-12T06:10:13.958Z"
   },
   {
    "duration": 7,
    "start_time": "2022-08-12T06:10:13.992Z"
   },
   {
    "duration": 11,
    "start_time": "2022-08-12T06:10:14.001Z"
   },
   {
    "duration": 8,
    "start_time": "2022-08-12T06:10:14.014Z"
   },
   {
    "duration": 10,
    "start_time": "2022-08-12T06:10:14.024Z"
   },
   {
    "duration": 11,
    "start_time": "2022-08-12T06:10:14.036Z"
   },
   {
    "duration": 15,
    "start_time": "2022-08-12T06:10:14.049Z"
   },
   {
    "duration": 25,
    "start_time": "2022-08-12T06:10:14.066Z"
   },
   {
    "duration": 16,
    "start_time": "2022-08-12T06:10:14.093Z"
   },
   {
    "duration": 10,
    "start_time": "2022-08-12T06:10:14.111Z"
   },
   {
    "duration": 12,
    "start_time": "2022-08-12T06:10:14.122Z"
   },
   {
    "duration": 11,
    "start_time": "2022-08-12T06:10:14.136Z"
   },
   {
    "duration": 10,
    "start_time": "2022-08-12T06:10:14.149Z"
   },
   {
    "duration": 1481,
    "start_time": "2022-08-12T06:10:14.161Z"
   },
   {
    "duration": 291,
    "start_time": "2022-08-12T06:10:15.644Z"
   },
   {
    "duration": 1760,
    "start_time": "2022-08-12T06:10:15.937Z"
   },
   {
    "duration": 207,
    "start_time": "2022-08-12T06:10:17.698Z"
   },
   {
    "duration": 202,
    "start_time": "2022-08-12T06:10:17.908Z"
   },
   {
    "duration": 353,
    "start_time": "2022-08-12T06:10:18.112Z"
   },
   {
    "duration": 1301,
    "start_time": "2022-08-12T06:10:18.467Z"
   },
   {
    "duration": 120,
    "start_time": "2022-08-12T06:10:19.770Z"
   },
   {
    "duration": 65,
    "start_time": "2022-08-12T06:10:39.043Z"
   },
   {
    "duration": 4,
    "start_time": "2022-08-12T06:11:07.514Z"
   },
   {
    "duration": 7,
    "start_time": "2022-08-12T06:11:31.815Z"
   },
   {
    "duration": 10,
    "start_time": "2022-08-12T06:12:23.915Z"
   },
   {
    "duration": 11,
    "start_time": "2022-08-12T06:15:30.596Z"
   },
   {
    "duration": 5,
    "start_time": "2022-08-12T06:16:34.563Z"
   },
   {
    "duration": 6,
    "start_time": "2022-08-12T06:17:07.930Z"
   },
   {
    "duration": 6,
    "start_time": "2022-08-12T06:18:02.976Z"
   },
   {
    "duration": 9,
    "start_time": "2022-08-12T06:19:20.754Z"
   },
   {
    "duration": 9,
    "start_time": "2022-08-12T06:20:19.521Z"
   },
   {
    "duration": 8,
    "start_time": "2022-08-12T06:21:39.584Z"
   },
   {
    "duration": 4,
    "start_time": "2022-08-12T06:22:52.532Z"
   },
   {
    "duration": 10,
    "start_time": "2022-08-12T06:55:55.173Z"
   },
   {
    "duration": 6,
    "start_time": "2022-08-12T07:04:07.224Z"
   },
   {
    "duration": 12,
    "start_time": "2022-08-12T07:04:55.625Z"
   },
   {
    "duration": 1371,
    "start_time": "2022-08-12T16:54:58.511Z"
   },
   {
    "duration": 117,
    "start_time": "2022-08-12T16:54:59.884Z"
   },
   {
    "duration": 202,
    "start_time": "2022-08-12T16:55:00.003Z"
   },
   {
    "duration": 6,
    "start_time": "2022-08-12T16:55:00.207Z"
   },
   {
    "duration": 13,
    "start_time": "2022-08-12T16:55:00.215Z"
   },
   {
    "duration": 17,
    "start_time": "2022-08-12T16:55:00.230Z"
   },
   {
    "duration": 20,
    "start_time": "2022-08-12T16:55:00.249Z"
   },
   {
    "duration": 29,
    "start_time": "2022-08-12T16:55:00.270Z"
   },
   {
    "duration": 19,
    "start_time": "2022-08-12T16:55:00.301Z"
   },
   {
    "duration": 34,
    "start_time": "2022-08-12T16:55:00.321Z"
   },
   {
    "duration": 27,
    "start_time": "2022-08-12T16:55:00.357Z"
   },
   {
    "duration": 12,
    "start_time": "2022-08-12T16:55:00.385Z"
   },
   {
    "duration": 11,
    "start_time": "2022-08-12T16:55:00.398Z"
   },
   {
    "duration": 15,
    "start_time": "2022-08-12T16:55:00.412Z"
   },
   {
    "duration": 13,
    "start_time": "2022-08-12T16:55:00.428Z"
   },
   {
    "duration": 35,
    "start_time": "2022-08-12T16:55:00.442Z"
   },
   {
    "duration": 13,
    "start_time": "2022-08-12T16:55:00.478Z"
   },
   {
    "duration": 14,
    "start_time": "2022-08-12T16:55:00.493Z"
   },
   {
    "duration": 10,
    "start_time": "2022-08-12T16:55:00.508Z"
   },
   {
    "duration": 14,
    "start_time": "2022-08-12T16:55:00.519Z"
   },
   {
    "duration": 11,
    "start_time": "2022-08-12T16:55:00.535Z"
   },
   {
    "duration": 26,
    "start_time": "2022-08-12T16:55:00.548Z"
   },
   {
    "duration": 16,
    "start_time": "2022-08-12T16:55:00.575Z"
   },
   {
    "duration": 36,
    "start_time": "2022-08-12T16:55:00.593Z"
   },
   {
    "duration": 40,
    "start_time": "2022-08-12T16:55:00.630Z"
   },
   {
    "duration": 20,
    "start_time": "2022-08-12T16:55:00.671Z"
   },
   {
    "duration": 37,
    "start_time": "2022-08-12T16:55:00.692Z"
   },
   {
    "duration": 33,
    "start_time": "2022-08-12T16:55:00.730Z"
   },
   {
    "duration": 18,
    "start_time": "2022-08-12T16:55:00.767Z"
   },
   {
    "duration": 1331,
    "start_time": "2022-08-12T16:55:00.786Z"
   },
   {
    "duration": 264,
    "start_time": "2022-08-12T16:55:02.119Z"
   },
   {
    "duration": 1449,
    "start_time": "2022-08-12T16:55:02.385Z"
   },
   {
    "duration": 184,
    "start_time": "2022-08-12T16:55:03.836Z"
   },
   {
    "duration": 273,
    "start_time": "2022-08-12T16:55:04.022Z"
   },
   {
    "duration": 246,
    "start_time": "2022-08-12T16:55:04.297Z"
   },
   {
    "duration": 1184,
    "start_time": "2022-08-12T16:55:04.544Z"
   },
   {
    "duration": 114,
    "start_time": "2022-08-12T16:55:05.729Z"
   },
   {
    "duration": 9,
    "start_time": "2022-08-12T16:55:05.845Z"
   },
   {
    "duration": 21,
    "start_time": "2022-08-12T16:55:05.855Z"
   },
   {
    "duration": 27,
    "start_time": "2022-08-12T16:55:05.877Z"
   },
   {
    "duration": 19,
    "start_time": "2022-08-12T16:55:05.906Z"
   },
   {
    "duration": 23,
    "start_time": "2022-08-12T16:55:05.927Z"
   },
   {
    "duration": 19,
    "start_time": "2022-08-12T16:55:05.951Z"
   },
   {
    "duration": 25,
    "start_time": "2022-08-12T16:55:05.971Z"
   },
   {
    "duration": 21,
    "start_time": "2022-08-12T16:55:05.998Z"
   },
   {
    "duration": 11,
    "start_time": "2022-08-12T16:55:06.021Z"
   },
   {
    "duration": 13,
    "start_time": "2022-08-12T16:55:06.034Z"
   },
   {
    "duration": 103,
    "start_time": "2022-08-12T16:55:06.049Z"
   },
   {
    "duration": 8,
    "start_time": "2022-08-12T16:55:26.708Z"
   },
   {
    "duration": 5,
    "start_time": "2022-08-12T16:55:36.811Z"
   },
   {
    "duration": 11,
    "start_time": "2022-08-12T16:55:49.026Z"
   },
   {
    "duration": 7,
    "start_time": "2022-08-12T16:56:30.215Z"
   },
   {
    "duration": 7,
    "start_time": "2022-08-12T16:57:32.801Z"
   },
   {
    "duration": 9,
    "start_time": "2022-08-12T16:59:06.292Z"
   },
   {
    "duration": 5,
    "start_time": "2022-08-12T17:00:14.315Z"
   },
   {
    "duration": 5,
    "start_time": "2022-08-12T18:23:57.678Z"
   },
   {
    "duration": 6,
    "start_time": "2022-08-12T18:25:13.373Z"
   },
   {
    "duration": 4,
    "start_time": "2022-08-12T18:28:53.765Z"
   },
   {
    "duration": 11,
    "start_time": "2022-08-12T18:29:17.912Z"
   },
   {
    "duration": 11,
    "start_time": "2022-08-12T18:30:36.251Z"
   },
   {
    "duration": 11,
    "start_time": "2022-08-12T18:33:47.304Z"
   },
   {
    "duration": 9,
    "start_time": "2022-08-12T18:35:00.695Z"
   },
   {
    "duration": 4,
    "start_time": "2022-08-12T18:35:05.581Z"
   },
   {
    "duration": 50,
    "start_time": "2022-08-12T20:14:50.837Z"
   },
   {
    "duration": 1295,
    "start_time": "2022-08-12T20:14:59.942Z"
   },
   {
    "duration": 92,
    "start_time": "2022-08-12T20:15:01.239Z"
   },
   {
    "duration": 87,
    "start_time": "2022-08-12T20:15:01.333Z"
   },
   {
    "duration": 5,
    "start_time": "2022-08-12T20:15:01.422Z"
   },
   {
    "duration": 21,
    "start_time": "2022-08-12T20:15:01.430Z"
   },
   {
    "duration": 18,
    "start_time": "2022-08-12T20:15:01.453Z"
   },
   {
    "duration": 11,
    "start_time": "2022-08-12T20:15:01.474Z"
   },
   {
    "duration": 20,
    "start_time": "2022-08-12T20:15:01.488Z"
   },
   {
    "duration": 8,
    "start_time": "2022-08-12T20:15:01.510Z"
   },
   {
    "duration": 16,
    "start_time": "2022-08-12T20:15:01.519Z"
   },
   {
    "duration": 14,
    "start_time": "2022-08-12T20:15:01.536Z"
   },
   {
    "duration": 19,
    "start_time": "2022-08-12T20:15:01.552Z"
   },
   {
    "duration": 21,
    "start_time": "2022-08-12T20:15:01.572Z"
   },
   {
    "duration": 12,
    "start_time": "2022-08-12T20:15:01.596Z"
   },
   {
    "duration": 12,
    "start_time": "2022-08-12T20:15:01.610Z"
   },
   {
    "duration": 16,
    "start_time": "2022-08-12T20:15:01.623Z"
   },
   {
    "duration": 14,
    "start_time": "2022-08-12T20:15:01.642Z"
   },
   {
    "duration": 15,
    "start_time": "2022-08-12T20:15:01.659Z"
   },
   {
    "duration": 13,
    "start_time": "2022-08-12T20:15:01.676Z"
   },
   {
    "duration": 18,
    "start_time": "2022-08-12T20:15:01.691Z"
   },
   {
    "duration": 18,
    "start_time": "2022-08-12T20:15:01.711Z"
   },
   {
    "duration": 25,
    "start_time": "2022-08-12T20:15:01.731Z"
   },
   {
    "duration": 18,
    "start_time": "2022-08-12T20:15:01.759Z"
   },
   {
    "duration": 8,
    "start_time": "2022-08-12T20:15:01.780Z"
   },
   {
    "duration": 12,
    "start_time": "2022-08-12T20:15:01.790Z"
   },
   {
    "duration": 13,
    "start_time": "2022-08-12T20:15:01.803Z"
   },
   {
    "duration": 22,
    "start_time": "2022-08-12T20:15:01.818Z"
   },
   {
    "duration": 35,
    "start_time": "2022-08-12T20:15:01.842Z"
   },
   {
    "duration": 15,
    "start_time": "2022-08-12T20:15:01.879Z"
   },
   {
    "duration": 1441,
    "start_time": "2022-08-12T20:15:01.897Z"
   },
   {
    "duration": 272,
    "start_time": "2022-08-12T20:15:03.340Z"
   },
   {
    "duration": 1534,
    "start_time": "2022-08-12T20:15:03.614Z"
   },
   {
    "duration": 292,
    "start_time": "2022-08-12T20:15:05.151Z"
   },
   {
    "duration": 281,
    "start_time": "2022-08-12T20:15:05.445Z"
   },
   {
    "duration": 294,
    "start_time": "2022-08-12T20:15:05.728Z"
   },
   {
    "duration": 1350,
    "start_time": "2022-08-12T20:15:06.025Z"
   },
   {
    "duration": 127,
    "start_time": "2022-08-12T20:15:07.377Z"
   },
   {
    "duration": 10,
    "start_time": "2022-08-12T20:15:07.506Z"
   },
   {
    "duration": 9,
    "start_time": "2022-08-12T20:15:07.518Z"
   },
   {
    "duration": 11,
    "start_time": "2022-08-12T20:15:07.529Z"
   },
   {
    "duration": 19,
    "start_time": "2022-08-12T20:15:07.546Z"
   },
   {
    "duration": 8,
    "start_time": "2022-08-12T20:15:07.567Z"
   },
   {
    "duration": 33,
    "start_time": "2022-08-12T20:15:07.577Z"
   },
   {
    "duration": 10,
    "start_time": "2022-08-12T20:15:07.612Z"
   },
   {
    "duration": 11,
    "start_time": "2022-08-12T20:15:07.625Z"
   },
   {
    "duration": 9,
    "start_time": "2022-08-12T20:15:07.637Z"
   },
   {
    "duration": 13,
    "start_time": "2022-08-12T20:15:07.647Z"
   },
   {
    "duration": 12,
    "start_time": "2022-08-12T20:15:07.661Z"
   },
   {
    "duration": 38,
    "start_time": "2022-08-12T20:15:07.675Z"
   },
   {
    "duration": 9,
    "start_time": "2022-08-12T20:15:07.715Z"
   },
   {
    "duration": 18,
    "start_time": "2022-08-12T20:15:07.726Z"
   },
   {
    "duration": 11,
    "start_time": "2022-08-12T20:15:07.745Z"
   },
   {
    "duration": 8,
    "start_time": "2022-08-12T20:15:07.757Z"
   },
   {
    "duration": 8,
    "start_time": "2022-08-12T20:15:07.767Z"
   },
   {
    "duration": 13,
    "start_time": "2022-08-12T20:15:07.776Z"
   },
   {
    "duration": 26,
    "start_time": "2022-08-12T20:15:07.791Z"
   },
   {
    "duration": 9,
    "start_time": "2022-08-12T20:15:07.819Z"
   },
   {
    "duration": 7,
    "start_time": "2022-08-12T20:15:07.829Z"
   },
   {
    "duration": 877,
    "start_time": "2022-08-12T20:15:07.838Z"
   },
   {
    "duration": 14277,
    "start_time": "2022-08-12T20:15:49.832Z"
   },
   {
    "duration": 9,
    "start_time": "2022-08-12T20:19:28.955Z"
   },
   {
    "duration": 10,
    "start_time": "2022-08-12T20:19:41.393Z"
   },
   {
    "duration": 135,
    "start_time": "2022-08-12T20:23:38.198Z"
   },
   {
    "duration": 478,
    "start_time": "2022-08-12T20:24:25.534Z"
   },
   {
    "duration": 134,
    "start_time": "2022-08-12T20:26:10.955Z"
   },
   {
    "duration": 5639,
    "start_time": "2022-08-12T20:26:56.615Z"
   },
   {
    "duration": 158,
    "start_time": "2022-08-12T20:27:25.386Z"
   },
   {
    "duration": 135,
    "start_time": "2022-08-12T20:27:41.494Z"
   },
   {
    "duration": 165,
    "start_time": "2022-08-12T20:28:07.053Z"
   },
   {
    "duration": 155,
    "start_time": "2022-08-12T20:28:25.742Z"
   },
   {
    "duration": 12,
    "start_time": "2022-08-12T22:06:29.442Z"
   },
   {
    "duration": 6,
    "start_time": "2022-08-12T22:15:58.170Z"
   },
   {
    "duration": 4,
    "start_time": "2022-08-12T23:26:24.216Z"
   },
   {
    "duration": 3,
    "start_time": "2022-08-12T23:29:47.584Z"
   },
   {
    "duration": 125,
    "start_time": "2022-08-12T23:42:15.984Z"
   },
   {
    "duration": 9,
    "start_time": "2022-08-12T23:42:31.838Z"
   },
   {
    "duration": 11,
    "start_time": "2022-08-12T23:42:45.553Z"
   },
   {
    "duration": 8,
    "start_time": "2022-08-12T23:43:02.792Z"
   },
   {
    "duration": 9,
    "start_time": "2022-08-12T23:43:13.426Z"
   },
   {
    "duration": 148,
    "start_time": "2022-08-12T23:45:17.093Z"
   },
   {
    "duration": 9618,
    "start_time": "2022-08-12T23:49:54.093Z"
   },
   {
    "duration": 9321,
    "start_time": "2022-08-12T23:51:43.118Z"
   },
   {
    "duration": 9303,
    "start_time": "2022-08-12T23:52:35.182Z"
   },
   {
    "duration": 9242,
    "start_time": "2022-08-12T23:53:39.330Z"
   },
   {
    "duration": 190,
    "start_time": "2022-08-12T23:55:52.237Z"
   },
   {
    "duration": 184,
    "start_time": "2022-08-12T23:56:08.312Z"
   },
   {
    "duration": 184,
    "start_time": "2022-08-12T23:56:18.797Z"
   },
   {
    "duration": 212,
    "start_time": "2022-08-12T23:56:47.015Z"
   },
   {
    "duration": 185,
    "start_time": "2022-08-12T23:57:12.943Z"
   },
   {
    "duration": 187,
    "start_time": "2022-08-12T23:57:20.625Z"
   },
   {
    "duration": 185,
    "start_time": "2022-08-12T23:57:35.043Z"
   },
   {
    "duration": 194,
    "start_time": "2022-08-12T23:57:47.667Z"
   },
   {
    "duration": 278,
    "start_time": "2022-08-12T23:58:18.911Z"
   },
   {
    "duration": 281,
    "start_time": "2022-08-12T23:58:52.177Z"
   },
   {
    "duration": 10,
    "start_time": "2022-08-13T01:07:04.383Z"
   },
   {
    "duration": 9,
    "start_time": "2022-08-13T01:18:20.422Z"
   },
   {
    "duration": 10,
    "start_time": "2022-08-13T01:20:06.482Z"
   },
   {
    "duration": 4,
    "start_time": "2022-08-13T01:21:58.434Z"
   },
   {
    "duration": 5,
    "start_time": "2022-08-13T01:22:18.535Z"
   },
   {
    "duration": 4,
    "start_time": "2022-08-13T01:23:32.537Z"
   },
   {
    "duration": 5,
    "start_time": "2022-08-13T01:24:02.805Z"
   },
   {
    "duration": 4,
    "start_time": "2022-08-13T02:50:39.627Z"
   },
   {
    "duration": 60,
    "start_time": "2022-08-13T02:50:39.633Z"
   },
   {
    "duration": 48,
    "start_time": "2022-08-13T02:50:39.694Z"
   },
   {
    "duration": 3,
    "start_time": "2022-08-13T02:50:39.744Z"
   },
   {
    "duration": 5,
    "start_time": "2022-08-13T02:50:39.750Z"
   },
   {
    "duration": 12,
    "start_time": "2022-08-13T02:50:39.756Z"
   },
   {
    "duration": 9,
    "start_time": "2022-08-13T02:50:39.770Z"
   },
   {
    "duration": 5,
    "start_time": "2022-08-13T02:50:39.781Z"
   },
   {
    "duration": 6,
    "start_time": "2022-08-13T02:50:39.787Z"
   },
   {
    "duration": 12,
    "start_time": "2022-08-13T02:50:39.794Z"
   },
   {
    "duration": 12,
    "start_time": "2022-08-13T02:50:39.807Z"
   },
   {
    "duration": 5,
    "start_time": "2022-08-13T02:50:39.821Z"
   },
   {
    "duration": 5,
    "start_time": "2022-08-13T02:50:39.827Z"
   },
   {
    "duration": 5,
    "start_time": "2022-08-13T02:50:39.835Z"
   },
   {
    "duration": 7,
    "start_time": "2022-08-13T02:50:39.841Z"
   },
   {
    "duration": 10,
    "start_time": "2022-08-13T02:50:39.850Z"
   },
   {
    "duration": 10,
    "start_time": "2022-08-13T02:50:39.861Z"
   },
   {
    "duration": 9,
    "start_time": "2022-08-13T02:50:39.873Z"
   },
   {
    "duration": 29,
    "start_time": "2022-08-13T02:50:39.883Z"
   },
   {
    "duration": 6,
    "start_time": "2022-08-13T02:50:39.913Z"
   },
   {
    "duration": 6,
    "start_time": "2022-08-13T02:50:39.920Z"
   },
   {
    "duration": 6,
    "start_time": "2022-08-13T02:50:39.927Z"
   },
   {
    "duration": 18,
    "start_time": "2022-08-13T02:50:39.934Z"
   },
   {
    "duration": 9,
    "start_time": "2022-08-13T02:50:39.953Z"
   },
   {
    "duration": 8,
    "start_time": "2022-08-13T02:50:39.963Z"
   },
   {
    "duration": 15,
    "start_time": "2022-08-13T02:50:39.973Z"
   },
   {
    "duration": 21,
    "start_time": "2022-08-13T02:50:39.989Z"
   },
   {
    "duration": 15,
    "start_time": "2022-08-13T02:50:40.012Z"
   },
   {
    "duration": 11,
    "start_time": "2022-08-13T02:50:40.029Z"
   },
   {
    "duration": 1293,
    "start_time": "2022-08-13T02:50:40.042Z"
   },
   {
    "duration": 288,
    "start_time": "2022-08-13T02:50:41.337Z"
   },
   {
    "duration": 1895,
    "start_time": "2022-08-13T02:50:41.627Z"
   },
   {
    "duration": 195,
    "start_time": "2022-08-13T02:50:43.523Z"
   },
   {
    "duration": 180,
    "start_time": "2022-08-13T02:50:43.720Z"
   },
   {
    "duration": 242,
    "start_time": "2022-08-13T02:50:43.908Z"
   },
   {
    "duration": 1182,
    "start_time": "2022-08-13T02:50:44.152Z"
   },
   {
    "duration": 65,
    "start_time": "2022-08-13T02:50:45.335Z"
   },
   {
    "duration": 10,
    "start_time": "2022-08-13T02:50:45.401Z"
   },
   {
    "duration": 6,
    "start_time": "2022-08-13T02:50:45.413Z"
   },
   {
    "duration": 6,
    "start_time": "2022-08-13T02:50:45.420Z"
   },
   {
    "duration": 4,
    "start_time": "2022-08-13T02:50:45.430Z"
   },
   {
    "duration": 14,
    "start_time": "2022-08-13T02:50:45.435Z"
   },
   {
    "duration": 5,
    "start_time": "2022-08-13T02:50:45.450Z"
   },
   {
    "duration": 7,
    "start_time": "2022-08-13T02:50:45.456Z"
   },
   {
    "duration": 8,
    "start_time": "2022-08-13T02:50:45.465Z"
   },
   {
    "duration": 38,
    "start_time": "2022-08-13T02:50:45.474Z"
   },
   {
    "duration": 5,
    "start_time": "2022-08-13T02:50:45.514Z"
   },
   {
    "duration": 14,
    "start_time": "2022-08-13T02:50:45.520Z"
   },
   {
    "duration": 11,
    "start_time": "2022-08-13T02:50:45.535Z"
   },
   {
    "duration": 5,
    "start_time": "2022-08-13T02:50:45.548Z"
   },
   {
    "duration": 7,
    "start_time": "2022-08-13T02:50:45.554Z"
   },
   {
    "duration": 12,
    "start_time": "2022-08-13T02:50:45.563Z"
   },
   {
    "duration": 5,
    "start_time": "2022-08-13T02:50:45.608Z"
   },
   {
    "duration": 11,
    "start_time": "2022-08-13T02:50:45.614Z"
   },
   {
    "duration": 8,
    "start_time": "2022-08-13T02:50:45.626Z"
   },
   {
    "duration": 10,
    "start_time": "2022-08-13T02:50:45.636Z"
   },
   {
    "duration": 10,
    "start_time": "2022-08-13T02:50:45.648Z"
   },
   {
    "duration": 10,
    "start_time": "2022-08-13T02:50:45.660Z"
   },
   {
    "duration": 7,
    "start_time": "2022-08-13T02:50:45.672Z"
   },
   {
    "duration": 32,
    "start_time": "2022-08-13T02:50:45.681Z"
   },
   {
    "duration": 4,
    "start_time": "2022-08-13T02:50:45.715Z"
   },
   {
    "duration": 10,
    "start_time": "2022-08-13T02:50:45.721Z"
   },
   {
    "duration": 9,
    "start_time": "2022-08-13T02:50:45.733Z"
   },
   {
    "duration": 5,
    "start_time": "2022-08-13T02:50:45.744Z"
   },
   {
    "duration": 11,
    "start_time": "2022-08-13T02:50:45.751Z"
   },
   {
    "duration": 10,
    "start_time": "2022-08-13T02:50:45.763Z"
   },
   {
    "duration": 7,
    "start_time": "2022-08-13T02:50:45.774Z"
   },
   {
    "duration": 1200,
    "start_time": "2022-08-13T15:58:13.391Z"
   },
   {
    "duration": 121,
    "start_time": "2022-08-13T15:58:14.593Z"
   },
   {
    "duration": 145,
    "start_time": "2022-08-13T15:58:14.715Z"
   },
   {
    "duration": 5,
    "start_time": "2022-08-13T15:58:14.862Z"
   },
   {
    "duration": 7,
    "start_time": "2022-08-13T15:58:14.868Z"
   },
   {
    "duration": 13,
    "start_time": "2022-08-13T15:58:14.877Z"
   },
   {
    "duration": 12,
    "start_time": "2022-08-13T15:58:14.891Z"
   },
   {
    "duration": 9,
    "start_time": "2022-08-13T15:58:14.905Z"
   },
   {
    "duration": 6,
    "start_time": "2022-08-13T15:58:14.915Z"
   },
   {
    "duration": 12,
    "start_time": "2022-08-13T15:58:14.923Z"
   },
   {
    "duration": 9,
    "start_time": "2022-08-13T15:58:14.937Z"
   },
   {
    "duration": 5,
    "start_time": "2022-08-13T15:58:14.948Z"
   },
   {
    "duration": 8,
    "start_time": "2022-08-13T15:58:14.954Z"
   },
   {
    "duration": 5,
    "start_time": "2022-08-13T15:58:14.963Z"
   },
   {
    "duration": 6,
    "start_time": "2022-08-13T15:58:14.969Z"
   },
   {
    "duration": 7,
    "start_time": "2022-08-13T15:58:14.977Z"
   },
   {
    "duration": 5,
    "start_time": "2022-08-13T15:58:14.986Z"
   },
   {
    "duration": 8,
    "start_time": "2022-08-13T15:58:14.992Z"
   },
   {
    "duration": 23,
    "start_time": "2022-08-13T15:58:15.002Z"
   },
   {
    "duration": 12,
    "start_time": "2022-08-13T15:58:15.028Z"
   },
   {
    "duration": 6,
    "start_time": "2022-08-13T15:58:15.041Z"
   },
   {
    "duration": 5,
    "start_time": "2022-08-13T15:58:15.049Z"
   },
   {
    "duration": 5,
    "start_time": "2022-08-13T15:58:15.056Z"
   },
   {
    "duration": 5,
    "start_time": "2022-08-13T15:58:15.062Z"
   },
   {
    "duration": 6,
    "start_time": "2022-08-13T15:58:15.068Z"
   },
   {
    "duration": 10,
    "start_time": "2022-08-13T15:58:15.075Z"
   },
   {
    "duration": 12,
    "start_time": "2022-08-13T15:58:15.087Z"
   },
   {
    "duration": 6,
    "start_time": "2022-08-13T15:58:15.103Z"
   },
   {
    "duration": 8,
    "start_time": "2022-08-13T15:58:15.111Z"
   },
   {
    "duration": 1437,
    "start_time": "2022-08-13T15:58:15.120Z"
   },
   {
    "duration": 299,
    "start_time": "2022-08-13T15:58:16.558Z"
   },
   {
    "duration": 1454,
    "start_time": "2022-08-13T15:58:16.859Z"
   },
   {
    "duration": 188,
    "start_time": "2022-08-13T15:58:18.314Z"
   },
   {
    "duration": 256,
    "start_time": "2022-08-13T15:58:18.504Z"
   },
   {
    "duration": 249,
    "start_time": "2022-08-13T15:58:18.761Z"
   },
   {
    "duration": 1142,
    "start_time": "2022-08-13T15:58:19.012Z"
   },
   {
    "duration": 170,
    "start_time": "2022-08-13T15:58:20.156Z"
   },
   {
    "duration": 10,
    "start_time": "2022-08-13T15:58:20.328Z"
   },
   {
    "duration": 6,
    "start_time": "2022-08-13T15:58:20.339Z"
   },
   {
    "duration": 6,
    "start_time": "2022-08-13T15:58:20.347Z"
   },
   {
    "duration": 6,
    "start_time": "2022-08-13T15:58:20.354Z"
   },
   {
    "duration": 14,
    "start_time": "2022-08-13T15:58:20.362Z"
   },
   {
    "duration": 5,
    "start_time": "2022-08-13T15:58:20.378Z"
   },
   {
    "duration": 8,
    "start_time": "2022-08-13T15:58:20.385Z"
   },
   {
    "duration": 10,
    "start_time": "2022-08-13T15:58:20.395Z"
   },
   {
    "duration": 10,
    "start_time": "2022-08-13T15:58:20.407Z"
   },
   {
    "duration": 8,
    "start_time": "2022-08-13T15:58:20.419Z"
   },
   {
    "duration": 35,
    "start_time": "2022-08-13T15:58:20.428Z"
   },
   {
    "duration": 10,
    "start_time": "2022-08-13T15:58:20.464Z"
   },
   {
    "duration": 5,
    "start_time": "2022-08-13T15:58:20.476Z"
   },
   {
    "duration": 7,
    "start_time": "2022-08-13T15:58:20.482Z"
   },
   {
    "duration": 11,
    "start_time": "2022-08-13T15:58:20.491Z"
   },
   {
    "duration": 6,
    "start_time": "2022-08-13T15:58:20.503Z"
   },
   {
    "duration": 6,
    "start_time": "2022-08-13T15:58:20.510Z"
   },
   {
    "duration": 6,
    "start_time": "2022-08-13T15:58:20.517Z"
   },
   {
    "duration": 13,
    "start_time": "2022-08-13T15:58:20.555Z"
   },
   {
    "duration": 13,
    "start_time": "2022-08-13T15:58:20.569Z"
   },
   {
    "duration": 13,
    "start_time": "2022-08-13T15:58:20.584Z"
   },
   {
    "duration": 6,
    "start_time": "2022-08-13T15:58:20.598Z"
   },
   {
    "duration": 11,
    "start_time": "2022-08-13T15:58:20.606Z"
   },
   {
    "duration": 4,
    "start_time": "2022-08-13T15:58:20.618Z"
   },
   {
    "duration": 36,
    "start_time": "2022-08-13T15:58:20.624Z"
   },
   {
    "duration": 8,
    "start_time": "2022-08-13T15:58:20.662Z"
   },
   {
    "duration": 9,
    "start_time": "2022-08-13T15:58:20.671Z"
   },
   {
    "duration": 4,
    "start_time": "2022-08-13T15:58:20.681Z"
   },
   {
    "duration": 4,
    "start_time": "2022-08-13T15:58:20.687Z"
   },
   {
    "duration": 8,
    "start_time": "2022-08-13T15:58:20.693Z"
   },
   {
    "duration": 42,
    "start_time": "2022-08-14T00:24:21.957Z"
   },
   {
    "duration": 1184,
    "start_time": "2022-08-14T00:24:34.345Z"
   },
   {
    "duration": 89,
    "start_time": "2022-08-14T00:24:35.531Z"
   },
   {
    "duration": 84,
    "start_time": "2022-08-14T00:24:35.622Z"
   },
   {
    "duration": 5,
    "start_time": "2022-08-14T00:24:35.707Z"
   },
   {
    "duration": 5,
    "start_time": "2022-08-14T00:24:35.714Z"
   },
   {
    "duration": 12,
    "start_time": "2022-08-14T00:24:35.721Z"
   },
   {
    "duration": 10,
    "start_time": "2022-08-14T00:24:35.734Z"
   },
   {
    "duration": 6,
    "start_time": "2022-08-14T00:24:35.745Z"
   },
   {
    "duration": 9,
    "start_time": "2022-08-14T00:24:35.752Z"
   },
   {
    "duration": 19,
    "start_time": "2022-08-14T00:24:35.763Z"
   },
   {
    "duration": 22,
    "start_time": "2022-08-14T00:24:35.783Z"
   },
   {
    "duration": 6,
    "start_time": "2022-08-14T00:24:35.807Z"
   },
   {
    "duration": 6,
    "start_time": "2022-08-14T00:24:35.814Z"
   },
   {
    "duration": 6,
    "start_time": "2022-08-14T00:24:35.823Z"
   },
   {
    "duration": 8,
    "start_time": "2022-08-14T00:24:35.830Z"
   },
   {
    "duration": 8,
    "start_time": "2022-08-14T00:24:35.840Z"
   },
   {
    "duration": 6,
    "start_time": "2022-08-14T00:24:35.849Z"
   },
   {
    "duration": 9,
    "start_time": "2022-08-14T00:24:35.856Z"
   },
   {
    "duration": 35,
    "start_time": "2022-08-14T00:24:35.866Z"
   },
   {
    "duration": 5,
    "start_time": "2022-08-14T00:24:35.902Z"
   },
   {
    "duration": 7,
    "start_time": "2022-08-14T00:24:35.908Z"
   },
   {
    "duration": 6,
    "start_time": "2022-08-14T00:24:35.916Z"
   },
   {
    "duration": 5,
    "start_time": "2022-08-14T00:24:35.923Z"
   },
   {
    "duration": 8,
    "start_time": "2022-08-14T00:24:35.929Z"
   },
   {
    "duration": 6,
    "start_time": "2022-08-14T00:24:35.939Z"
   },
   {
    "duration": 12,
    "start_time": "2022-08-14T00:24:35.946Z"
   },
   {
    "duration": 10,
    "start_time": "2022-08-14T00:24:35.960Z"
   },
   {
    "duration": 34,
    "start_time": "2022-08-14T00:24:35.972Z"
   },
   {
    "duration": 9,
    "start_time": "2022-08-14T00:24:36.007Z"
   },
   {
    "duration": 1265,
    "start_time": "2022-08-14T00:24:36.017Z"
   },
   {
    "duration": 285,
    "start_time": "2022-08-14T00:25:23.818Z"
   },
   {
    "duration": 278,
    "start_time": "2022-08-14T00:26:02.579Z"
   },
   {
    "duration": 275,
    "start_time": "2022-08-14T00:26:29.218Z"
   },
   {
    "duration": 246,
    "start_time": "2022-08-14T00:26:51.870Z"
   },
   {
    "duration": 1186,
    "start_time": "2022-08-14T00:27:26.936Z"
   },
   {
    "duration": 1274,
    "start_time": "2022-08-14T00:27:53.235Z"
   },
   {
    "duration": 1225,
    "start_time": "2022-08-14T00:29:16.151Z"
   },
   {
    "duration": 1215,
    "start_time": "2022-08-14T00:29:30.343Z"
   },
   {
    "duration": 1196,
    "start_time": "2022-08-14T00:29:57.152Z"
   },
   {
    "duration": 1155,
    "start_time": "2022-08-14T00:30:31.888Z"
   },
   {
    "duration": 1288,
    "start_time": "2022-08-14T00:30:41.025Z"
   },
   {
    "duration": 1226,
    "start_time": "2022-08-14T00:31:00.014Z"
   },
   {
    "duration": 1220,
    "start_time": "2022-08-14T00:31:27.548Z"
   },
   {
    "duration": 1171,
    "start_time": "2022-08-14T00:31:48.729Z"
   },
   {
    "duration": 237,
    "start_time": "2022-08-14T00:32:31.980Z"
   },
   {
    "duration": 251,
    "start_time": "2022-08-14T00:32:40.529Z"
   },
   {
    "duration": 1442,
    "start_time": "2022-08-14T00:34:16.562Z"
   },
   {
    "duration": 1463,
    "start_time": "2022-08-14T00:34:54.815Z"
   },
   {
    "duration": 231,
    "start_time": "2022-08-14T00:35:09.537Z"
   },
   {
    "duration": 251,
    "start_time": "2022-08-14T00:35:39.310Z"
   },
   {
    "duration": 252,
    "start_time": "2022-08-14T00:36:21.884Z"
   },
   {
    "duration": 1512,
    "start_time": "2022-08-14T00:39:33.579Z"
   },
   {
    "duration": 1380,
    "start_time": "2022-08-14T00:39:57.207Z"
   },
   {
    "duration": 259,
    "start_time": "2022-08-14T00:40:19.278Z"
   },
   {
    "duration": 193,
    "start_time": "2022-08-14T00:50:29.009Z"
   },
   {
    "duration": 187,
    "start_time": "2022-08-14T00:50:40.943Z"
   },
   {
    "duration": 188,
    "start_time": "2022-08-14T00:50:57.677Z"
   },
   {
    "duration": 1317,
    "start_time": "2022-08-14T00:51:54.755Z"
   },
   {
    "duration": 233,
    "start_time": "2022-08-14T00:53:11.236Z"
   },
   {
    "duration": 1599,
    "start_time": "2022-08-14T00:53:44.171Z"
   },
   {
    "duration": 1424,
    "start_time": "2022-08-14T00:53:57.362Z"
   },
   {
    "duration": 1416,
    "start_time": "2022-08-14T00:54:11.711Z"
   },
   {
    "duration": 1487,
    "start_time": "2022-08-14T00:54:46.756Z"
   },
   {
    "duration": 1661,
    "start_time": "2022-08-14T00:55:13.668Z"
   },
   {
    "duration": 1561,
    "start_time": "2022-08-14T00:55:27.990Z"
   },
   {
    "duration": 1552,
    "start_time": "2022-08-14T00:55:39.106Z"
   },
   {
    "duration": 1655,
    "start_time": "2022-08-14T00:56:20.500Z"
   },
   {
    "duration": 304,
    "start_time": "2022-08-14T00:56:44.303Z"
   },
   {
    "duration": 190,
    "start_time": "2022-08-14T00:57:26.777Z"
   },
   {
    "duration": 310,
    "start_time": "2022-08-14T00:59:08.016Z"
   },
   {
    "duration": 156,
    "start_time": "2022-08-14T01:00:04.620Z"
   },
   {
    "duration": 164,
    "start_time": "2022-08-14T01:01:32.782Z"
   },
   {
    "duration": 1295,
    "start_time": "2022-08-14T01:01:47.579Z"
   },
   {
    "duration": 1262,
    "start_time": "2022-08-14T01:02:46.311Z"
   },
   {
    "duration": 1296,
    "start_time": "2022-08-14T01:03:11.048Z"
   },
   {
    "duration": 148,
    "start_time": "2022-08-14T01:03:41.532Z"
   },
   {
    "duration": 153,
    "start_time": "2022-08-14T01:04:26.981Z"
   },
   {
    "duration": 1232,
    "start_time": "2022-08-14T01:04:57.384Z"
   },
   {
    "duration": 1208,
    "start_time": "2022-08-14T01:05:09.261Z"
   },
   {
    "duration": 1296,
    "start_time": "2022-08-14T01:05:19.272Z"
   },
   {
    "duration": 59,
    "start_time": "2022-08-14T01:19:24.990Z"
   },
   {
    "duration": 1129,
    "start_time": "2022-08-14T01:20:06.268Z"
   },
   {
    "duration": 1253,
    "start_time": "2022-08-14T01:20:23.489Z"
   },
   {
    "duration": 1227,
    "start_time": "2022-08-14T01:20:33.847Z"
   },
   {
    "duration": 4,
    "start_time": "2022-08-14T01:21:55.980Z"
   },
   {
    "duration": 9,
    "start_time": "2022-08-14T01:22:27.542Z"
   },
   {
    "duration": 5,
    "start_time": "2022-08-14T01:22:35.133Z"
   },
   {
    "duration": 53,
    "start_time": "2022-08-14T01:22:35.140Z"
   },
   {
    "duration": 35,
    "start_time": "2022-08-14T01:22:35.195Z"
   },
   {
    "duration": 4,
    "start_time": "2022-08-14T01:22:35.232Z"
   },
   {
    "duration": 4,
    "start_time": "2022-08-14T01:22:35.238Z"
   },
   {
    "duration": 11,
    "start_time": "2022-08-14T01:22:35.243Z"
   },
   {
    "duration": 10,
    "start_time": "2022-08-14T01:22:35.255Z"
   },
   {
    "duration": 6,
    "start_time": "2022-08-14T01:22:35.267Z"
   },
   {
    "duration": 8,
    "start_time": "2022-08-14T01:22:35.274Z"
   },
   {
    "duration": 11,
    "start_time": "2022-08-14T01:22:35.283Z"
   },
   {
    "duration": 11,
    "start_time": "2022-08-14T01:22:35.295Z"
   },
   {
    "duration": 6,
    "start_time": "2022-08-14T01:22:35.307Z"
   },
   {
    "duration": 6,
    "start_time": "2022-08-14T01:22:35.314Z"
   },
   {
    "duration": 5,
    "start_time": "2022-08-14T01:22:35.323Z"
   },
   {
    "duration": 9,
    "start_time": "2022-08-14T01:22:35.329Z"
   },
   {
    "duration": 8,
    "start_time": "2022-08-14T01:22:35.339Z"
   },
   {
    "duration": 7,
    "start_time": "2022-08-14T01:22:35.349Z"
   },
   {
    "duration": 7,
    "start_time": "2022-08-14T01:22:35.357Z"
   },
   {
    "duration": 8,
    "start_time": "2022-08-14T01:22:35.365Z"
   },
   {
    "duration": 26,
    "start_time": "2022-08-14T01:22:35.374Z"
   },
   {
    "duration": 4,
    "start_time": "2022-08-14T01:22:35.401Z"
   },
   {
    "duration": 5,
    "start_time": "2022-08-14T01:22:35.406Z"
   },
   {
    "duration": 5,
    "start_time": "2022-08-14T01:22:35.413Z"
   },
   {
    "duration": 6,
    "start_time": "2022-08-14T01:22:35.419Z"
   },
   {
    "duration": 6,
    "start_time": "2022-08-14T01:22:35.426Z"
   },
   {
    "duration": 9,
    "start_time": "2022-08-14T01:22:35.433Z"
   },
   {
    "duration": 10,
    "start_time": "2022-08-14T01:22:35.443Z"
   },
   {
    "duration": 12,
    "start_time": "2022-08-14T01:22:35.454Z"
   },
   {
    "duration": 37,
    "start_time": "2022-08-14T01:22:35.467Z"
   },
   {
    "duration": 1158,
    "start_time": "2022-08-14T01:22:35.505Z"
   },
   {
    "duration": 237,
    "start_time": "2022-08-14T01:22:36.665Z"
   },
   {
    "duration": 1311,
    "start_time": "2022-08-14T01:22:36.904Z"
   },
   {
    "duration": 174,
    "start_time": "2022-08-14T01:22:38.217Z"
   },
   {
    "duration": 275,
    "start_time": "2022-08-14T01:22:38.392Z"
   },
   {
    "duration": 148,
    "start_time": "2022-08-14T01:22:38.669Z"
   },
   {
    "duration": 1147,
    "start_time": "2022-08-14T01:22:38.819Z"
   },
   {
    "duration": 112,
    "start_time": "2022-08-14T01:22:39.967Z"
   },
   {
    "duration": 12,
    "start_time": "2022-08-14T01:22:40.080Z"
   },
   {
    "duration": 11,
    "start_time": "2022-08-14T01:22:40.093Z"
   },
   {
    "duration": 6,
    "start_time": "2022-08-14T01:22:40.105Z"
   },
   {
    "duration": 6,
    "start_time": "2022-08-14T01:22:40.114Z"
   },
   {
    "duration": 15,
    "start_time": "2022-08-14T01:22:40.121Z"
   },
   {
    "duration": 5,
    "start_time": "2022-08-14T01:22:40.138Z"
   },
   {
    "duration": 8,
    "start_time": "2022-08-14T01:22:40.145Z"
   },
   {
    "duration": 13,
    "start_time": "2022-08-14T01:22:40.154Z"
   },
   {
    "duration": 10,
    "start_time": "2022-08-14T01:22:40.168Z"
   },
   {
    "duration": 23,
    "start_time": "2022-08-14T01:22:40.180Z"
   },
   {
    "duration": 17,
    "start_time": "2022-08-14T01:22:40.204Z"
   },
   {
    "duration": 13,
    "start_time": "2022-08-14T01:22:40.222Z"
   },
   {
    "duration": 6,
    "start_time": "2022-08-14T01:22:40.238Z"
   },
   {
    "duration": 10,
    "start_time": "2022-08-14T01:22:40.246Z"
   },
   {
    "duration": 43,
    "start_time": "2022-08-14T01:22:40.258Z"
   },
   {
    "duration": 8,
    "start_time": "2022-08-14T01:22:40.303Z"
   },
   {
    "duration": 8,
    "start_time": "2022-08-14T01:22:40.313Z"
   },
   {
    "duration": 6,
    "start_time": "2022-08-14T01:22:48.247Z"
   },
   {
    "duration": 6,
    "start_time": "2022-08-14T01:23:22.220Z"
   },
   {
    "duration": 5,
    "start_time": "2022-08-14T01:23:43.767Z"
   },
   {
    "duration": 5,
    "start_time": "2022-08-14T01:24:52.608Z"
   },
   {
    "duration": 5,
    "start_time": "2022-08-14T02:18:12.175Z"
   },
   {
    "duration": 66,
    "start_time": "2022-08-14T02:18:12.182Z"
   },
   {
    "duration": 38,
    "start_time": "2022-08-14T02:18:12.250Z"
   },
   {
    "duration": 3,
    "start_time": "2022-08-14T02:18:12.289Z"
   },
   {
    "duration": 6,
    "start_time": "2022-08-14T02:18:12.294Z"
   },
   {
    "duration": 15,
    "start_time": "2022-08-14T02:18:12.301Z"
   },
   {
    "duration": 13,
    "start_time": "2022-08-14T02:18:12.317Z"
   },
   {
    "duration": 9,
    "start_time": "2022-08-14T02:18:12.331Z"
   },
   {
    "duration": 8,
    "start_time": "2022-08-14T02:18:12.341Z"
   },
   {
    "duration": 12,
    "start_time": "2022-08-14T02:18:12.350Z"
   },
   {
    "duration": 12,
    "start_time": "2022-08-14T02:18:12.363Z"
   },
   {
    "duration": 7,
    "start_time": "2022-08-14T02:18:12.376Z"
   },
   {
    "duration": 5,
    "start_time": "2022-08-14T02:18:12.399Z"
   },
   {
    "duration": 11,
    "start_time": "2022-08-14T02:18:12.406Z"
   },
   {
    "duration": 8,
    "start_time": "2022-08-14T02:18:12.418Z"
   },
   {
    "duration": 13,
    "start_time": "2022-08-14T02:18:12.428Z"
   },
   {
    "duration": 7,
    "start_time": "2022-08-14T02:18:12.442Z"
   },
   {
    "duration": 9,
    "start_time": "2022-08-14T02:18:12.450Z"
   },
   {
    "duration": 11,
    "start_time": "2022-08-14T02:18:12.461Z"
   },
   {
    "duration": 6,
    "start_time": "2022-08-14T02:18:12.473Z"
   },
   {
    "duration": 5,
    "start_time": "2022-08-14T02:18:12.481Z"
   },
   {
    "duration": 15,
    "start_time": "2022-08-14T02:18:12.487Z"
   },
   {
    "duration": 10,
    "start_time": "2022-08-14T02:18:12.503Z"
   },
   {
    "duration": 11,
    "start_time": "2022-08-14T02:18:12.515Z"
   },
   {
    "duration": 8,
    "start_time": "2022-08-14T02:18:12.527Z"
   },
   {
    "duration": 11,
    "start_time": "2022-08-14T02:18:12.536Z"
   },
   {
    "duration": 12,
    "start_time": "2022-08-14T02:18:12.548Z"
   },
   {
    "duration": 9,
    "start_time": "2022-08-14T02:18:12.562Z"
   },
   {
    "duration": 8,
    "start_time": "2022-08-14T02:18:12.572Z"
   },
   {
    "duration": 1136,
    "start_time": "2022-08-14T02:18:12.581Z"
   },
   {
    "duration": 240,
    "start_time": "2022-08-14T02:18:13.719Z"
   },
   {
    "duration": 1398,
    "start_time": "2022-08-14T02:18:13.961Z"
   },
   {
    "duration": 175,
    "start_time": "2022-08-14T02:18:15.361Z"
   },
   {
    "duration": 175,
    "start_time": "2022-08-14T02:18:15.538Z"
   },
   {
    "duration": 143,
    "start_time": "2022-08-14T02:18:15.714Z"
   },
   {
    "duration": 1141,
    "start_time": "2022-08-14T02:18:15.858Z"
   },
   {
    "duration": 72,
    "start_time": "2022-08-14T02:18:17.000Z"
   },
   {
    "duration": 10,
    "start_time": "2022-08-14T02:18:17.073Z"
   },
   {
    "duration": 11,
    "start_time": "2022-08-14T02:18:17.084Z"
   },
   {
    "duration": 6,
    "start_time": "2022-08-14T02:18:17.096Z"
   },
   {
    "duration": 9,
    "start_time": "2022-08-14T02:18:17.105Z"
   },
   {
    "duration": 11,
    "start_time": "2022-08-14T02:18:17.115Z"
   },
   {
    "duration": 4,
    "start_time": "2022-08-14T02:18:17.128Z"
   },
   {
    "duration": 5,
    "start_time": "2022-08-14T02:18:17.134Z"
   },
   {
    "duration": 9,
    "start_time": "2022-08-14T02:18:17.140Z"
   },
   {
    "duration": 10,
    "start_time": "2022-08-14T02:18:17.150Z"
   },
   {
    "duration": 5,
    "start_time": "2022-08-14T02:18:17.161Z"
   },
   {
    "duration": 11,
    "start_time": "2022-08-14T02:18:17.167Z"
   },
   {
    "duration": 11,
    "start_time": "2022-08-14T02:18:17.199Z"
   },
   {
    "duration": 4,
    "start_time": "2022-08-14T02:18:17.212Z"
   },
   {
    "duration": 8,
    "start_time": "2022-08-14T02:18:17.217Z"
   },
   {
    "duration": 10,
    "start_time": "2022-08-14T02:18:17.227Z"
   },
   {
    "duration": 6,
    "start_time": "2022-08-14T02:18:17.239Z"
   },
   {
    "duration": 10,
    "start_time": "2022-08-14T02:18:17.246Z"
   },
   {
    "duration": 7,
    "start_time": "2022-08-14T02:18:17.257Z"
   },
   {
    "duration": 36,
    "start_time": "2022-08-14T02:18:17.265Z"
   },
   {
    "duration": 12,
    "start_time": "2022-08-14T02:18:17.302Z"
   },
   {
    "duration": 8,
    "start_time": "2022-08-14T02:18:17.316Z"
   },
   {
    "duration": 5,
    "start_time": "2022-08-14T02:18:17.326Z"
   },
   {
    "duration": 10,
    "start_time": "2022-08-14T02:18:17.333Z"
   },
   {
    "duration": 7,
    "start_time": "2022-08-14T02:18:17.344Z"
   },
   {
    "duration": 10,
    "start_time": "2022-08-14T02:18:17.352Z"
   },
   {
    "duration": 44,
    "start_time": "2022-08-14T02:18:17.363Z"
   },
   {
    "duration": 11,
    "start_time": "2022-08-14T02:22:22.847Z"
   },
   {
    "duration": 54,
    "start_time": "2022-08-14T03:26:16.309Z"
   },
   {
    "duration": 143,
    "start_time": "2022-08-14T03:26:34.948Z"
   },
   {
    "duration": 147,
    "start_time": "2022-08-14T03:26:57.812Z"
   },
   {
    "duration": 63,
    "start_time": "2022-08-14T04:16:25.687Z"
   },
   {
    "duration": 5,
    "start_time": "2022-08-14T04:17:00.766Z"
   },
   {
    "duration": 4,
    "start_time": "2022-08-14T04:17:14.201Z"
   },
   {
    "duration": 12,
    "start_time": "2022-08-14T04:17:33.608Z"
   },
   {
    "duration": 5,
    "start_time": "2022-08-14T04:17:43.164Z"
   },
   {
    "duration": 6,
    "start_time": "2022-08-14T04:18:28.204Z"
   },
   {
    "duration": 13,
    "start_time": "2022-08-14T04:18:40.164Z"
   },
   {
    "duration": 1153,
    "start_time": "2022-08-15T05:56:42.388Z"
   },
   {
    "duration": 151,
    "start_time": "2022-08-15T05:56:43.543Z"
   },
   {
    "duration": 3,
    "start_time": "2022-08-15T05:56:43.695Z"
   },
   {
    "duration": 43,
    "start_time": "2022-08-15T05:56:43.699Z"
   },
   {
    "duration": 0,
    "start_time": "2022-08-15T05:56:43.744Z"
   },
   {
    "duration": 0,
    "start_time": "2022-08-15T05:56:43.745Z"
   },
   {
    "duration": 0,
    "start_time": "2022-08-15T05:56:43.746Z"
   },
   {
    "duration": 0,
    "start_time": "2022-08-15T05:56:43.747Z"
   },
   {
    "duration": 0,
    "start_time": "2022-08-15T05:56:43.748Z"
   },
   {
    "duration": 0,
    "start_time": "2022-08-15T05:56:43.749Z"
   },
   {
    "duration": 0,
    "start_time": "2022-08-15T05:56:43.750Z"
   },
   {
    "duration": 0,
    "start_time": "2022-08-15T05:56:43.750Z"
   },
   {
    "duration": 0,
    "start_time": "2022-08-15T05:56:43.752Z"
   },
   {
    "duration": 0,
    "start_time": "2022-08-15T05:56:43.752Z"
   },
   {
    "duration": 0,
    "start_time": "2022-08-15T05:56:43.753Z"
   },
   {
    "duration": 0,
    "start_time": "2022-08-15T05:56:43.754Z"
   },
   {
    "duration": 0,
    "start_time": "2022-08-15T05:56:43.755Z"
   },
   {
    "duration": 0,
    "start_time": "2022-08-15T05:56:43.756Z"
   },
   {
    "duration": 0,
    "start_time": "2022-08-15T05:56:43.757Z"
   },
   {
    "duration": 0,
    "start_time": "2022-08-15T05:56:43.758Z"
   },
   {
    "duration": 0,
    "start_time": "2022-08-15T05:56:43.759Z"
   },
   {
    "duration": 0,
    "start_time": "2022-08-15T05:56:43.760Z"
   },
   {
    "duration": 0,
    "start_time": "2022-08-15T05:56:43.760Z"
   },
   {
    "duration": 0,
    "start_time": "2022-08-15T05:56:43.761Z"
   },
   {
    "duration": 0,
    "start_time": "2022-08-15T05:56:43.762Z"
   },
   {
    "duration": 0,
    "start_time": "2022-08-15T05:56:43.763Z"
   },
   {
    "duration": 0,
    "start_time": "2022-08-15T05:56:43.764Z"
   },
   {
    "duration": 0,
    "start_time": "2022-08-15T05:56:43.765Z"
   },
   {
    "duration": 0,
    "start_time": "2022-08-15T05:56:43.766Z"
   },
   {
    "duration": 0,
    "start_time": "2022-08-15T05:56:43.767Z"
   },
   {
    "duration": 0,
    "start_time": "2022-08-15T05:56:43.768Z"
   },
   {
    "duration": 0,
    "start_time": "2022-08-15T05:56:43.769Z"
   },
   {
    "duration": 0,
    "start_time": "2022-08-15T05:56:43.770Z"
   },
   {
    "duration": 0,
    "start_time": "2022-08-15T05:56:43.771Z"
   },
   {
    "duration": 0,
    "start_time": "2022-08-15T05:56:43.772Z"
   },
   {
    "duration": 0,
    "start_time": "2022-08-15T05:56:43.773Z"
   },
   {
    "duration": 0,
    "start_time": "2022-08-15T05:56:43.774Z"
   },
   {
    "duration": 4,
    "start_time": "2022-08-15T05:57:42.748Z"
   },
   {
    "duration": 81,
    "start_time": "2022-08-15T05:57:42.754Z"
   },
   {
    "duration": 2,
    "start_time": "2022-08-15T05:57:42.837Z"
   },
   {
    "duration": 55,
    "start_time": "2022-08-15T05:57:42.840Z"
   },
   {
    "duration": 0,
    "start_time": "2022-08-15T05:57:42.896Z"
   },
   {
    "duration": 0,
    "start_time": "2022-08-15T05:57:42.898Z"
   },
   {
    "duration": 0,
    "start_time": "2022-08-15T05:57:42.899Z"
   },
   {
    "duration": 0,
    "start_time": "2022-08-15T05:57:42.901Z"
   },
   {
    "duration": 3,
    "start_time": "2022-08-15T05:59:04.090Z"
   },
   {
    "duration": 76,
    "start_time": "2022-08-15T05:59:04.095Z"
   },
   {
    "duration": 3,
    "start_time": "2022-08-15T05:59:04.172Z"
   },
   {
    "duration": 22,
    "start_time": "2022-08-15T05:59:04.176Z"
   },
   {
    "duration": 7,
    "start_time": "2022-08-15T05:59:04.200Z"
   },
   {
    "duration": 16,
    "start_time": "2022-08-15T05:59:04.208Z"
   },
   {
    "duration": 13,
    "start_time": "2022-08-15T05:59:04.225Z"
   },
   {
    "duration": 7,
    "start_time": "2022-08-15T05:59:04.239Z"
   },
   {
    "duration": 7,
    "start_time": "2022-08-15T05:59:04.247Z"
   },
   {
    "duration": 17,
    "start_time": "2022-08-15T05:59:04.255Z"
   },
   {
    "duration": 12,
    "start_time": "2022-08-15T05:59:04.274Z"
   },
   {
    "duration": 12,
    "start_time": "2022-08-15T05:59:04.288Z"
   },
   {
    "duration": 14,
    "start_time": "2022-08-15T05:59:04.302Z"
   },
   {
    "duration": 11,
    "start_time": "2022-08-15T05:59:04.319Z"
   },
   {
    "duration": 25,
    "start_time": "2022-08-15T05:59:04.332Z"
   },
   {
    "duration": 14,
    "start_time": "2022-08-15T05:59:04.358Z"
   },
   {
    "duration": 9,
    "start_time": "2022-08-15T05:59:04.373Z"
   },
   {
    "duration": 11,
    "start_time": "2022-08-15T05:59:04.384Z"
   },
   {
    "duration": 17,
    "start_time": "2022-08-15T05:59:04.396Z"
   },
   {
    "duration": 16,
    "start_time": "2022-08-15T05:59:04.414Z"
   },
   {
    "duration": 8,
    "start_time": "2022-08-15T05:59:04.431Z"
   },
   {
    "duration": 25,
    "start_time": "2022-08-15T05:59:04.440Z"
   },
   {
    "duration": 10,
    "start_time": "2022-08-15T05:59:04.466Z"
   },
   {
    "duration": 14,
    "start_time": "2022-08-15T05:59:04.477Z"
   },
   {
    "duration": 13,
    "start_time": "2022-08-15T05:59:04.492Z"
   },
   {
    "duration": 22,
    "start_time": "2022-08-15T05:59:04.506Z"
   },
   {
    "duration": 22,
    "start_time": "2022-08-15T05:59:04.529Z"
   },
   {
    "duration": 9,
    "start_time": "2022-08-15T05:59:04.552Z"
   },
   {
    "duration": 11,
    "start_time": "2022-08-15T05:59:04.562Z"
   },
   {
    "duration": 1267,
    "start_time": "2022-08-15T05:59:04.574Z"
   },
   {
    "duration": 227,
    "start_time": "2022-08-15T05:59:05.842Z"
   },
   {
    "duration": 1332,
    "start_time": "2022-08-15T05:59:06.071Z"
   },
   {
    "duration": 224,
    "start_time": "2022-08-15T05:59:07.404Z"
   },
   {
    "duration": 175,
    "start_time": "2022-08-15T05:59:07.630Z"
   },
   {
    "duration": 157,
    "start_time": "2022-08-15T05:59:07.807Z"
   },
   {
    "duration": 1268,
    "start_time": "2022-08-15T05:59:07.966Z"
   },
   {
    "duration": 92,
    "start_time": "2022-08-15T06:02:00.714Z"
   },
   {
    "duration": 10,
    "start_time": "2022-08-15T06:03:17.320Z"
   },
   {
    "duration": 107,
    "start_time": "2022-08-15T06:03:46.562Z"
   },
   {
    "duration": 100,
    "start_time": "2022-08-15T06:03:54.530Z"
   },
   {
    "duration": 143,
    "start_time": "2022-08-15T06:04:06.658Z"
   },
   {
    "duration": 135,
    "start_time": "2022-08-15T06:07:56.223Z"
   },
   {
    "duration": 18,
    "start_time": "2022-08-15T06:08:29.691Z"
   },
   {
    "duration": 15,
    "start_time": "2022-08-15T06:09:35.299Z"
   },
   {
    "duration": 151,
    "start_time": "2022-08-15T06:10:02.940Z"
   },
   {
    "duration": 15,
    "start_time": "2022-08-15T06:10:14.019Z"
   },
   {
    "duration": 16,
    "start_time": "2022-08-15T06:11:02.172Z"
   },
   {
    "duration": 16,
    "start_time": "2022-08-15T06:11:19.472Z"
   },
   {
    "duration": 15,
    "start_time": "2022-08-15T06:11:26.408Z"
   },
   {
    "duration": 14,
    "start_time": "2022-08-15T06:11:33.355Z"
   },
   {
    "duration": 15,
    "start_time": "2022-08-15T06:12:04.763Z"
   },
   {
    "duration": 15,
    "start_time": "2022-08-15T06:12:09.828Z"
   },
   {
    "duration": 15,
    "start_time": "2022-08-15T06:12:19.645Z"
   },
   {
    "duration": 15,
    "start_time": "2022-08-15T06:12:42.641Z"
   },
   {
    "duration": 1340,
    "start_time": "2022-08-15T06:13:30.856Z"
   },
   {
    "duration": 1179,
    "start_time": "2022-08-15T06:13:50.825Z"
   },
   {
    "duration": 9,
    "start_time": "2022-08-15T06:14:32.173Z"
   },
   {
    "duration": 1184,
    "start_time": "2022-08-15T06:15:02.910Z"
   },
   {
    "duration": 1257,
    "start_time": "2022-08-15T06:15:32.696Z"
   },
   {
    "duration": 11,
    "start_time": "2022-08-15T06:16:29.260Z"
   },
   {
    "duration": 101,
    "start_time": "2022-08-15T06:16:58.389Z"
   },
   {
    "duration": 1200,
    "start_time": "2022-08-15T06:17:05.015Z"
   },
   {
    "duration": 1167,
    "start_time": "2022-08-15T06:19:30.279Z"
   },
   {
    "duration": 13,
    "start_time": "2022-08-15T06:20:16.146Z"
   },
   {
    "duration": 1187,
    "start_time": "2022-08-15T06:20:51.187Z"
   },
   {
    "duration": 193,
    "start_time": "2022-08-15T06:22:12.456Z"
   },
   {
    "duration": 5,
    "start_time": "2022-08-15T06:22:59.527Z"
   },
   {
    "duration": 64,
    "start_time": "2022-08-15T06:22:59.533Z"
   },
   {
    "duration": 2,
    "start_time": "2022-08-15T06:22:59.599Z"
   },
   {
    "duration": 6,
    "start_time": "2022-08-15T06:22:59.602Z"
   },
   {
    "duration": 4,
    "start_time": "2022-08-15T06:22:59.609Z"
   },
   {
    "duration": 10,
    "start_time": "2022-08-15T06:22:59.615Z"
   },
   {
    "duration": 9,
    "start_time": "2022-08-15T06:22:59.626Z"
   },
   {
    "duration": 7,
    "start_time": "2022-08-15T06:22:59.636Z"
   },
   {
    "duration": 5,
    "start_time": "2022-08-15T06:22:59.645Z"
   },
   {
    "duration": 11,
    "start_time": "2022-08-15T06:22:59.651Z"
   },
   {
    "duration": 11,
    "start_time": "2022-08-15T06:22:59.663Z"
   },
   {
    "duration": 6,
    "start_time": "2022-08-15T06:22:59.675Z"
   },
   {
    "duration": 7,
    "start_time": "2022-08-15T06:22:59.683Z"
   },
   {
    "duration": 6,
    "start_time": "2022-08-15T06:22:59.692Z"
   },
   {
    "duration": 13,
    "start_time": "2022-08-15T06:22:59.699Z"
   },
   {
    "duration": 26,
    "start_time": "2022-08-15T06:22:59.713Z"
   },
   {
    "duration": 7,
    "start_time": "2022-08-15T06:22:59.740Z"
   },
   {
    "duration": 8,
    "start_time": "2022-08-15T06:22:59.748Z"
   },
   {
    "duration": 11,
    "start_time": "2022-08-15T06:22:59.758Z"
   },
   {
    "duration": 10,
    "start_time": "2022-08-15T06:22:59.770Z"
   },
   {
    "duration": 5,
    "start_time": "2022-08-15T06:22:59.782Z"
   },
   {
    "duration": 5,
    "start_time": "2022-08-15T06:22:59.789Z"
   },
   {
    "duration": 5,
    "start_time": "2022-08-15T06:22:59.795Z"
   },
   {
    "duration": 8,
    "start_time": "2022-08-15T06:22:59.803Z"
   },
   {
    "duration": 26,
    "start_time": "2022-08-15T06:22:59.813Z"
   },
   {
    "duration": 9,
    "start_time": "2022-08-15T06:22:59.840Z"
   },
   {
    "duration": 10,
    "start_time": "2022-08-15T06:22:59.850Z"
   },
   {
    "duration": 9,
    "start_time": "2022-08-15T06:22:59.862Z"
   },
   {
    "duration": 10,
    "start_time": "2022-08-15T06:22:59.873Z"
   },
   {
    "duration": 1190,
    "start_time": "2022-08-15T06:22:59.884Z"
   },
   {
    "duration": 247,
    "start_time": "2022-08-15T06:23:01.076Z"
   },
   {
    "duration": 1338,
    "start_time": "2022-08-15T06:23:01.325Z"
   },
   {
    "duration": 169,
    "start_time": "2022-08-15T06:23:02.664Z"
   },
   {
    "duration": 175,
    "start_time": "2022-08-15T06:23:02.837Z"
   },
   {
    "duration": 227,
    "start_time": "2022-08-15T06:23:03.013Z"
   },
   {
    "duration": 14,
    "start_time": "2022-08-15T06:23:03.241Z"
   },
   {
    "duration": 0,
    "start_time": "2022-08-15T06:23:03.257Z"
   },
   {
    "duration": 0,
    "start_time": "2022-08-15T06:23:03.260Z"
   },
   {
    "duration": 15,
    "start_time": "2022-08-15T06:24:00.989Z"
   },
   {
    "duration": 5,
    "start_time": "2022-08-15T06:24:13.721Z"
   },
   {
    "duration": 77,
    "start_time": "2022-08-15T06:24:13.727Z"
   },
   {
    "duration": 1,
    "start_time": "2022-08-15T06:24:13.806Z"
   },
   {
    "duration": 7,
    "start_time": "2022-08-15T06:24:13.809Z"
   },
   {
    "duration": 5,
    "start_time": "2022-08-15T06:24:13.817Z"
   },
   {
    "duration": 10,
    "start_time": "2022-08-15T06:24:13.823Z"
   },
   {
    "duration": 11,
    "start_time": "2022-08-15T06:24:13.834Z"
   },
   {
    "duration": 8,
    "start_time": "2022-08-15T06:24:13.846Z"
   },
   {
    "duration": 9,
    "start_time": "2022-08-15T06:24:13.855Z"
   },
   {
    "duration": 11,
    "start_time": "2022-08-15T06:24:13.865Z"
   },
   {
    "duration": 11,
    "start_time": "2022-08-15T06:24:13.878Z"
   },
   {
    "duration": 7,
    "start_time": "2022-08-15T06:24:13.890Z"
   },
   {
    "duration": 7,
    "start_time": "2022-08-15T06:24:13.898Z"
   },
   {
    "duration": 5,
    "start_time": "2022-08-15T06:24:13.908Z"
   },
   {
    "duration": 27,
    "start_time": "2022-08-15T06:24:13.914Z"
   },
   {
    "duration": 7,
    "start_time": "2022-08-15T06:24:13.942Z"
   },
   {
    "duration": 8,
    "start_time": "2022-08-15T06:24:13.950Z"
   },
   {
    "duration": 12,
    "start_time": "2022-08-15T06:24:13.959Z"
   },
   {
    "duration": 10,
    "start_time": "2022-08-15T06:24:13.972Z"
   },
   {
    "duration": 6,
    "start_time": "2022-08-15T06:24:13.984Z"
   },
   {
    "duration": 6,
    "start_time": "2022-08-15T06:24:13.992Z"
   },
   {
    "duration": 8,
    "start_time": "2022-08-15T06:24:13.999Z"
   },
   {
    "duration": 8,
    "start_time": "2022-08-15T06:24:14.008Z"
   },
   {
    "duration": 22,
    "start_time": "2022-08-15T06:24:14.017Z"
   },
   {
    "duration": 7,
    "start_time": "2022-08-15T06:24:14.040Z"
   },
   {
    "duration": 9,
    "start_time": "2022-08-15T06:24:14.049Z"
   },
   {
    "duration": 13,
    "start_time": "2022-08-15T06:24:14.059Z"
   },
   {
    "duration": 8,
    "start_time": "2022-08-15T06:24:14.074Z"
   },
   {
    "duration": 8,
    "start_time": "2022-08-15T06:24:14.084Z"
   },
   {
    "duration": 1212,
    "start_time": "2022-08-15T06:24:14.093Z"
   },
   {
    "duration": 236,
    "start_time": "2022-08-15T06:24:15.306Z"
   },
   {
    "duration": 1364,
    "start_time": "2022-08-15T06:24:15.544Z"
   },
   {
    "duration": 165,
    "start_time": "2022-08-15T06:24:16.910Z"
   },
   {
    "duration": 183,
    "start_time": "2022-08-15T06:24:17.076Z"
   },
   {
    "duration": 221,
    "start_time": "2022-08-15T06:24:17.260Z"
   },
   {
    "duration": 1157,
    "start_time": "2022-08-15T06:24:17.483Z"
   },
   {
    "duration": 8,
    "start_time": "2022-08-15T06:24:18.641Z"
   },
   {
    "duration": 7,
    "start_time": "2022-08-15T06:24:59.117Z"
   },
   {
    "duration": 7,
    "start_time": "2022-08-15T06:25:10.798Z"
   },
   {
    "duration": 1133,
    "start_time": "2022-08-15T06:25:30.200Z"
   },
   {
    "duration": 1156,
    "start_time": "2022-08-15T06:25:54.477Z"
   },
   {
    "duration": 10,
    "start_time": "2022-08-15T06:26:16.118Z"
   },
   {
    "duration": 1242,
    "start_time": "2022-08-15T06:26:53.986Z"
   },
   {
    "duration": 1151,
    "start_time": "2022-08-15T06:27:30.938Z"
   },
   {
    "duration": 9,
    "start_time": "2022-08-15T06:28:50.442Z"
   },
   {
    "duration": 2269,
    "start_time": "2022-08-15T06:29:42.844Z"
   },
   {
    "duration": 106,
    "start_time": "2022-08-15T06:30:17.734Z"
   },
   {
    "duration": 740,
    "start_time": "2022-08-15T06:31:30.839Z"
   },
   {
    "duration": 9,
    "start_time": "2022-08-15T06:38:46.463Z"
   },
   {
    "duration": 670,
    "start_time": "2022-08-15T06:39:06.859Z"
   },
   {
    "duration": 1176,
    "start_time": "2022-08-15T06:40:19.542Z"
   },
   {
    "duration": 1182,
    "start_time": "2022-08-15T06:41:00.140Z"
   },
   {
    "duration": 725,
    "start_time": "2022-08-15T06:41:25.218Z"
   },
   {
    "duration": 172,
    "start_time": "2022-08-15T06:41:44.982Z"
   },
   {
    "duration": 87,
    "start_time": "2022-08-15T06:41:53.200Z"
   },
   {
    "duration": 10,
    "start_time": "2022-08-15T06:43:50.556Z"
   },
   {
    "duration": 19,
    "start_time": "2022-08-15T06:45:14.433Z"
   },
   {
    "duration": 55,
    "start_time": "2022-08-15T06:45:57.576Z"
   },
   {
    "duration": 18,
    "start_time": "2022-08-15T06:46:08.414Z"
   },
   {
    "duration": 5,
    "start_time": "2022-08-15T06:49:46.979Z"
   },
   {
    "duration": 644,
    "start_time": "2022-08-15T06:50:12.854Z"
   },
   {
    "duration": 86,
    "start_time": "2022-08-15T06:51:12.908Z"
   },
   {
    "duration": 8,
    "start_time": "2022-08-15T06:52:18.315Z"
   },
   {
    "duration": 4,
    "start_time": "2022-08-15T06:53:30.798Z"
   },
   {
    "duration": 5,
    "start_time": "2022-08-15T06:54:56.949Z"
   },
   {
    "duration": 8,
    "start_time": "2022-08-15T06:56:18.431Z"
   },
   {
    "duration": 11,
    "start_time": "2022-08-15T06:59:09.065Z"
   },
   {
    "duration": 4,
    "start_time": "2022-08-15T06:59:52.399Z"
   },
   {
    "duration": 208,
    "start_time": "2022-08-15T06:59:52.405Z"
   },
   {
    "duration": 3,
    "start_time": "2022-08-15T06:59:52.614Z"
   },
   {
    "duration": 16,
    "start_time": "2022-08-15T06:59:52.618Z"
   },
   {
    "duration": 10,
    "start_time": "2022-08-15T06:59:52.636Z"
   },
   {
    "duration": 14,
    "start_time": "2022-08-15T06:59:52.648Z"
   },
   {
    "duration": 14,
    "start_time": "2022-08-15T06:59:52.663Z"
   },
   {
    "duration": 9,
    "start_time": "2022-08-15T06:59:52.678Z"
   },
   {
    "duration": 8,
    "start_time": "2022-08-15T06:59:52.689Z"
   },
   {
    "duration": 16,
    "start_time": "2022-08-15T06:59:52.699Z"
   },
   {
    "duration": 35,
    "start_time": "2022-08-15T06:59:52.718Z"
   },
   {
    "duration": 13,
    "start_time": "2022-08-15T06:59:52.755Z"
   },
   {
    "duration": 17,
    "start_time": "2022-08-15T06:59:52.770Z"
   },
   {
    "duration": 13,
    "start_time": "2022-08-15T06:59:52.788Z"
   },
   {
    "duration": 33,
    "start_time": "2022-08-15T06:59:52.803Z"
   },
   {
    "duration": 19,
    "start_time": "2022-08-15T06:59:52.838Z"
   },
   {
    "duration": 32,
    "start_time": "2022-08-15T06:59:52.858Z"
   },
   {
    "duration": 37,
    "start_time": "2022-08-15T06:59:52.891Z"
   },
   {
    "duration": 11,
    "start_time": "2022-08-15T06:59:52.929Z"
   },
   {
    "duration": 12,
    "start_time": "2022-08-15T06:59:52.942Z"
   },
   {
    "duration": 10,
    "start_time": "2022-08-15T06:59:52.955Z"
   },
   {
    "duration": 7,
    "start_time": "2022-08-15T06:59:52.967Z"
   },
   {
    "duration": 5,
    "start_time": "2022-08-15T06:59:52.976Z"
   },
   {
    "duration": 6,
    "start_time": "2022-08-15T06:59:52.983Z"
   },
   {
    "duration": 7,
    "start_time": "2022-08-15T06:59:52.991Z"
   },
   {
    "duration": 9,
    "start_time": "2022-08-15T06:59:53.000Z"
   },
   {
    "duration": 11,
    "start_time": "2022-08-15T06:59:53.011Z"
   },
   {
    "duration": 9,
    "start_time": "2022-08-15T06:59:53.037Z"
   },
   {
    "duration": 11,
    "start_time": "2022-08-15T06:59:53.049Z"
   },
   {
    "duration": 1265,
    "start_time": "2022-08-15T06:59:53.062Z"
   },
   {
    "duration": 260,
    "start_time": "2022-08-15T06:59:54.329Z"
   },
   {
    "duration": 1544,
    "start_time": "2022-08-15T06:59:54.591Z"
   },
   {
    "duration": 183,
    "start_time": "2022-08-15T06:59:56.139Z"
   },
   {
    "duration": 187,
    "start_time": "2022-08-15T06:59:56.323Z"
   },
   {
    "duration": 154,
    "start_time": "2022-08-15T06:59:56.511Z"
   },
   {
    "duration": 1236,
    "start_time": "2022-08-15T06:59:56.667Z"
   },
   {
    "duration": 704,
    "start_time": "2022-08-15T06:59:57.905Z"
   },
   {
    "duration": 5,
    "start_time": "2022-08-15T06:59:58.611Z"
   },
   {
    "duration": 874,
    "start_time": "2022-08-15T06:59:58.617Z"
   },
   {
    "duration": 110,
    "start_time": "2022-08-15T06:59:59.492Z"
   },
   {
    "duration": 209,
    "start_time": "2022-08-15T06:59:59.604Z"
   },
   {
    "duration": 4,
    "start_time": "2022-08-15T06:59:59.814Z"
   },
   {
    "duration": 19,
    "start_time": "2022-08-15T06:59:59.820Z"
   },
   {
    "duration": 8,
    "start_time": "2022-08-15T06:59:59.841Z"
   },
   {
    "duration": 9,
    "start_time": "2022-08-15T07:00:48.807Z"
   },
   {
    "duration": 8,
    "start_time": "2022-08-15T07:02:07.561Z"
   },
   {
    "duration": 8,
    "start_time": "2022-08-15T07:02:40.808Z"
   },
   {
    "duration": 9,
    "start_time": "2022-08-15T07:07:48.795Z"
   },
   {
    "duration": 7,
    "start_time": "2022-08-15T07:08:55.640Z"
   },
   {
    "duration": 3,
    "start_time": "2022-08-15T07:12:54.646Z"
   },
   {
    "duration": 5,
    "start_time": "2022-08-15T07:13:41.952Z"
   },
   {
    "duration": 5,
    "start_time": "2022-08-15T07:14:40.713Z"
   },
   {
    "duration": 127,
    "start_time": "2022-08-15T07:16:06.484Z"
   },
   {
    "duration": 102,
    "start_time": "2022-08-15T07:16:39.781Z"
   },
   {
    "duration": 8,
    "start_time": "2022-08-15T07:17:25.292Z"
   },
   {
    "duration": 7,
    "start_time": "2022-08-15T07:17:33.920Z"
   },
   {
    "duration": 5,
    "start_time": "2022-08-15T07:19:25.859Z"
   },
   {
    "duration": 4,
    "start_time": "2022-08-15T07:19:32.561Z"
   },
   {
    "duration": 4,
    "start_time": "2022-08-15T07:22:27.046Z"
   },
   {
    "duration": 5,
    "start_time": "2022-08-15T07:22:34.175Z"
   },
   {
    "duration": 5,
    "start_time": "2022-08-15T07:22:43.569Z"
   },
   {
    "duration": 73,
    "start_time": "2022-08-15T07:22:43.576Z"
   },
   {
    "duration": 3,
    "start_time": "2022-08-15T07:22:43.651Z"
   },
   {
    "duration": 15,
    "start_time": "2022-08-15T07:22:43.656Z"
   },
   {
    "duration": 15,
    "start_time": "2022-08-15T07:22:43.674Z"
   },
   {
    "duration": 18,
    "start_time": "2022-08-15T07:22:43.691Z"
   },
   {
    "duration": 16,
    "start_time": "2022-08-15T07:22:43.711Z"
   },
   {
    "duration": 14,
    "start_time": "2022-08-15T07:22:43.728Z"
   },
   {
    "duration": 10,
    "start_time": "2022-08-15T07:22:43.743Z"
   },
   {
    "duration": 13,
    "start_time": "2022-08-15T07:22:43.754Z"
   },
   {
    "duration": 14,
    "start_time": "2022-08-15T07:22:43.769Z"
   },
   {
    "duration": 5,
    "start_time": "2022-08-15T07:22:43.784Z"
   },
   {
    "duration": 9,
    "start_time": "2022-08-15T07:22:43.790Z"
   },
   {
    "duration": 7,
    "start_time": "2022-08-15T07:22:43.802Z"
   },
   {
    "duration": 29,
    "start_time": "2022-08-15T07:22:43.810Z"
   },
   {
    "duration": 10,
    "start_time": "2022-08-15T07:22:43.841Z"
   },
   {
    "duration": 12,
    "start_time": "2022-08-15T07:22:43.853Z"
   },
   {
    "duration": 10,
    "start_time": "2022-08-15T07:22:43.867Z"
   },
   {
    "duration": 14,
    "start_time": "2022-08-15T07:22:43.879Z"
   },
   {
    "duration": 8,
    "start_time": "2022-08-15T07:22:43.894Z"
   },
   {
    "duration": 8,
    "start_time": "2022-08-15T07:22:43.903Z"
   },
   {
    "duration": 8,
    "start_time": "2022-08-15T07:22:43.913Z"
   },
   {
    "duration": 19,
    "start_time": "2022-08-15T07:22:43.923Z"
   },
   {
    "duration": 10,
    "start_time": "2022-08-15T07:22:43.944Z"
   },
   {
    "duration": 8,
    "start_time": "2022-08-15T07:22:43.956Z"
   },
   {
    "duration": 15,
    "start_time": "2022-08-15T07:22:43.965Z"
   },
   {
    "duration": 15,
    "start_time": "2022-08-15T07:22:43.981Z"
   },
   {
    "duration": 17,
    "start_time": "2022-08-15T07:22:43.998Z"
   },
   {
    "duration": 26,
    "start_time": "2022-08-15T07:22:44.017Z"
   },
   {
    "duration": 1287,
    "start_time": "2022-08-15T07:22:44.044Z"
   },
   {
    "duration": 242,
    "start_time": "2022-08-15T07:22:45.337Z"
   },
   {
    "duration": 1449,
    "start_time": "2022-08-15T07:22:45.581Z"
   },
   {
    "duration": 169,
    "start_time": "2022-08-15T07:22:47.038Z"
   },
   {
    "duration": 196,
    "start_time": "2022-08-15T07:22:47.208Z"
   },
   {
    "duration": 161,
    "start_time": "2022-08-15T07:22:47.405Z"
   },
   {
    "duration": 1442,
    "start_time": "2022-08-15T07:22:47.567Z"
   },
   {
    "duration": 787,
    "start_time": "2022-08-15T07:22:49.011Z"
   },
   {
    "duration": 5,
    "start_time": "2022-08-15T07:22:49.800Z"
   },
   {
    "duration": 9,
    "start_time": "2022-08-15T07:22:49.807Z"
   },
   {
    "duration": 4,
    "start_time": "2022-08-15T07:23:01.961Z"
   },
   {
    "duration": 76,
    "start_time": "2022-08-15T07:23:01.967Z"
   },
   {
    "duration": 2,
    "start_time": "2022-08-15T07:23:02.045Z"
   },
   {
    "duration": 18,
    "start_time": "2022-08-15T07:23:02.049Z"
   },
   {
    "duration": 14,
    "start_time": "2022-08-15T07:23:02.069Z"
   },
   {
    "duration": 24,
    "start_time": "2022-08-15T07:23:02.085Z"
   },
   {
    "duration": 21,
    "start_time": "2022-08-15T07:23:02.111Z"
   },
   {
    "duration": 24,
    "start_time": "2022-08-15T07:23:02.133Z"
   },
   {
    "duration": 14,
    "start_time": "2022-08-15T07:23:02.158Z"
   },
   {
    "duration": 18,
    "start_time": "2022-08-15T07:23:02.174Z"
   },
   {
    "duration": 34,
    "start_time": "2022-08-15T07:23:02.193Z"
   },
   {
    "duration": 13,
    "start_time": "2022-08-15T07:23:02.228Z"
   },
   {
    "duration": 24,
    "start_time": "2022-08-15T07:23:02.243Z"
   },
   {
    "duration": 14,
    "start_time": "2022-08-15T07:23:02.270Z"
   },
   {
    "duration": 20,
    "start_time": "2022-08-15T07:23:02.285Z"
   },
   {
    "duration": 21,
    "start_time": "2022-08-15T07:23:02.307Z"
   },
   {
    "duration": 20,
    "start_time": "2022-08-15T07:23:02.329Z"
   },
   {
    "duration": 11,
    "start_time": "2022-08-15T07:23:02.350Z"
   },
   {
    "duration": 24,
    "start_time": "2022-08-15T07:23:02.362Z"
   },
   {
    "duration": 10,
    "start_time": "2022-08-15T07:23:02.388Z"
   },
   {
    "duration": 12,
    "start_time": "2022-08-15T07:23:02.400Z"
   },
   {
    "duration": 20,
    "start_time": "2022-08-15T07:23:02.413Z"
   },
   {
    "duration": 12,
    "start_time": "2022-08-15T07:23:02.434Z"
   },
   {
    "duration": 12,
    "start_time": "2022-08-15T07:23:02.448Z"
   },
   {
    "duration": 11,
    "start_time": "2022-08-15T07:23:02.461Z"
   },
   {
    "duration": 15,
    "start_time": "2022-08-15T07:23:02.473Z"
   },
   {
    "duration": 30,
    "start_time": "2022-08-15T07:23:02.489Z"
   },
   {
    "duration": 17,
    "start_time": "2022-08-15T07:23:02.521Z"
   },
   {
    "duration": 19,
    "start_time": "2022-08-15T07:23:02.539Z"
   },
   {
    "duration": 1232,
    "start_time": "2022-08-15T07:23:02.560Z"
   },
   {
    "duration": 240,
    "start_time": "2022-08-15T07:23:03.793Z"
   },
   {
    "duration": 1425,
    "start_time": "2022-08-15T07:23:04.034Z"
   },
   {
    "duration": 171,
    "start_time": "2022-08-15T07:23:05.461Z"
   },
   {
    "duration": 193,
    "start_time": "2022-08-15T07:23:05.634Z"
   },
   {
    "duration": 176,
    "start_time": "2022-08-15T07:23:05.838Z"
   },
   {
    "duration": 1367,
    "start_time": "2022-08-15T07:23:06.015Z"
   },
   {
    "duration": 687,
    "start_time": "2022-08-15T07:23:07.383Z"
   },
   {
    "duration": 4,
    "start_time": "2022-08-15T07:23:08.073Z"
   },
   {
    "duration": 7,
    "start_time": "2022-08-15T07:23:08.079Z"
   },
   {
    "duration": 686,
    "start_time": "2022-08-15T07:23:08.087Z"
   },
   {
    "duration": 108,
    "start_time": "2022-08-15T07:23:08.776Z"
   },
   {
    "duration": 5,
    "start_time": "2022-08-15T07:23:08.886Z"
   },
   {
    "duration": 4,
    "start_time": "2022-08-15T07:23:15.280Z"
   },
   {
    "duration": 5,
    "start_time": "2022-08-15T07:23:24.780Z"
   },
   {
    "duration": 83,
    "start_time": "2022-08-15T07:23:24.787Z"
   },
   {
    "duration": 2,
    "start_time": "2022-08-15T07:23:24.871Z"
   },
   {
    "duration": 13,
    "start_time": "2022-08-15T07:23:24.875Z"
   },
   {
    "duration": 19,
    "start_time": "2022-08-15T07:23:24.890Z"
   },
   {
    "duration": 21,
    "start_time": "2022-08-15T07:23:24.910Z"
   },
   {
    "duration": 31,
    "start_time": "2022-08-15T07:23:24.933Z"
   },
   {
    "duration": 31,
    "start_time": "2022-08-15T07:23:24.965Z"
   },
   {
    "duration": 30,
    "start_time": "2022-08-15T07:23:24.998Z"
   },
   {
    "duration": 25,
    "start_time": "2022-08-15T07:23:25.030Z"
   },
   {
    "duration": 26,
    "start_time": "2022-08-15T07:23:25.057Z"
   },
   {
    "duration": 17,
    "start_time": "2022-08-15T07:23:25.085Z"
   },
   {
    "duration": 27,
    "start_time": "2022-08-15T07:23:25.103Z"
   },
   {
    "duration": 15,
    "start_time": "2022-08-15T07:23:25.132Z"
   },
   {
    "duration": 17,
    "start_time": "2022-08-15T07:23:25.149Z"
   },
   {
    "duration": 19,
    "start_time": "2022-08-15T07:23:25.168Z"
   },
   {
    "duration": 29,
    "start_time": "2022-08-15T07:23:25.188Z"
   },
   {
    "duration": 29,
    "start_time": "2022-08-15T07:23:25.218Z"
   },
   {
    "duration": 34,
    "start_time": "2022-08-15T07:23:25.249Z"
   },
   {
    "duration": 17,
    "start_time": "2022-08-15T07:23:25.284Z"
   },
   {
    "duration": 25,
    "start_time": "2022-08-15T07:23:25.302Z"
   },
   {
    "duration": 23,
    "start_time": "2022-08-15T07:23:25.328Z"
   },
   {
    "duration": 22,
    "start_time": "2022-08-15T07:23:25.353Z"
   },
   {
    "duration": 20,
    "start_time": "2022-08-15T07:23:25.377Z"
   },
   {
    "duration": 21,
    "start_time": "2022-08-15T07:23:25.399Z"
   },
   {
    "duration": 16,
    "start_time": "2022-08-15T07:23:25.422Z"
   },
   {
    "duration": 25,
    "start_time": "2022-08-15T07:23:25.439Z"
   },
   {
    "duration": 12,
    "start_time": "2022-08-15T07:23:25.465Z"
   },
   {
    "duration": 11,
    "start_time": "2022-08-15T07:23:25.478Z"
   },
   {
    "duration": 1237,
    "start_time": "2022-08-15T07:23:25.491Z"
   },
   {
    "duration": 264,
    "start_time": "2022-08-15T07:23:26.730Z"
   },
   {
    "duration": 1565,
    "start_time": "2022-08-15T07:23:26.995Z"
   },
   {
    "duration": 173,
    "start_time": "2022-08-15T07:23:28.561Z"
   },
   {
    "duration": 213,
    "start_time": "2022-08-15T07:23:28.736Z"
   },
   {
    "duration": 186,
    "start_time": "2022-08-15T07:23:28.951Z"
   },
   {
    "duration": 1210,
    "start_time": "2022-08-15T07:23:29.138Z"
   },
   {
    "duration": 679,
    "start_time": "2022-08-15T07:23:30.350Z"
   },
   {
    "duration": 9,
    "start_time": "2022-08-15T07:23:31.030Z"
   },
   {
    "duration": 20,
    "start_time": "2022-08-15T07:23:31.041Z"
   },
   {
    "duration": 669,
    "start_time": "2022-08-15T07:23:31.063Z"
   },
   {
    "duration": 87,
    "start_time": "2022-08-15T07:23:31.738Z"
   },
   {
    "duration": 4,
    "start_time": "2022-08-15T07:23:31.837Z"
   },
   {
    "duration": 8,
    "start_time": "2022-08-15T07:23:31.842Z"
   },
   {
    "duration": 7,
    "start_time": "2022-08-15T07:23:31.851Z"
   },
   {
    "duration": 7,
    "start_time": "2022-08-15T07:23:31.860Z"
   },
   {
    "duration": 113,
    "start_time": "2022-08-15T07:23:31.868Z"
   },
   {
    "duration": 716,
    "start_time": "2022-08-15T07:25:09.613Z"
   },
   {
    "duration": 6,
    "start_time": "2022-08-15T07:26:03.130Z"
   },
   {
    "duration": 853,
    "start_time": "2022-08-15T07:26:14.288Z"
   },
   {
    "duration": 85,
    "start_time": "2022-08-15T07:26:19.294Z"
   },
   {
    "duration": 4,
    "start_time": "2022-08-15T07:26:30.175Z"
   },
   {
    "duration": 5,
    "start_time": "2022-08-15T07:26:38.824Z"
   },
   {
    "duration": 6,
    "start_time": "2022-08-15T07:26:48.173Z"
   },
   {
    "duration": 6,
    "start_time": "2022-08-15T07:26:52.477Z"
   },
   {
    "duration": 107,
    "start_time": "2022-08-15T07:26:55.836Z"
   },
   {
    "duration": 6,
    "start_time": "2022-08-15T07:27:12.015Z"
   },
   {
    "duration": 7,
    "start_time": "2022-08-15T07:27:18.854Z"
   },
   {
    "duration": 91,
    "start_time": "2022-08-15T07:27:22.678Z"
   },
   {
    "duration": 5,
    "start_time": "2022-08-15T07:27:55.292Z"
   },
   {
    "duration": 84,
    "start_time": "2022-08-15T07:28:03.239Z"
   },
   {
    "duration": 663,
    "start_time": "2022-08-15T07:28:09.495Z"
   },
   {
    "duration": 4,
    "start_time": "2022-08-15T07:28:16.523Z"
   },
   {
    "duration": 4,
    "start_time": "2022-08-15T07:28:43.216Z"
   },
   {
    "duration": 5,
    "start_time": "2022-08-15T07:28:50.275Z"
   },
   {
    "duration": 4,
    "start_time": "2022-08-15T07:29:04.172Z"
   },
   {
    "duration": 6,
    "start_time": "2022-08-15T07:29:07.209Z"
   },
   {
    "duration": 87,
    "start_time": "2022-08-15T07:29:10.670Z"
   },
   {
    "duration": 124,
    "start_time": "2022-08-15T07:30:22.582Z"
   },
   {
    "duration": 125,
    "start_time": "2022-08-15T07:32:01.295Z"
   },
   {
    "duration": 126,
    "start_time": "2022-08-15T07:32:10.344Z"
   },
   {
    "duration": 119,
    "start_time": "2022-08-15T07:32:18.553Z"
   },
   {
    "duration": 48,
    "start_time": "2022-08-15T07:32:33.555Z"
   },
   {
    "duration": 119,
    "start_time": "2022-08-15T07:34:19.738Z"
   },
   {
    "duration": 665,
    "start_time": "2022-08-15T07:36:07.347Z"
   },
   {
    "duration": 4,
    "start_time": "2022-08-15T07:36:31.833Z"
   },
   {
    "duration": 85,
    "start_time": "2022-08-15T07:36:31.839Z"
   },
   {
    "duration": 2,
    "start_time": "2022-08-15T07:36:31.926Z"
   },
   {
    "duration": 6,
    "start_time": "2022-08-15T07:36:31.930Z"
   },
   {
    "duration": 8,
    "start_time": "2022-08-15T07:36:31.938Z"
   },
   {
    "duration": 12,
    "start_time": "2022-08-15T07:36:31.948Z"
   },
   {
    "duration": 11,
    "start_time": "2022-08-15T07:36:31.962Z"
   },
   {
    "duration": 11,
    "start_time": "2022-08-15T07:36:31.974Z"
   },
   {
    "duration": 9,
    "start_time": "2022-08-15T07:36:31.987Z"
   },
   {
    "duration": 15,
    "start_time": "2022-08-15T07:36:31.998Z"
   },
   {
    "duration": 31,
    "start_time": "2022-08-15T07:36:32.014Z"
   },
   {
    "duration": 8,
    "start_time": "2022-08-15T07:36:32.047Z"
   },
   {
    "duration": 8,
    "start_time": "2022-08-15T07:36:32.057Z"
   },
   {
    "duration": 8,
    "start_time": "2022-08-15T07:36:32.068Z"
   },
   {
    "duration": 9,
    "start_time": "2022-08-15T07:36:32.078Z"
   },
   {
    "duration": 8,
    "start_time": "2022-08-15T07:36:32.090Z"
   },
   {
    "duration": 7,
    "start_time": "2022-08-15T07:36:32.100Z"
   },
   {
    "duration": 9,
    "start_time": "2022-08-15T07:36:32.108Z"
   },
   {
    "duration": 7,
    "start_time": "2022-08-15T07:36:32.139Z"
   },
   {
    "duration": 8,
    "start_time": "2022-08-15T07:36:32.148Z"
   },
   {
    "duration": 6,
    "start_time": "2022-08-15T07:36:32.157Z"
   },
   {
    "duration": 7,
    "start_time": "2022-08-15T07:36:32.165Z"
   },
   {
    "duration": 8,
    "start_time": "2022-08-15T07:36:32.174Z"
   },
   {
    "duration": 9,
    "start_time": "2022-08-15T07:36:32.183Z"
   },
   {
    "duration": 8,
    "start_time": "2022-08-15T07:36:32.193Z"
   },
   {
    "duration": 10,
    "start_time": "2022-08-15T07:36:32.203Z"
   },
   {
    "duration": 31,
    "start_time": "2022-08-15T07:36:32.214Z"
   },
   {
    "duration": 10,
    "start_time": "2022-08-15T07:36:32.247Z"
   },
   {
    "duration": 8,
    "start_time": "2022-08-15T07:36:32.258Z"
   },
   {
    "duration": 1224,
    "start_time": "2022-08-15T07:36:32.268Z"
   },
   {
    "duration": 254,
    "start_time": "2022-08-15T07:36:33.494Z"
   },
   {
    "duration": 1568,
    "start_time": "2022-08-15T07:36:33.749Z"
   },
   {
    "duration": 173,
    "start_time": "2022-08-15T07:36:35.319Z"
   },
   {
    "duration": 183,
    "start_time": "2022-08-15T07:36:35.493Z"
   },
   {
    "duration": 160,
    "start_time": "2022-08-15T07:36:35.678Z"
   },
   {
    "duration": 1200,
    "start_time": "2022-08-15T07:36:35.840Z"
   },
   {
    "duration": 673,
    "start_time": "2022-08-15T07:36:37.041Z"
   },
   {
    "duration": 7,
    "start_time": "2022-08-15T07:36:37.716Z"
   },
   {
    "duration": 673,
    "start_time": "2022-08-15T07:36:37.724Z"
   },
   {
    "duration": 94,
    "start_time": "2022-08-15T07:36:38.399Z"
   },
   {
    "duration": 4,
    "start_time": "2022-08-15T07:36:38.496Z"
   },
   {
    "duration": 6,
    "start_time": "2022-08-15T07:36:38.501Z"
   },
   {
    "duration": 8,
    "start_time": "2022-08-15T07:36:38.509Z"
   },
   {
    "duration": 21,
    "start_time": "2022-08-15T07:36:38.518Z"
   },
   {
    "duration": 128,
    "start_time": "2022-08-15T07:36:38.541Z"
   },
   {
    "duration": 24,
    "start_time": "2022-08-15T07:44:34.882Z"
   },
   {
    "duration": 4,
    "start_time": "2022-08-15T07:44:52.607Z"
   },
   {
    "duration": 86,
    "start_time": "2022-08-15T07:44:52.613Z"
   },
   {
    "duration": 26,
    "start_time": "2022-08-15T07:44:52.700Z"
   },
   {
    "duration": 4,
    "start_time": "2022-08-15T07:45:19.524Z"
   },
   {
    "duration": 156,
    "start_time": "2022-08-15T07:45:22.841Z"
   },
   {
    "duration": 4,
    "start_time": "2022-08-15T07:45:34.000Z"
   },
   {
    "duration": 5,
    "start_time": "2022-08-15T07:46:15.126Z"
   },
   {
    "duration": 9,
    "start_time": "2022-08-15T07:46:15.133Z"
   },
   {
    "duration": 28,
    "start_time": "2022-08-15T07:46:15.144Z"
   },
   {
    "duration": 3,
    "start_time": "2022-08-15T07:46:15.175Z"
   },
   {
    "duration": 9,
    "start_time": "2022-08-15T07:46:15.179Z"
   },
   {
    "duration": 14,
    "start_time": "2022-08-15T07:46:15.189Z"
   },
   {
    "duration": 11,
    "start_time": "2022-08-15T07:46:15.204Z"
   },
   {
    "duration": 6,
    "start_time": "2022-08-15T07:46:15.216Z"
   },
   {
    "duration": 7,
    "start_time": "2022-08-15T07:46:15.224Z"
   },
   {
    "duration": 10,
    "start_time": "2022-08-15T07:46:15.233Z"
   },
   {
    "duration": 17,
    "start_time": "2022-08-15T07:46:15.244Z"
   },
   {
    "duration": 6,
    "start_time": "2022-08-15T07:46:15.262Z"
   },
   {
    "duration": 5,
    "start_time": "2022-08-15T07:46:15.270Z"
   },
   {
    "duration": 5,
    "start_time": "2022-08-15T07:46:23.070Z"
   },
   {
    "duration": 5,
    "start_time": "2022-08-15T07:46:40.268Z"
   },
   {
    "duration": 12,
    "start_time": "2022-08-15T07:46:40.276Z"
   },
   {
    "duration": 30,
    "start_time": "2022-08-15T07:46:40.289Z"
   },
   {
    "duration": 4,
    "start_time": "2022-08-15T07:46:40.321Z"
   },
   {
    "duration": 9,
    "start_time": "2022-08-15T07:46:40.328Z"
   },
   {
    "duration": 15,
    "start_time": "2022-08-15T07:46:40.339Z"
   },
   {
    "duration": 26,
    "start_time": "2022-08-15T07:46:40.356Z"
   },
   {
    "duration": 9,
    "start_time": "2022-08-15T07:46:40.383Z"
   },
   {
    "duration": 13,
    "start_time": "2022-08-15T07:46:40.394Z"
   },
   {
    "duration": 14,
    "start_time": "2022-08-15T07:46:40.409Z"
   },
   {
    "duration": 12,
    "start_time": "2022-08-15T07:46:40.424Z"
   },
   {
    "duration": 9,
    "start_time": "2022-08-15T07:46:40.438Z"
   },
   {
    "duration": 4,
    "start_time": "2022-08-15T07:46:40.449Z"
   },
   {
    "duration": 8,
    "start_time": "2022-08-15T07:46:40.454Z"
   },
   {
    "duration": 9,
    "start_time": "2022-08-15T07:46:40.464Z"
   },
   {
    "duration": 7,
    "start_time": "2022-08-15T07:46:40.474Z"
   },
   {
    "duration": 8,
    "start_time": "2022-08-15T07:46:40.482Z"
   },
   {
    "duration": 7,
    "start_time": "2022-08-15T07:46:40.491Z"
   },
   {
    "duration": 4,
    "start_time": "2022-08-15T07:46:59.880Z"
   },
   {
    "duration": 10,
    "start_time": "2022-08-15T07:46:59.886Z"
   },
   {
    "duration": 75,
    "start_time": "2022-08-15T07:46:59.897Z"
   },
   {
    "duration": 3,
    "start_time": "2022-08-15T07:46:59.974Z"
   },
   {
    "duration": 13,
    "start_time": "2022-08-15T07:46:59.979Z"
   },
   {
    "duration": 43,
    "start_time": "2022-08-15T07:46:59.993Z"
   },
   {
    "duration": 13,
    "start_time": "2022-08-15T07:47:00.037Z"
   },
   {
    "duration": 19,
    "start_time": "2022-08-15T07:47:00.051Z"
   },
   {
    "duration": 17,
    "start_time": "2022-08-15T07:47:00.072Z"
   },
   {
    "duration": 12,
    "start_time": "2022-08-15T07:47:00.090Z"
   },
   {
    "duration": 12,
    "start_time": "2022-08-15T07:47:00.104Z"
   },
   {
    "duration": 9,
    "start_time": "2022-08-15T07:47:00.117Z"
   },
   {
    "duration": 13,
    "start_time": "2022-08-15T07:47:00.128Z"
   },
   {
    "duration": 17,
    "start_time": "2022-08-15T07:47:00.144Z"
   },
   {
    "duration": 22,
    "start_time": "2022-08-15T07:47:00.163Z"
   },
   {
    "duration": 16,
    "start_time": "2022-08-15T07:47:00.186Z"
   },
   {
    "duration": 12,
    "start_time": "2022-08-15T07:47:00.204Z"
   },
   {
    "duration": 22,
    "start_time": "2022-08-15T07:47:00.217Z"
   },
   {
    "duration": 19,
    "start_time": "2022-08-15T07:47:00.240Z"
   },
   {
    "duration": 7,
    "start_time": "2022-08-15T07:47:00.260Z"
   },
   {
    "duration": 16,
    "start_time": "2022-08-15T07:47:00.268Z"
   },
   {
    "duration": 9,
    "start_time": "2022-08-15T07:47:00.285Z"
   },
   {
    "duration": 9,
    "start_time": "2022-08-15T07:47:00.295Z"
   },
   {
    "duration": 18,
    "start_time": "2022-08-15T07:47:00.305Z"
   },
   {
    "duration": 23,
    "start_time": "2022-08-15T07:47:00.324Z"
   },
   {
    "duration": 22,
    "start_time": "2022-08-15T07:47:00.348Z"
   },
   {
    "duration": 51,
    "start_time": "2022-08-15T07:47:00.372Z"
   },
   {
    "duration": 17,
    "start_time": "2022-08-15T07:47:00.425Z"
   },
   {
    "duration": 26,
    "start_time": "2022-08-15T07:47:00.444Z"
   },
   {
    "duration": 1366,
    "start_time": "2022-08-15T07:47:00.472Z"
   },
   {
    "duration": 247,
    "start_time": "2022-08-15T07:47:01.839Z"
   },
   {
    "duration": 4,
    "start_time": "2022-08-15T07:47:12.601Z"
   },
   {
    "duration": 11,
    "start_time": "2022-08-15T07:47:12.606Z"
   },
   {
    "duration": 30,
    "start_time": "2022-08-15T07:47:12.618Z"
   },
   {
    "duration": 4,
    "start_time": "2022-08-15T07:47:12.649Z"
   },
   {
    "duration": 19,
    "start_time": "2022-08-15T07:47:12.656Z"
   },
   {
    "duration": 10,
    "start_time": "2022-08-15T07:47:12.677Z"
   },
   {
    "duration": 10,
    "start_time": "2022-08-15T07:47:12.688Z"
   },
   {
    "duration": 5,
    "start_time": "2022-08-15T07:47:12.700Z"
   },
   {
    "duration": 7,
    "start_time": "2022-08-15T07:47:12.706Z"
   },
   {
    "duration": 12,
    "start_time": "2022-08-15T07:47:12.714Z"
   },
   {
    "duration": 17,
    "start_time": "2022-08-15T07:47:12.728Z"
   },
   {
    "duration": 6,
    "start_time": "2022-08-15T07:47:12.747Z"
   },
   {
    "duration": 7,
    "start_time": "2022-08-15T07:47:12.754Z"
   },
   {
    "duration": 6,
    "start_time": "2022-08-15T07:47:12.763Z"
   },
   {
    "duration": 7,
    "start_time": "2022-08-15T07:47:12.771Z"
   },
   {
    "duration": 10,
    "start_time": "2022-08-15T07:47:12.779Z"
   },
   {
    "duration": 9,
    "start_time": "2022-08-15T07:47:12.790Z"
   },
   {
    "duration": 8,
    "start_time": "2022-08-15T07:47:12.800Z"
   },
   {
    "duration": 8,
    "start_time": "2022-08-15T07:47:12.809Z"
   },
   {
    "duration": 11,
    "start_time": "2022-08-15T07:47:12.839Z"
   },
   {
    "duration": 6,
    "start_time": "2022-08-15T07:47:12.851Z"
   },
   {
    "duration": 7,
    "start_time": "2022-08-15T07:47:12.858Z"
   },
   {
    "duration": 6,
    "start_time": "2022-08-15T07:47:12.866Z"
   },
   {
    "duration": 6,
    "start_time": "2022-08-15T07:47:12.873Z"
   },
   {
    "duration": 13,
    "start_time": "2022-08-15T07:47:12.880Z"
   },
   {
    "duration": 10,
    "start_time": "2022-08-15T07:47:12.894Z"
   },
   {
    "duration": 10,
    "start_time": "2022-08-15T07:47:12.905Z"
   },
   {
    "duration": 23,
    "start_time": "2022-08-15T07:47:12.916Z"
   },
   {
    "duration": 10,
    "start_time": "2022-08-15T07:47:12.940Z"
   },
   {
    "duration": 1180,
    "start_time": "2022-08-15T07:47:12.951Z"
   },
   {
    "duration": 232,
    "start_time": "2022-08-15T07:47:14.137Z"
   },
   {
    "duration": 1316,
    "start_time": "2022-08-15T07:47:14.370Z"
   },
   {
    "duration": 165,
    "start_time": "2022-08-15T07:47:15.688Z"
   },
   {
    "duration": 184,
    "start_time": "2022-08-15T07:47:15.855Z"
   },
   {
    "duration": 156,
    "start_time": "2022-08-15T07:47:16.041Z"
   },
   {
    "duration": 5,
    "start_time": "2022-08-15T07:48:08.590Z"
   },
   {
    "duration": 638,
    "start_time": "2022-08-15T07:48:17.806Z"
   },
   {
    "duration": 78,
    "start_time": "2022-08-15T07:48:40.985Z"
   },
   {
    "duration": 4,
    "start_time": "2022-08-15T07:48:48.684Z"
   },
   {
    "duration": 5,
    "start_time": "2022-08-15T07:48:52.109Z"
   },
   {
    "duration": 5,
    "start_time": "2022-08-15T07:49:03.600Z"
   },
   {
    "duration": 114,
    "start_time": "2022-08-15T07:49:09.912Z"
   },
   {
    "duration": 121,
    "start_time": "2022-08-15T07:49:34.034Z"
   },
   {
    "duration": 137,
    "start_time": "2022-08-15T07:50:52.357Z"
   },
   {
    "duration": 173,
    "start_time": "2022-08-15T07:51:14.442Z"
   },
   {
    "duration": 73,
    "start_time": "2022-08-15T07:51:59.443Z"
   },
   {
    "duration": 170,
    "start_time": "2022-08-15T07:52:19.231Z"
   },
   {
    "duration": 136,
    "start_time": "2022-08-15T07:53:43.509Z"
   },
   {
    "duration": 304,
    "start_time": "2022-08-15T07:54:21.420Z"
   },
   {
    "duration": 119,
    "start_time": "2022-08-15T07:54:55.887Z"
   },
   {
    "duration": 13,
    "start_time": "2022-08-15T07:55:09.908Z"
   },
   {
    "duration": 9,
    "start_time": "2022-08-15T07:55:21.148Z"
   },
   {
    "duration": 124,
    "start_time": "2022-08-15T07:55:32.456Z"
   },
   {
    "duration": 68,
    "start_time": "2022-08-15T07:55:56.108Z"
   },
   {
    "duration": 121,
    "start_time": "2022-08-15T07:56:11.293Z"
   },
   {
    "duration": 5,
    "start_time": "2022-08-15T07:56:39.900Z"
   },
   {
    "duration": 8,
    "start_time": "2022-08-15T07:56:39.907Z"
   },
   {
    "duration": 43,
    "start_time": "2022-08-15T07:56:39.917Z"
   },
   {
    "duration": 4,
    "start_time": "2022-08-15T07:56:39.963Z"
   },
   {
    "duration": 8,
    "start_time": "2022-08-15T07:56:39.968Z"
   },
   {
    "duration": 29,
    "start_time": "2022-08-15T07:56:39.977Z"
   },
   {
    "duration": 18,
    "start_time": "2022-08-15T07:56:40.007Z"
   },
   {
    "duration": 7,
    "start_time": "2022-08-15T07:56:40.026Z"
   },
   {
    "duration": 7,
    "start_time": "2022-08-15T07:56:40.035Z"
   },
   {
    "duration": 14,
    "start_time": "2022-08-15T07:56:40.044Z"
   },
   {
    "duration": 16,
    "start_time": "2022-08-15T07:56:40.060Z"
   },
   {
    "duration": 7,
    "start_time": "2022-08-15T07:56:40.078Z"
   },
   {
    "duration": 10,
    "start_time": "2022-08-15T07:56:40.086Z"
   },
   {
    "duration": 7,
    "start_time": "2022-08-15T07:56:40.097Z"
   },
   {
    "duration": 7,
    "start_time": "2022-08-15T07:56:40.105Z"
   },
   {
    "duration": 12,
    "start_time": "2022-08-15T07:56:40.113Z"
   },
   {
    "duration": 13,
    "start_time": "2022-08-15T07:56:40.137Z"
   },
   {
    "duration": 12,
    "start_time": "2022-08-15T07:56:40.152Z"
   },
   {
    "duration": 11,
    "start_time": "2022-08-15T07:56:40.166Z"
   },
   {
    "duration": 12,
    "start_time": "2022-08-15T07:56:40.179Z"
   },
   {
    "duration": 14,
    "start_time": "2022-08-15T07:56:40.192Z"
   },
   {
    "duration": 13,
    "start_time": "2022-08-15T07:56:40.208Z"
   },
   {
    "duration": 8,
    "start_time": "2022-08-15T07:56:40.223Z"
   },
   {
    "duration": 8,
    "start_time": "2022-08-15T07:56:40.235Z"
   },
   {
    "duration": 15,
    "start_time": "2022-08-15T07:56:40.246Z"
   },
   {
    "duration": 10,
    "start_time": "2022-08-15T07:56:40.262Z"
   },
   {
    "duration": 14,
    "start_time": "2022-08-15T07:56:40.273Z"
   },
   {
    "duration": 16,
    "start_time": "2022-08-15T07:56:40.288Z"
   },
   {
    "duration": 11,
    "start_time": "2022-08-15T07:56:40.306Z"
   },
   {
    "duration": 1200,
    "start_time": "2022-08-15T07:56:40.319Z"
   },
   {
    "duration": 252,
    "start_time": "2022-08-15T07:56:41.520Z"
   },
   {
    "duration": 1387,
    "start_time": "2022-08-15T07:56:41.774Z"
   },
   {
    "duration": 161,
    "start_time": "2022-08-15T07:56:43.163Z"
   },
   {
    "duration": 180,
    "start_time": "2022-08-15T07:56:43.326Z"
   },
   {
    "duration": 149,
    "start_time": "2022-08-15T07:56:43.507Z"
   },
   {
    "duration": 1192,
    "start_time": "2022-08-15T07:56:43.657Z"
   },
   {
    "duration": 850,
    "start_time": "2022-08-15T07:56:44.851Z"
   },
   {
    "duration": 5,
    "start_time": "2022-08-15T07:56:45.703Z"
   },
   {
    "duration": 738,
    "start_time": "2022-08-15T07:56:45.710Z"
   },
   {
    "duration": 89,
    "start_time": "2022-08-15T07:56:46.449Z"
   },
   {
    "duration": 4,
    "start_time": "2022-08-15T07:56:46.540Z"
   },
   {
    "duration": 18,
    "start_time": "2022-08-15T07:56:46.545Z"
   },
   {
    "duration": 21,
    "start_time": "2022-08-15T07:56:46.564Z"
   },
   {
    "duration": 17,
    "start_time": "2022-08-15T07:56:46.587Z"
   },
   {
    "duration": 126,
    "start_time": "2022-08-15T07:56:46.606Z"
   },
   {
    "duration": 4,
    "start_time": "2022-08-15T07:59:18.422Z"
   },
   {
    "duration": 6,
    "start_time": "2022-08-15T07:59:18.428Z"
   },
   {
    "duration": 33,
    "start_time": "2022-08-15T07:59:18.435Z"
   },
   {
    "duration": 3,
    "start_time": "2022-08-15T07:59:18.470Z"
   },
   {
    "duration": 8,
    "start_time": "2022-08-15T07:59:18.475Z"
   },
   {
    "duration": 12,
    "start_time": "2022-08-15T07:59:18.484Z"
   },
   {
    "duration": 15,
    "start_time": "2022-08-15T07:59:18.498Z"
   },
   {
    "duration": 12,
    "start_time": "2022-08-15T07:59:18.515Z"
   },
   {
    "duration": 12,
    "start_time": "2022-08-15T07:59:18.530Z"
   },
   {
    "duration": 13,
    "start_time": "2022-08-15T07:59:18.544Z"
   },
   {
    "duration": 14,
    "start_time": "2022-08-15T07:59:18.559Z"
   },
   {
    "duration": 8,
    "start_time": "2022-08-15T07:59:18.574Z"
   },
   {
    "duration": 7,
    "start_time": "2022-08-15T07:59:18.583Z"
   },
   {
    "duration": 7,
    "start_time": "2022-08-15T07:59:18.592Z"
   },
   {
    "duration": 38,
    "start_time": "2022-08-15T07:59:18.601Z"
   },
   {
    "duration": 7,
    "start_time": "2022-08-15T07:59:18.641Z"
   },
   {
    "duration": 7,
    "start_time": "2022-08-15T07:59:18.650Z"
   },
   {
    "duration": 8,
    "start_time": "2022-08-15T07:59:18.659Z"
   },
   {
    "duration": 7,
    "start_time": "2022-08-15T07:59:18.669Z"
   },
   {
    "duration": 7,
    "start_time": "2022-08-15T07:59:18.678Z"
   },
   {
    "duration": 14,
    "start_time": "2022-08-15T07:59:18.686Z"
   },
   {
    "duration": 8,
    "start_time": "2022-08-15T07:59:18.702Z"
   },
   {
    "duration": 27,
    "start_time": "2022-08-15T07:59:18.711Z"
   },
   {
    "duration": 5,
    "start_time": "2022-08-15T07:59:18.743Z"
   },
   {
    "duration": 13,
    "start_time": "2022-08-15T07:59:18.750Z"
   },
   {
    "duration": 14,
    "start_time": "2022-08-15T07:59:18.764Z"
   },
   {
    "duration": 17,
    "start_time": "2022-08-15T07:59:18.779Z"
   },
   {
    "duration": 15,
    "start_time": "2022-08-15T07:59:18.797Z"
   },
   {
    "duration": 15,
    "start_time": "2022-08-15T07:59:18.814Z"
   },
   {
    "duration": 1304,
    "start_time": "2022-08-15T07:59:18.831Z"
   },
   {
    "duration": 235,
    "start_time": "2022-08-15T07:59:20.139Z"
   },
   {
    "duration": 1376,
    "start_time": "2022-08-15T07:59:20.376Z"
   },
   {
    "duration": 165,
    "start_time": "2022-08-15T07:59:21.753Z"
   },
   {
    "duration": 181,
    "start_time": "2022-08-15T07:59:21.920Z"
   },
   {
    "duration": 152,
    "start_time": "2022-08-15T07:59:22.102Z"
   },
   {
    "duration": 1194,
    "start_time": "2022-08-15T07:59:22.256Z"
   },
   {
    "duration": 970,
    "start_time": "2022-08-15T07:59:23.451Z"
   },
   {
    "duration": 6,
    "start_time": "2022-08-15T07:59:24.423Z"
   },
   {
    "duration": 676,
    "start_time": "2022-08-15T07:59:24.440Z"
   },
   {
    "duration": 87,
    "start_time": "2022-08-15T07:59:25.118Z"
   },
   {
    "duration": 5,
    "start_time": "2022-08-15T07:59:25.207Z"
   },
   {
    "duration": 7,
    "start_time": "2022-08-15T07:59:25.213Z"
   },
   {
    "duration": 6,
    "start_time": "2022-08-15T07:59:25.238Z"
   },
   {
    "duration": 7,
    "start_time": "2022-08-15T07:59:25.246Z"
   },
   {
    "duration": 132,
    "start_time": "2022-08-15T07:59:25.254Z"
   },
   {
    "duration": 149,
    "start_time": "2022-08-15T07:59:25.388Z"
   },
   {
    "duration": 9,
    "start_time": "2022-08-15T07:59:25.539Z"
   },
   {
    "duration": 6,
    "start_time": "2022-08-15T07:59:25.550Z"
   },
   {
    "duration": 5,
    "start_time": "2022-08-15T07:59:25.558Z"
   },
   {
    "duration": 8,
    "start_time": "2022-08-15T07:59:25.564Z"
   },
   {
    "duration": 13,
    "start_time": "2022-08-15T07:59:25.573Z"
   },
   {
    "duration": 6,
    "start_time": "2022-08-15T07:59:25.587Z"
   },
   {
    "duration": 9,
    "start_time": "2022-08-15T07:59:25.594Z"
   },
   {
    "duration": 34,
    "start_time": "2022-08-15T07:59:25.605Z"
   },
   {
    "duration": 11,
    "start_time": "2022-08-15T07:59:25.641Z"
   },
   {
    "duration": 8,
    "start_time": "2022-08-15T07:59:25.654Z"
   },
   {
    "duration": 16,
    "start_time": "2022-08-15T07:59:25.664Z"
   },
   {
    "duration": 14,
    "start_time": "2022-08-15T07:59:25.682Z"
   },
   {
    "duration": 5,
    "start_time": "2022-08-15T07:59:25.698Z"
   },
   {
    "duration": 38,
    "start_time": "2022-08-15T07:59:25.704Z"
   },
   {
    "duration": 15,
    "start_time": "2022-08-15T07:59:25.744Z"
   },
   {
    "duration": 10,
    "start_time": "2022-08-15T07:59:25.761Z"
   },
   {
    "duration": 9,
    "start_time": "2022-08-15T07:59:25.773Z"
   },
   {
    "duration": 8,
    "start_time": "2022-08-15T07:59:25.784Z"
   },
   {
    "duration": 15,
    "start_time": "2022-08-15T07:59:25.794Z"
   },
   {
    "duration": 34,
    "start_time": "2022-08-15T07:59:25.811Z"
   },
   {
    "duration": 8,
    "start_time": "2022-08-15T07:59:25.847Z"
   },
   {
    "duration": 10,
    "start_time": "2022-08-15T07:59:25.857Z"
   },
   {
    "duration": 8,
    "start_time": "2022-08-15T07:59:25.871Z"
   },
   {
    "duration": 13,
    "start_time": "2022-08-15T07:59:25.880Z"
   },
   {
    "duration": 10,
    "start_time": "2022-08-15T07:59:25.894Z"
   },
   {
    "duration": 32,
    "start_time": "2022-08-15T07:59:25.906Z"
   },
   {
    "duration": 10,
    "start_time": "2022-08-15T07:59:25.940Z"
   },
   {
    "duration": 12,
    "start_time": "2022-08-15T07:59:25.952Z"
   },
   {
    "duration": 7,
    "start_time": "2022-08-15T07:59:25.966Z"
   },
   {
    "duration": 8,
    "start_time": "2022-08-15T07:59:25.975Z"
   },
   {
    "duration": 10,
    "start_time": "2022-08-15T07:59:25.985Z"
   },
   {
    "duration": 8,
    "start_time": "2022-08-15T07:59:25.997Z"
   },
   {
    "duration": 5,
    "start_time": "2022-08-15T08:18:00.394Z"
   },
   {
    "duration": 704,
    "start_time": "2022-08-15T08:18:18.501Z"
   },
   {
    "duration": 79,
    "start_time": "2022-08-15T08:18:33.591Z"
   },
   {
    "duration": 79,
    "start_time": "2022-08-15T08:18:41.575Z"
   },
   {
    "duration": 4,
    "start_time": "2022-08-15T08:19:43.950Z"
   },
   {
    "duration": 5,
    "start_time": "2022-08-15T08:19:55.178Z"
   },
   {
    "duration": 5,
    "start_time": "2022-08-15T08:20:11.007Z"
   },
   {
    "duration": 6,
    "start_time": "2022-08-15T08:20:18.209Z"
   },
   {
    "duration": 112,
    "start_time": "2022-08-15T08:20:25.033Z"
   },
   {
    "duration": 4,
    "start_time": "2022-08-15T08:22:35.843Z"
   },
   {
    "duration": 12,
    "start_time": "2022-08-15T08:22:51.725Z"
   },
   {
    "duration": 120,
    "start_time": "2022-08-15T08:23:24.226Z"
   },
   {
    "duration": 69,
    "start_time": "2022-08-15T08:23:36.281Z"
   },
   {
    "duration": 60,
    "start_time": "2022-08-15T08:24:07.203Z"
   },
   {
    "duration": 58,
    "start_time": "2022-08-15T08:24:17.211Z"
   },
   {
    "duration": 53,
    "start_time": "2022-08-15T08:24:48.845Z"
   },
   {
    "duration": 112,
    "start_time": "2022-08-15T08:25:10.982Z"
   },
   {
    "duration": 9,
    "start_time": "2022-08-15T08:25:20.942Z"
   },
   {
    "duration": 8,
    "start_time": "2022-08-15T08:25:34.522Z"
   },
   {
    "duration": 59,
    "start_time": "2022-08-15T08:25:47.075Z"
   },
   {
    "duration": 4,
    "start_time": "2022-08-15T08:26:38.788Z"
   },
   {
    "duration": 6,
    "start_time": "2022-08-15T08:26:38.794Z"
   },
   {
    "duration": 52,
    "start_time": "2022-08-15T08:26:38.801Z"
   },
   {
    "duration": 3,
    "start_time": "2022-08-15T08:26:38.856Z"
   },
   {
    "duration": 8,
    "start_time": "2022-08-15T08:26:38.862Z"
   },
   {
    "duration": 21,
    "start_time": "2022-08-15T08:26:38.871Z"
   },
   {
    "duration": 16,
    "start_time": "2022-08-15T08:26:38.894Z"
   },
   {
    "duration": 15,
    "start_time": "2022-08-15T08:26:38.912Z"
   },
   {
    "duration": 11,
    "start_time": "2022-08-15T08:26:38.929Z"
   },
   {
    "duration": 16,
    "start_time": "2022-08-15T08:26:38.942Z"
   },
   {
    "duration": 15,
    "start_time": "2022-08-15T08:26:38.960Z"
   },
   {
    "duration": 11,
    "start_time": "2022-08-15T08:26:38.977Z"
   },
   {
    "duration": 11,
    "start_time": "2022-08-15T08:26:38.990Z"
   },
   {
    "duration": 8,
    "start_time": "2022-08-15T08:26:39.004Z"
   },
   {
    "duration": 11,
    "start_time": "2022-08-15T08:26:39.014Z"
   },
   {
    "duration": 18,
    "start_time": "2022-08-15T08:26:39.026Z"
   },
   {
    "duration": 23,
    "start_time": "2022-08-15T08:26:39.045Z"
   },
   {
    "duration": 13,
    "start_time": "2022-08-15T08:26:39.070Z"
   },
   {
    "duration": 14,
    "start_time": "2022-08-15T08:26:39.085Z"
   },
   {
    "duration": 10,
    "start_time": "2022-08-15T08:26:39.100Z"
   },
   {
    "duration": 12,
    "start_time": "2022-08-15T08:26:39.111Z"
   },
   {
    "duration": 5,
    "start_time": "2022-08-15T08:26:39.125Z"
   },
   {
    "duration": 5,
    "start_time": "2022-08-15T08:26:39.132Z"
   },
   {
    "duration": 8,
    "start_time": "2022-08-15T08:26:39.138Z"
   },
   {
    "duration": 6,
    "start_time": "2022-08-15T08:26:39.147Z"
   },
   {
    "duration": 9,
    "start_time": "2022-08-15T08:26:39.154Z"
   },
   {
    "duration": 17,
    "start_time": "2022-08-15T08:26:39.165Z"
   },
   {
    "duration": 14,
    "start_time": "2022-08-15T08:26:39.183Z"
   },
   {
    "duration": 10,
    "start_time": "2022-08-15T08:26:39.199Z"
   },
   {
    "duration": 1179,
    "start_time": "2022-08-15T08:26:39.210Z"
   },
   {
    "duration": 228,
    "start_time": "2022-08-15T08:26:40.390Z"
   },
   {
    "duration": 1311,
    "start_time": "2022-08-15T08:26:40.619Z"
   },
   {
    "duration": 335,
    "start_time": "2022-08-15T08:26:41.932Z"
   },
   {
    "duration": 178,
    "start_time": "2022-08-15T08:26:42.269Z"
   },
   {
    "duration": 139,
    "start_time": "2022-08-15T08:26:42.449Z"
   },
   {
    "duration": 1126,
    "start_time": "2022-08-15T08:26:42.590Z"
   },
   {
    "duration": 638,
    "start_time": "2022-08-15T08:26:43.717Z"
   },
   {
    "duration": 4,
    "start_time": "2022-08-15T08:26:44.357Z"
   },
   {
    "duration": 626,
    "start_time": "2022-08-15T08:26:44.363Z"
   },
   {
    "duration": 88,
    "start_time": "2022-08-15T08:26:44.990Z"
   },
   {
    "duration": 4,
    "start_time": "2022-08-15T08:26:45.081Z"
   },
   {
    "duration": 6,
    "start_time": "2022-08-15T08:26:45.086Z"
   },
   {
    "duration": 16,
    "start_time": "2022-08-15T08:26:45.093Z"
   },
   {
    "duration": 7,
    "start_time": "2022-08-15T08:26:45.110Z"
   },
   {
    "duration": 115,
    "start_time": "2022-08-15T08:26:45.118Z"
   },
   {
    "duration": 61,
    "start_time": "2022-08-15T08:26:45.237Z"
   },
   {
    "duration": 9,
    "start_time": "2022-08-15T08:26:45.299Z"
   },
   {
    "duration": 9,
    "start_time": "2022-08-15T08:26:45.309Z"
   },
   {
    "duration": 13,
    "start_time": "2022-08-15T08:26:45.319Z"
   },
   {
    "duration": 7,
    "start_time": "2022-08-15T08:26:45.333Z"
   },
   {
    "duration": 11,
    "start_time": "2022-08-15T08:26:45.341Z"
   },
   {
    "duration": 6,
    "start_time": "2022-08-15T08:26:45.354Z"
   },
   {
    "duration": 6,
    "start_time": "2022-08-15T08:26:45.361Z"
   },
   {
    "duration": 8,
    "start_time": "2022-08-15T08:26:45.368Z"
   },
   {
    "duration": 8,
    "start_time": "2022-08-15T08:26:45.378Z"
   },
   {
    "duration": 6,
    "start_time": "2022-08-15T08:26:45.387Z"
   },
   {
    "duration": 13,
    "start_time": "2022-08-15T08:26:45.394Z"
   },
   {
    "duration": 33,
    "start_time": "2022-08-15T08:26:45.408Z"
   },
   {
    "duration": 5,
    "start_time": "2022-08-15T08:26:45.442Z"
   },
   {
    "duration": 7,
    "start_time": "2022-08-15T08:26:45.449Z"
   },
   {
    "duration": 13,
    "start_time": "2022-08-15T08:26:45.458Z"
   },
   {
    "duration": 7,
    "start_time": "2022-08-15T08:26:45.473Z"
   },
   {
    "duration": 7,
    "start_time": "2022-08-15T08:26:45.481Z"
   },
   {
    "duration": 4,
    "start_time": "2022-08-15T08:27:11.359Z"
   },
   {
    "duration": 4,
    "start_time": "2022-08-15T08:27:11.365Z"
   },
   {
    "duration": 37,
    "start_time": "2022-08-15T08:27:11.370Z"
   },
   {
    "duration": 4,
    "start_time": "2022-08-15T08:27:11.408Z"
   },
   {
    "duration": 7,
    "start_time": "2022-08-15T08:27:11.413Z"
   },
   {
    "duration": 11,
    "start_time": "2022-08-15T08:27:11.421Z"
   },
   {
    "duration": 8,
    "start_time": "2022-08-15T08:27:11.433Z"
   },
   {
    "duration": 5,
    "start_time": "2022-08-15T08:27:11.443Z"
   },
   {
    "duration": 6,
    "start_time": "2022-08-15T08:27:11.449Z"
   },
   {
    "duration": 12,
    "start_time": "2022-08-15T08:27:11.456Z"
   },
   {
    "duration": 12,
    "start_time": "2022-08-15T08:27:11.470Z"
   },
   {
    "duration": 6,
    "start_time": "2022-08-15T08:27:11.484Z"
   },
   {
    "duration": 6,
    "start_time": "2022-08-15T08:27:11.491Z"
   },
   {
    "duration": 4,
    "start_time": "2022-08-15T08:27:11.500Z"
   },
   {
    "duration": 33,
    "start_time": "2022-08-15T08:27:11.506Z"
   },
   {
    "duration": 7,
    "start_time": "2022-08-15T08:27:11.540Z"
   },
   {
    "duration": 7,
    "start_time": "2022-08-15T08:27:11.548Z"
   },
   {
    "duration": 8,
    "start_time": "2022-08-15T08:27:11.556Z"
   },
   {
    "duration": 11,
    "start_time": "2022-08-15T08:27:11.565Z"
   },
   {
    "duration": 6,
    "start_time": "2022-08-15T08:27:11.577Z"
   },
   {
    "duration": 6,
    "start_time": "2022-08-15T08:27:11.584Z"
   },
   {
    "duration": 6,
    "start_time": "2022-08-15T08:27:11.591Z"
   },
   {
    "duration": 12,
    "start_time": "2022-08-15T08:27:11.598Z"
   },
   {
    "duration": 17,
    "start_time": "2022-08-15T08:27:11.611Z"
   },
   {
    "duration": 10,
    "start_time": "2022-08-15T08:27:11.629Z"
   },
   {
    "duration": 15,
    "start_time": "2022-08-15T08:27:11.640Z"
   },
   {
    "duration": 10,
    "start_time": "2022-08-15T08:27:11.656Z"
   },
   {
    "duration": 10,
    "start_time": "2022-08-15T08:27:11.667Z"
   },
   {
    "duration": 10,
    "start_time": "2022-08-15T08:27:11.678Z"
   },
   {
    "duration": 1154,
    "start_time": "2022-08-15T08:27:11.690Z"
   },
   {
    "duration": 226,
    "start_time": "2022-08-15T08:27:12.846Z"
   },
   {
    "duration": 1473,
    "start_time": "2022-08-15T08:27:13.073Z"
   },
   {
    "duration": 162,
    "start_time": "2022-08-15T08:27:14.547Z"
   },
   {
    "duration": 175,
    "start_time": "2022-08-15T08:27:14.711Z"
   },
   {
    "duration": 144,
    "start_time": "2022-08-15T08:27:14.888Z"
   },
   {
    "duration": 1159,
    "start_time": "2022-08-15T08:27:15.033Z"
   },
   {
    "duration": 627,
    "start_time": "2022-08-15T08:27:16.193Z"
   },
   {
    "duration": 4,
    "start_time": "2022-08-15T08:27:16.822Z"
   },
   {
    "duration": 636,
    "start_time": "2022-08-15T08:27:16.828Z"
   },
   {
    "duration": 81,
    "start_time": "2022-08-15T08:27:17.465Z"
   },
   {
    "duration": 4,
    "start_time": "2022-08-15T08:27:17.551Z"
   },
   {
    "duration": 13,
    "start_time": "2022-08-15T08:27:17.556Z"
   },
   {
    "duration": 6,
    "start_time": "2022-08-15T08:27:17.571Z"
   },
   {
    "duration": 7,
    "start_time": "2022-08-15T08:27:17.579Z"
   },
   {
    "duration": 130,
    "start_time": "2022-08-15T08:27:17.587Z"
   },
   {
    "duration": 61,
    "start_time": "2022-08-15T08:27:17.719Z"
   },
   {
    "duration": 9,
    "start_time": "2022-08-15T08:27:17.781Z"
   },
   {
    "duration": 6,
    "start_time": "2022-08-15T08:27:17.791Z"
   },
   {
    "duration": 5,
    "start_time": "2022-08-15T08:27:17.799Z"
   },
   {
    "duration": 6,
    "start_time": "2022-08-15T08:27:17.805Z"
   },
   {
    "duration": 12,
    "start_time": "2022-08-15T08:27:17.813Z"
   },
   {
    "duration": 4,
    "start_time": "2022-08-15T08:27:17.827Z"
   },
   {
    "duration": 9,
    "start_time": "2022-08-15T08:27:17.832Z"
   },
   {
    "duration": 10,
    "start_time": "2022-08-15T08:27:17.842Z"
   },
   {
    "duration": 10,
    "start_time": "2022-08-15T08:27:17.853Z"
   },
   {
    "duration": 8,
    "start_time": "2022-08-15T08:27:17.865Z"
   },
   {
    "duration": 12,
    "start_time": "2022-08-15T08:27:17.874Z"
   },
   {
    "duration": 9,
    "start_time": "2022-08-15T08:27:17.888Z"
   },
   {
    "duration": 4,
    "start_time": "2022-08-15T08:27:17.898Z"
   },
   {
    "duration": 9,
    "start_time": "2022-08-15T08:27:17.904Z"
   },
   {
    "duration": 27,
    "start_time": "2022-08-15T08:27:17.914Z"
   },
   {
    "duration": 3,
    "start_time": "2022-08-15T08:27:17.943Z"
   },
   {
    "duration": 11,
    "start_time": "2022-08-15T08:27:17.947Z"
   },
   {
    "duration": 7,
    "start_time": "2022-08-15T08:27:17.959Z"
   },
   {
    "duration": 11,
    "start_time": "2022-08-15T08:27:17.967Z"
   },
   {
    "duration": 14,
    "start_time": "2022-08-15T08:27:17.979Z"
   },
   {
    "duration": 11,
    "start_time": "2022-08-15T08:27:17.995Z"
   },
   {
    "duration": 7,
    "start_time": "2022-08-15T08:27:18.007Z"
   },
   {
    "duration": 7,
    "start_time": "2022-08-15T08:27:18.016Z"
   },
   {
    "duration": 14,
    "start_time": "2022-08-15T08:27:18.025Z"
   },
   {
    "duration": 11,
    "start_time": "2022-08-15T08:27:18.040Z"
   },
   {
    "duration": 10,
    "start_time": "2022-08-15T08:27:18.052Z"
   },
   {
    "duration": 17,
    "start_time": "2022-08-15T08:27:18.063Z"
   },
   {
    "duration": 17,
    "start_time": "2022-08-15T08:27:18.081Z"
   },
   {
    "duration": 5,
    "start_time": "2022-08-15T08:27:18.099Z"
   },
   {
    "duration": 5,
    "start_time": "2022-08-15T08:27:18.106Z"
   },
   {
    "duration": 7,
    "start_time": "2022-08-15T08:27:18.112Z"
   },
   {
    "duration": 25,
    "start_time": "2022-08-15T08:27:18.121Z"
   },
   {
    "duration": 5,
    "start_time": "2022-08-15T08:30:28.685Z"
   },
   {
    "duration": 8,
    "start_time": "2022-08-15T08:30:28.693Z"
   },
   {
    "duration": 37,
    "start_time": "2022-08-15T08:30:28.702Z"
   },
   {
    "duration": 3,
    "start_time": "2022-08-15T08:30:28.741Z"
   },
   {
    "duration": 12,
    "start_time": "2022-08-15T08:30:28.745Z"
   },
   {
    "duration": 19,
    "start_time": "2022-08-15T08:30:28.759Z"
   },
   {
    "duration": 16,
    "start_time": "2022-08-15T08:30:28.779Z"
   },
   {
    "duration": 11,
    "start_time": "2022-08-15T08:30:28.797Z"
   },
   {
    "duration": 19,
    "start_time": "2022-08-15T08:30:28.809Z"
   },
   {
    "duration": 15,
    "start_time": "2022-08-15T08:30:28.830Z"
   },
   {
    "duration": 25,
    "start_time": "2022-08-15T08:30:28.847Z"
   },
   {
    "duration": 21,
    "start_time": "2022-08-15T08:30:28.874Z"
   },
   {
    "duration": 32,
    "start_time": "2022-08-15T08:30:28.897Z"
   },
   {
    "duration": 20,
    "start_time": "2022-08-15T08:30:28.932Z"
   },
   {
    "duration": 30,
    "start_time": "2022-08-15T08:30:28.954Z"
   },
   {
    "duration": 31,
    "start_time": "2022-08-15T08:30:28.986Z"
   },
   {
    "duration": 36,
    "start_time": "2022-08-15T08:30:29.019Z"
   },
   {
    "duration": 19,
    "start_time": "2022-08-15T08:30:29.057Z"
   },
   {
    "duration": 27,
    "start_time": "2022-08-15T08:30:29.078Z"
   },
   {
    "duration": 16,
    "start_time": "2022-08-15T08:30:29.106Z"
   },
   {
    "duration": 24,
    "start_time": "2022-08-15T08:30:29.123Z"
   },
   {
    "duration": 17,
    "start_time": "2022-08-15T08:30:29.149Z"
   },
   {
    "duration": 9,
    "start_time": "2022-08-15T08:30:29.167Z"
   },
   {
    "duration": 10,
    "start_time": "2022-08-15T08:30:29.177Z"
   },
   {
    "duration": 16,
    "start_time": "2022-08-15T08:30:29.188Z"
   },
   {
    "duration": 32,
    "start_time": "2022-08-15T08:30:29.206Z"
   },
   {
    "duration": 13,
    "start_time": "2022-08-15T08:30:29.239Z"
   },
   {
    "duration": 14,
    "start_time": "2022-08-15T08:30:29.253Z"
   },
   {
    "duration": 14,
    "start_time": "2022-08-15T08:30:29.269Z"
   },
   {
    "duration": 1145,
    "start_time": "2022-08-15T08:30:29.284Z"
   },
   {
    "duration": 235,
    "start_time": "2022-08-15T08:30:30.430Z"
   },
   {
    "duration": 1493,
    "start_time": "2022-08-15T08:30:30.667Z"
   },
   {
    "duration": 160,
    "start_time": "2022-08-15T08:30:32.161Z"
   },
   {
    "duration": 172,
    "start_time": "2022-08-15T08:30:32.323Z"
   },
   {
    "duration": 149,
    "start_time": "2022-08-15T08:30:32.496Z"
   },
   {
    "duration": 1120,
    "start_time": "2022-08-15T08:30:32.647Z"
   },
   {
    "duration": 672,
    "start_time": "2022-08-15T08:30:33.769Z"
   },
   {
    "duration": 5,
    "start_time": "2022-08-15T08:30:34.442Z"
   },
   {
    "duration": 648,
    "start_time": "2022-08-15T08:30:34.448Z"
   },
   {
    "duration": 89,
    "start_time": "2022-08-15T08:30:35.098Z"
   },
   {
    "duration": 4,
    "start_time": "2022-08-15T08:30:35.190Z"
   },
   {
    "duration": 16,
    "start_time": "2022-08-15T08:30:35.195Z"
   },
   {
    "duration": 10,
    "start_time": "2022-08-15T08:30:35.212Z"
   },
   {
    "duration": 18,
    "start_time": "2022-08-15T08:30:35.223Z"
   },
   {
    "duration": 125,
    "start_time": "2022-08-15T08:30:35.242Z"
   },
   {
    "duration": 64,
    "start_time": "2022-08-15T08:30:35.369Z"
   },
   {
    "duration": 9,
    "start_time": "2022-08-15T08:30:35.435Z"
   },
   {
    "duration": 6,
    "start_time": "2022-08-15T08:30:35.445Z"
   },
   {
    "duration": 9,
    "start_time": "2022-08-15T08:30:35.452Z"
   },
   {
    "duration": 8,
    "start_time": "2022-08-15T08:30:35.462Z"
   },
   {
    "duration": 12,
    "start_time": "2022-08-15T08:30:35.472Z"
   },
   {
    "duration": 4,
    "start_time": "2022-08-15T08:30:35.486Z"
   },
   {
    "duration": 8,
    "start_time": "2022-08-15T08:30:35.491Z"
   },
   {
    "duration": 9,
    "start_time": "2022-08-15T08:30:35.500Z"
   },
   {
    "duration": 10,
    "start_time": "2022-08-15T08:30:35.510Z"
   },
   {
    "duration": 18,
    "start_time": "2022-08-15T08:30:35.521Z"
   },
   {
    "duration": 11,
    "start_time": "2022-08-15T08:30:35.540Z"
   },
   {
    "duration": 9,
    "start_time": "2022-08-15T08:30:35.552Z"
   },
   {
    "duration": 4,
    "start_time": "2022-08-15T08:30:35.562Z"
   },
   {
    "duration": 8,
    "start_time": "2022-08-15T08:30:35.568Z"
   },
   {
    "duration": 11,
    "start_time": "2022-08-15T08:30:35.577Z"
   },
   {
    "duration": 8,
    "start_time": "2022-08-15T08:30:35.589Z"
   },
   {
    "duration": 8,
    "start_time": "2022-08-15T08:30:35.598Z"
   },
   {
    "duration": 31,
    "start_time": "2022-08-15T08:30:35.608Z"
   },
   {
    "duration": 10,
    "start_time": "2022-08-15T08:30:35.641Z"
   },
   {
    "duration": 18,
    "start_time": "2022-08-15T08:30:35.653Z"
   },
   {
    "duration": 10,
    "start_time": "2022-08-15T08:30:35.673Z"
   },
   {
    "duration": 23,
    "start_time": "2022-08-15T08:30:35.685Z"
   },
   {
    "duration": 12,
    "start_time": "2022-08-15T08:30:35.709Z"
   },
   {
    "duration": 10,
    "start_time": "2022-08-15T08:30:35.723Z"
   },
   {
    "duration": 12,
    "start_time": "2022-08-15T08:30:35.734Z"
   },
   {
    "duration": 9,
    "start_time": "2022-08-15T08:30:35.747Z"
   },
   {
    "duration": 17,
    "start_time": "2022-08-15T08:30:35.757Z"
   },
   {
    "duration": 18,
    "start_time": "2022-08-15T08:30:35.775Z"
   },
   {
    "duration": 5,
    "start_time": "2022-08-15T08:30:35.794Z"
   },
   {
    "duration": 9,
    "start_time": "2022-08-15T08:30:35.800Z"
   },
   {
    "duration": 6,
    "start_time": "2022-08-15T08:30:35.811Z"
   },
   {
    "duration": 9,
    "start_time": "2022-08-15T08:30:35.818Z"
   },
   {
    "duration": 1249,
    "start_time": "2022-08-15T10:32:24.383Z"
   },
   {
    "duration": 2,
    "start_time": "2022-08-15T10:32:25.633Z"
   },
   {
    "duration": 80,
    "start_time": "2022-08-15T10:32:25.637Z"
   },
   {
    "duration": 82,
    "start_time": "2022-08-15T10:32:25.718Z"
   },
   {
    "duration": 0,
    "start_time": "2022-08-15T10:32:25.802Z"
   },
   {
    "duration": 0,
    "start_time": "2022-08-15T10:32:25.804Z"
   },
   {
    "duration": 0,
    "start_time": "2022-08-15T10:32:25.805Z"
   },
   {
    "duration": 0,
    "start_time": "2022-08-15T10:32:25.806Z"
   },
   {
    "duration": 0,
    "start_time": "2022-08-15T10:32:25.806Z"
   },
   {
    "duration": 0,
    "start_time": "2022-08-15T10:32:25.807Z"
   },
   {
    "duration": 0,
    "start_time": "2022-08-15T10:32:25.809Z"
   },
   {
    "duration": 0,
    "start_time": "2022-08-15T10:32:25.810Z"
   },
   {
    "duration": 0,
    "start_time": "2022-08-15T10:32:25.811Z"
   },
   {
    "duration": 0,
    "start_time": "2022-08-15T10:32:25.812Z"
   },
   {
    "duration": 0,
    "start_time": "2022-08-15T10:32:25.812Z"
   },
   {
    "duration": 0,
    "start_time": "2022-08-15T10:32:25.813Z"
   },
   {
    "duration": 0,
    "start_time": "2022-08-15T10:32:25.814Z"
   },
   {
    "duration": 0,
    "start_time": "2022-08-15T10:32:25.815Z"
   },
   {
    "duration": 0,
    "start_time": "2022-08-15T10:32:25.816Z"
   },
   {
    "duration": 0,
    "start_time": "2022-08-15T10:32:25.817Z"
   },
   {
    "duration": 0,
    "start_time": "2022-08-15T10:32:25.819Z"
   },
   {
    "duration": 0,
    "start_time": "2022-08-15T10:32:25.820Z"
   },
   {
    "duration": 0,
    "start_time": "2022-08-15T10:32:25.821Z"
   },
   {
    "duration": 0,
    "start_time": "2022-08-15T10:32:25.822Z"
   },
   {
    "duration": 0,
    "start_time": "2022-08-15T10:32:25.855Z"
   },
   {
    "duration": 0,
    "start_time": "2022-08-15T10:32:25.856Z"
   },
   {
    "duration": 0,
    "start_time": "2022-08-15T10:32:25.857Z"
   },
   {
    "duration": 0,
    "start_time": "2022-08-15T10:32:25.858Z"
   },
   {
    "duration": 0,
    "start_time": "2022-08-15T10:32:25.859Z"
   },
   {
    "duration": 0,
    "start_time": "2022-08-15T10:32:25.860Z"
   },
   {
    "duration": 0,
    "start_time": "2022-08-15T10:32:25.861Z"
   },
   {
    "duration": 0,
    "start_time": "2022-08-15T10:32:25.862Z"
   },
   {
    "duration": 0,
    "start_time": "2022-08-15T10:32:25.863Z"
   },
   {
    "duration": 0,
    "start_time": "2022-08-15T10:32:25.864Z"
   },
   {
    "duration": 0,
    "start_time": "2022-08-15T10:32:25.864Z"
   },
   {
    "duration": 0,
    "start_time": "2022-08-15T10:32:25.865Z"
   },
   {
    "duration": 9,
    "start_time": "2022-08-15T10:32:28.054Z"
   },
   {
    "duration": 4,
    "start_time": "2022-08-15T10:32:47.856Z"
   },
   {
    "duration": 2,
    "start_time": "2022-08-15T10:32:48.158Z"
   },
   {
    "duration": 62,
    "start_time": "2022-08-15T10:32:51.456Z"
   },
   {
    "duration": 8,
    "start_time": "2022-08-15T10:32:54.917Z"
   },
   {
    "duration": 8,
    "start_time": "2022-08-15T10:33:05.257Z"
   },
   {
    "duration": 61,
    "start_time": "2022-08-15T10:37:11.592Z"
   },
   {
    "duration": 123,
    "start_time": "2022-08-15T10:38:08.685Z"
   },
   {
    "duration": 200,
    "start_time": "2022-08-15T10:38:13.589Z"
   },
   {
    "duration": 8,
    "start_time": "2022-08-15T10:39:13.705Z"
   },
   {
    "duration": 3,
    "start_time": "2022-08-15T10:39:51.158Z"
   },
   {
    "duration": 4,
    "start_time": "2022-08-15T10:40:22.056Z"
   },
   {
    "duration": 7,
    "start_time": "2022-08-15T10:42:33.053Z"
   },
   {
    "duration": 4,
    "start_time": "2022-08-15T10:43:34.377Z"
   },
   {
    "duration": 3,
    "start_time": "2022-08-15T10:49:10.228Z"
   },
   {
    "duration": 3,
    "start_time": "2022-08-15T10:49:39.890Z"
   },
   {
    "duration": 3,
    "start_time": "2022-08-15T10:49:40.392Z"
   },
   {
    "duration": 14,
    "start_time": "2022-08-15T10:49:40.552Z"
   },
   {
    "duration": 11,
    "start_time": "2022-08-15T10:49:40.667Z"
   },
   {
    "duration": 4,
    "start_time": "2022-08-15T10:49:40.779Z"
   },
   {
    "duration": 5,
    "start_time": "2022-08-15T10:49:40.907Z"
   },
   {
    "duration": 13,
    "start_time": "2022-08-15T10:49:41.003Z"
   },
   {
    "duration": 10,
    "start_time": "2022-08-15T10:49:41.121Z"
   },
   {
    "duration": 5,
    "start_time": "2022-08-15T10:49:41.316Z"
   },
   {
    "duration": 5,
    "start_time": "2022-08-15T10:49:41.466Z"
   },
   {
    "duration": 5,
    "start_time": "2022-08-15T10:49:41.866Z"
   },
   {
    "duration": 5,
    "start_time": "2022-08-15T10:49:42.066Z"
   },
   {
    "duration": 9,
    "start_time": "2022-08-15T10:49:42.192Z"
   },
   {
    "duration": 6,
    "start_time": "2022-08-15T10:49:42.320Z"
   },
   {
    "duration": 8,
    "start_time": "2022-08-15T10:49:42.452Z"
   },
   {
    "duration": 7,
    "start_time": "2022-08-15T10:49:42.554Z"
   },
   {
    "duration": 4,
    "start_time": "2022-08-15T10:49:42.983Z"
   },
   {
    "duration": 3,
    "start_time": "2022-08-15T10:49:43.093Z"
   },
   {
    "duration": 4,
    "start_time": "2022-08-15T10:49:43.193Z"
   },
   {
    "duration": 4,
    "start_time": "2022-08-15T10:49:43.281Z"
   },
   {
    "duration": 4,
    "start_time": "2022-08-15T10:49:43.400Z"
   },
   {
    "duration": 5,
    "start_time": "2022-08-15T10:49:43.501Z"
   },
   {
    "duration": 8,
    "start_time": "2022-08-15T10:49:43.845Z"
   },
   {
    "duration": 9,
    "start_time": "2022-08-15T10:49:43.949Z"
   },
   {
    "duration": 17,
    "start_time": "2022-08-15T10:49:44.052Z"
   },
   {
    "duration": 7,
    "start_time": "2022-08-15T10:49:44.156Z"
   },
   {
    "duration": 1267,
    "start_time": "2022-08-15T10:49:44.266Z"
   },
   {
    "duration": 250,
    "start_time": "2022-08-15T10:49:45.534Z"
   },
   {
    "duration": 1414,
    "start_time": "2022-08-15T10:49:45.785Z"
   },
   {
    "duration": 181,
    "start_time": "2022-08-15T10:49:47.200Z"
   },
   {
    "duration": 247,
    "start_time": "2022-08-15T10:49:54.179Z"
   },
   {
    "duration": 147,
    "start_time": "2022-08-15T10:49:54.428Z"
   },
   {
    "duration": 1234,
    "start_time": "2022-08-15T10:49:56.166Z"
   },
   {
    "duration": 11,
    "start_time": "2022-08-15T10:49:57.402Z"
   },
   {
    "duration": 4,
    "start_time": "2022-08-15T10:50:41.076Z"
   },
   {
    "duration": 7,
    "start_time": "2022-08-15T10:50:44.161Z"
   },
   {
    "duration": 10,
    "start_time": "2022-08-15T10:51:03.083Z"
   },
   {
    "duration": 8,
    "start_time": "2022-08-15T10:51:22.603Z"
   },
   {
    "duration": 8,
    "start_time": "2022-08-15T10:51:30.908Z"
   },
   {
    "duration": 11,
    "start_time": "2022-08-15T10:52:20.980Z"
   },
   {
    "duration": 10,
    "start_time": "2022-08-15T10:54:10.688Z"
   },
   {
    "duration": 8,
    "start_time": "2022-08-15T10:54:14.408Z"
   },
   {
    "duration": 6,
    "start_time": "2022-08-15T10:54:39.169Z"
   },
   {
    "duration": 13,
    "start_time": "2022-08-15T10:56:15.260Z"
   },
   {
    "duration": 19,
    "start_time": "2022-08-15T10:56:19.565Z"
   },
   {
    "duration": 19,
    "start_time": "2022-08-15T10:56:42.738Z"
   },
   {
    "duration": 16,
    "start_time": "2022-08-15T10:56:52.514Z"
   },
   {
    "duration": 22,
    "start_time": "2022-08-15T10:57:43.193Z"
   },
   {
    "duration": 22,
    "start_time": "2022-08-15T10:57:51.203Z"
   },
   {
    "duration": 20,
    "start_time": "2022-08-15T10:58:45.792Z"
   },
   {
    "duration": 20,
    "start_time": "2022-08-15T10:58:59.442Z"
   },
   {
    "duration": 19,
    "start_time": "2022-08-15T10:59:12.898Z"
   },
   {
    "duration": 28,
    "start_time": "2022-08-15T10:59:18.862Z"
   },
   {
    "duration": 22,
    "start_time": "2022-08-15T10:59:49.676Z"
   },
   {
    "duration": 19,
    "start_time": "2022-08-15T11:01:27.572Z"
   },
   {
    "duration": 24,
    "start_time": "2022-08-15T11:01:46.755Z"
   },
   {
    "duration": 19,
    "start_time": "2022-08-15T11:02:15.372Z"
   },
   {
    "duration": 26,
    "start_time": "2022-08-15T11:03:52.958Z"
   },
   {
    "duration": 6,
    "start_time": "2022-08-15T11:05:06.299Z"
   },
   {
    "duration": 11,
    "start_time": "2022-08-15T11:06:16.069Z"
   },
   {
    "duration": 10,
    "start_time": "2022-08-15T11:06:45.353Z"
   },
   {
    "duration": 194,
    "start_time": "2022-08-15T11:08:13.316Z"
   },
   {
    "duration": 109,
    "start_time": "2022-08-15T11:08:32.049Z"
   },
   {
    "duration": 102,
    "start_time": "2022-08-15T11:08:42.602Z"
   },
   {
    "duration": 203,
    "start_time": "2022-08-15T11:08:45.253Z"
   },
   {
    "duration": 207,
    "start_time": "2022-08-15T11:09:50.680Z"
   },
   {
    "duration": 117,
    "start_time": "2022-08-15T11:10:32.678Z"
   },
   {
    "duration": 317,
    "start_time": "2022-08-15T11:10:36.698Z"
   }
  ],
  "kernelspec": {
   "display_name": "Python 3 (ipykernel)",
   "language": "python",
   "name": "python3"
  },
  "language_info": {
   "codemirror_mode": {
    "name": "ipython",
    "version": 3
   },
   "file_extension": ".py",
   "mimetype": "text/x-python",
   "name": "python",
   "nbconvert_exporter": "python",
   "pygments_lexer": "ipython3",
   "version": "3.9.7"
  },
  "toc": {
   "base_numbering": 1,
   "nav_menu": {},
   "number_sections": true,
   "sideBar": true,
   "skip_h1_title": true,
   "title_cell": "Table of Contents",
   "title_sidebar": "Contents",
   "toc_cell": false,
   "toc_position": {},
   "toc_section_display": true,
   "toc_window_display": true
  }
 },
 "nbformat": 4,
 "nbformat_minor": 2
}
